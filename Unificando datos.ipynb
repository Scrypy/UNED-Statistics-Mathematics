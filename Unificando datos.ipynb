{
 "cells": [
  {
   "cell_type": "markdown",
   "metadata": {},
   "source": [
    "![image](new-statistics.jpg)"
   ]
  },
  {
   "cell_type": "markdown",
   "metadata": {},
   "source": [
    "# <center> Estadísticas UNED </center>"
   ]
  },
  {
   "cell_type": "markdown",
   "metadata": {},
   "source": [
    "# <center> Grado en matemáticas </center>"
   ]
  },
  {
   "cell_type": "markdown",
   "metadata": {},
   "source": [
    "Este es un pequeño resumen de algunas de las estadísticas de las asignaturas del Grado en Matemáticas de la UNED.\n",
    "\n",
    "He creido conveniente unificar las estadísticas de varios años para cada asignatura para que sea fácil y rápido comparar ~~la dificultad~~ las asignaturas entre sí."
   ]
  },
  {
   "cell_type": "markdown",
   "metadata": {},
   "source": [
    "## Definiciones"
   ]
  },
  {
   "cell_type": "markdown",
   "metadata": {},
   "source": [
    "#### <a name='tasadeexitoenexamenes'/>Tasa de éxito en exámenes </a>\n",
    "$$ \\text{Tasa de éxito de examenes realizados} = \\frac{\\text{Exámenes aptos}}{\\text{Exámenes realizados}} $$"
   ]
  },
  {
   "cell_type": "markdown",
   "metadata": {},
   "source": [
    "## <a name='codigofuente'/>Código fuente </a>"
   ]
  },
  {
   "cell_type": "code",
   "execution_count": 1,
   "metadata": {
    "collapsed": false
   },
   "outputs": [
    {
     "data": {
      "text/html": [
       "<script>requirejs.config({paths: { 'plotly': ['https://cdn.plot.ly/plotly-latest.min']},});if(!window.Plotly) {{require(['plotly'],function(plotly) {window.Plotly=plotly;});}}</script>"
      ],
      "text/plain": [
       "<IPython.core.display.HTML object>"
      ]
     },
     "metadata": {},
     "output_type": "display_data"
    }
   ],
   "source": [
    "import os\n",
    "import pandas as pd\n",
    "import numpy as np\n",
    "import matplotlib\n",
    "import matplotlib.pyplot as plt\n",
    "from IPython.display import display, Markdown\n",
    "import random # TODO: Delete when finished\n",
    "import plotly.plotly as py\n",
    "\n",
    "# line for plotting in SVG format\n",
    "# %config InlineBackend.figure_format = 'svg'\n",
    "\n",
    "%matplotlib inline\n",
    "\n",
    "import plotly\n",
    "import plotly.offline as py\n",
    "import plotly.graph_objs as go\n",
    "# run at the start of every ipython notebook to use plotly.offline\n",
    "py.init_notebook_mode(connected=True) # this injects the plotly.js source files into the notebook"
   ]
  },
  {
   "cell_type": "code",
   "execution_count": 2,
   "metadata": {
    "collapsed": false
   },
   "outputs": [],
   "source": [
    "DIRECTORY = '/Users/Dani/Documents/Desarrollo/Data_analysis/UNED/Grado_Matematicas/input/csv'\n",
    "data = pd.DataFrame()\n",
    "list_ = []\n",
    "files = [f for f in os.listdir(DIRECTORY) if f[0] is not '.']\n",
    "for file in files:\n",
    "    df = pd.read_csv(os.path.join(DIRECTORY, file), header=2, decimal=',')\n",
    "    list_.append(df)\n",
    "data = pd.concat(list_)\n",
    "\n",
    "# Deleting columns with no students data\n",
    "mask = data['ESTUD. MATRICULADOS'] == 0\n",
    "data = data[~mask]"
   ]
  },
  {
   "cell_type": "code",
   "execution_count": 3,
   "metadata": {
    "collapsed": false
   },
   "outputs": [],
   "source": [
    "def subject_name(subject_id):\n",
    "    return data[data['ID'] == str(subject_id)].iloc[0, 4]"
   ]
  },
  {
   "cell_type": "code",
   "execution_count": 4,
   "metadata": {
    "collapsed": false,
    "scrolled": false
   },
   "outputs": [],
   "source": [
    "identifiers = data.loc[:, 'ID'].unique()\n",
    "# display(Markdown(\"<a id='indice'></a>\"))\n",
    "# for n in range(1,5):\n",
    "#     display(Markdown(\"## Curso {}\".format(str(n))))\n",
    "#     for element in identifiers:\n",
    "#         if element[4] == str(n):\n",
    "#             text = \"[{} - {}](#{})\".format(subject_name(element), element, element)\n",
    "#             display(Markdown(text))"
   ]
  },
  {
   "cell_type": "code",
   "execution_count": 5,
   "metadata": {
    "collapsed": false
   },
   "outputs": [],
   "source": [
    "def success_rate(i, year):\n",
    "    mask = (data['CURSO'] == year) & (data['ID'] == str(i))\n",
    "    return float(data[mask]['Nº EXÁM. APTOS']/data[mask]['Nº EXÁM. REALIZADOS'])"
   ]
  },
  {
   "cell_type": "code",
   "execution_count": 6,
   "metadata": {
    "collapsed": false
   },
   "outputs": [],
   "source": [
    "def subjects_by_curso(c):\n",
    "    return [element for element in identifiers if element[4] == str(c)]"
   ]
  },
  {
   "cell_type": "code",
   "execution_count": 7,
   "metadata": {
    "collapsed": true
   },
   "outputs": [],
   "source": [
    "def subject_years(i):\n",
    "    return np.array(data.loc[data['ID'] == str(i), 'CURSO'])"
   ]
  },
  {
   "cell_type": "code",
   "execution_count": 8,
   "metadata": {
    "collapsed": false
   },
   "outputs": [],
   "source": [
    "def show_success_rate(subject_id):\n",
    "    name = subject_name(subject_id)\n",
    "    \n",
    "    link = \"<a id='{}'></a>\".format(subject_id)\n",
    "    head = \"### {} - {} - ([Volver al índice](#indice))\".format(name, subject_id)\n",
    "    display(Markdown(link))\n",
    "    display(Markdown(head))\n",
    "    \n",
    "    with plt.style.context('bmh'):\n",
    "        colors = ['#339f34', '#ececec']\n",
    "        labels = ['Aptos', 'No aptos']\n",
    "        plt.figure(0, figsize=(6, 6))\n",
    "        plt.rcParams['font.size'] = 9.0\n",
    "        \n",
    "        ax1 = plt.subplot2grid((3, 3), (2, 0))\n",
    "        ax2 = plt.subplot2grid((3, 3), (1, 0))\n",
    "        ax3 = plt.subplot2grid((3, 3), (0, 0))\n",
    "        ax4 = plt.subplot2grid((3, 3), (0, 1))\n",
    "        ax5 = plt.subplot2grid((3, 3), (0, 2))\n",
    "        ax6 = plt.subplot2grid((3, 3), (1, 1), colspan=2, rowspan=2)\n",
    "        ax = [ax1, ax2, ax3, ax4, ax5, ax6]\n",
    "        plt.suptitle('Tasa de éxito en examenes - ' + name)\n",
    "    \n",
    "        years = subject_years(subject_id)\n",
    "        if years.size > 5:\n",
    "            print('ERROR: too many data: redesign grid')\n",
    "    \n",
    "        for index, year in enumerate(reversed(years)):\n",
    "            complementary_graph_index = 4 - index\n",
    "            x = success_rate(subject_id, year)\n",
    "            ax[complementary_graph_index].pie([x, 1 - x], colors=colors, autopct='%1.2f%%', startangle=90)\n",
    "            ax[complementary_graph_index].set_title(str(year), fontsize=8)\n",
    "    \n",
    "        x = np.array([success_rate(subject_id, n) for n in years]).mean()\n",
    "        patches, t1, t2 = ax[5].pie([x, 1 - x], colors=colors, autopct='%1.2f%%', startangle=90)\n",
    "        ax[5].set_title('Media', fontsize=8)\n",
    "        plt.legend(patches, labels, loc='best')\n",
    "    \n",
    "    plt.axis('equal')\n",
    "    plt.show()"
   ]
  },
  {
   "cell_type": "code",
   "execution_count": null,
   "metadata": {
    "collapsed": false,
    "scrolled": false
   },
   "outputs": [],
   "source": []
  },
  {
   "cell_type": "code",
   "execution_count": null,
   "metadata": {
    "collapsed": false
   },
   "outputs": [],
   "source": []
  },
  {
   "cell_type": "code",
   "execution_count": null,
   "metadata": {
    "collapsed": false
   },
   "outputs": [],
   "source": []
  },
  {
   "cell_type": "code",
   "execution_count": null,
   "metadata": {
    "collapsed": false
   },
   "outputs": [],
   "source": []
  },
  {
   "cell_type": "code",
   "execution_count": 11,
   "metadata": {
    "collapsed": false,
    "scrolled": false
   },
   "outputs": [
    {
     "name": "stdout",
     "output_type": "stream",
     "text": [
      "ÁLGEBRA (MATEMÁTICAS)\n"
     ]
    },
    {
     "data": {
      "text/plain": [
       "0.59610348261418744"
      ]
     },
     "execution_count": 11,
     "metadata": {},
     "output_type": "execute_result"
    }
   ],
   "source": [
    "random_subject = identifiers[random.randint(0,identifiers.size - 1)]\n",
    "print(subject_name(random_subject))\n",
    "rates = np.array([success_rate(random_subject, i) for i in subject_years(random_subject)])\n",
    "rates.mean()"
   ]
  },
  {
   "cell_type": "code",
   "execution_count": 12,
   "metadata": {
    "collapsed": false
   },
   "outputs": [],
   "source": [
    "subject_rate_means = []\n",
    "names = np.array([subject_name(s) for s in identifiers])\n",
    "for subject in identifiers:\n",
    "    rates = np.array([success_rate(subject, year) for year in subject_years(subject)])\n",
    "    subject_rate_means.append(rates.mean())"
   ]
  },
  {
   "cell_type": "code",
   "execution_count": 13,
   "metadata": {
    "collapsed": false
   },
   "outputs": [],
   "source": [
    "df = pd.DataFrame({'Subject': names, 'Success rate': subject_rate_means})"
   ]
  },
  {
   "cell_type": "code",
   "execution_count": 14,
   "metadata": {
    "collapsed": false
   },
   "outputs": [],
   "source": [
    "df = df.sort_values(by='Success rate')"
   ]
  },
  {
   "cell_type": "code",
   "execution_count": 15,
   "metadata": {
    "collapsed": false
   },
   "outputs": [],
   "source": [
    "trace = go.Bar(\n",
    "    y = df['Success rate'].values,\n",
    "    text = df['Subject'].values\n",
    ")"
   ]
  },
  {
   "cell_type": "code",
   "execution_count": null,
   "metadata": {
    "collapsed": false
   },
   "outputs": [],
   "source": []
  },
  {
   "cell_type": "code",
   "execution_count": 16,
   "metadata": {
    "collapsed": false
   },
   "outputs": [],
   "source": [
    "d = [trace]"
   ]
  },
  {
   "cell_type": "code",
   "execution_count": 17,
   "metadata": {
    "collapsed": false
   },
   "outputs": [
    {
     "data": {
      "text/html": [
       "<div id=\"66c9f673-a612-43d7-bec6-29123cfeeb57\" style=\"height: 525px; width: 100%;\" class=\"plotly-graph-div\"></div><script type=\"text/javascript\">require([\"plotly\"], function(Plotly) { window.PLOTLYENV=window.PLOTLYENV || {};window.PLOTLYENV.BASE_URL=\"https://plot.ly\";Plotly.newPlot(\"66c9f673-a612-43d7-bec6-29123cfeeb57\", [{\"text\": [\"MODELOS ESTOC\\u00c1STICOS\", \"C\\u00c1LCULO DE PROBABILIDADES I\", \"F\\u00cdSICA\", \"TEOR\\u00cdA DE LA DECISI\\u00d3N\", \"C\\u00c1LCULO DE PROBABILIDADES II\", \"\\u00c1LGEBRA LINEAL II\", \"FUNCIONES DE UNA VARIABLE II\", \"PROCESOS ESTOC\\u00c1STICOS\", \"\\u00c1LGEBRA LINEAL I\", \"GEOMETR\\u00cdAS LINEALES\", \"ESTRUCTURAS ALGEBRAICAS\", \"LENGUAJE MATEM\\u00c1TICO, CONJUNTOS Y N\\u00daMEROS\", \"ESPACIOS NORMADOS\", \"MODELOS DE REGRESI\\u00d3N\", \"MATEM\\u00c1TICA DISCRETA\", \"INFERENCIA ESTAD\\u00cdSTICA (MATEM\\u00c1TICAS)\", \"VARIABLE COMPLEJA\", \"F\\u00cdSICA MATEM\\u00c1TICA\", \"AN\\u00c1LISIS MULTIVARIANTE (MATEM\\u00c1TICAS)\", \"\\u00c1LGEBRA (MATEM\\u00c1TICAS)\", \"GEOMETR\\u00cdA B\\u00c1SICA\", \"FUNCIONES DE UNA VARIABLE I\", \"PROGRAMACI\\u00d3N LINEAL Y ENTERA\", \"INTRODUCCI\\u00d3N A LOS ESPACIOS DE HILBERT\", \"ESTAD\\u00cdSTICA B\\u00c1SICA\", \"FUNCIONES DE VARIAS VARIABLES I\", \"GEOMETR\\u00cdA DIFERENCIAL DE CURVAS Y SUPERFICIES\", \"AN\\u00c1LISIS NUM\\u00c9RICO MATRICIAL E INTERPOLACI\\u00d3N\", \"ASTROF\\u00cdSICA GENERAL\", \"TOPOLOG\\u00cdA\", \"AMPLIACI\\u00d3N DE VARIABLE COMPLEJA\", \"HERRAMIENTAS INFORM\\u00c1TICAS PARA MATEM\\u00c1TICAS\", \"LENGUAJES DE PROGRAMACI\\u00d3N\", \"TEOR\\u00cdA DE JUEGOS (MATEM\\u00c1TICAS)\", \"INGL\\u00c9S CIENT\\u00cdFICO\", \"AMPLIACI\\u00d3N DE TOPOLOG\\u00cdA\", \"TEOR\\u00cdA DE MUESTRAS\", \"INTEGRAL DE LEBESGUE\", \"RESOLUCI\\u00d3N NUM\\u00c9RICA DE ECUACIONES\", \"CAMPOS Y FORMAS\", \"HISTORIA DE LAS MATEM\\u00c1TICAS\", \"MODELIZACI\\u00d3N\", \"GEOMETR\\u00cdA DIFERENCIAL\", \"INTRODUCCI\\u00d3N A LA ASTRONOM\\u00cdA\", \"INTRODUCCI\\u00d3N A LAS ECUACIONES DIFERENCIALES\", \"FUNCIONES DE VARIAS VARIABLES II\", \"SISTEMAS DIN\\u00c1MICOS\", \"AN\\u00c1LISIS DE FOURIER Y ECUACIONES EN DERIVADAS PARCIALES\", \"TRABAJO FIN DE GRADO (MATEM\\u00c1TICAS)\"], \"type\": \"bar\", \"y\": [0.16346153846153846, 0.329860448563597, 0.3919758342767551, 0.3984848484848485, 0.42178265221743483, 0.4478777336437931, 0.4688908790011731, 0.4916666666666667, 0.4923503394466616, 0.5222681451612904, 0.5308978931378376, 0.5390151410891024, 0.5394736842105263, 0.5473145780051151, 0.5612255679482799, 0.5648926237161532, 0.58187564499484, 0.5833333333333333, 0.5923076923076923, 0.5961034826141874, 0.6036925245421608, 0.6203657253148958, 0.6373847486029602, 0.6393530997304583, 0.6433294204276614, 0.6462293673340517, 0.6484567901234567, 0.6563237657272958, 0.6805555555555556, 0.7122310639552017, 0.713903743315508, 0.7432396850237226, 0.7459856154877733, 0.7670250896057347, 0.7788461538461539, 0.7986111111111112, 0.8125, 0.8148148148148149, 0.8153198653198653, 0.822822105430801, 0.8267045454545454, 0.8279375696767001, 0.8666666666666667, 0.8770833333333333, 0.883028083028083, 0.8972531566566242, 0.9166666666666666, 0.9170653907496013, 1.0]}], {}, {\"linkText\": \"Export to plot.ly\", \"showLink\": true})});</script>"
      ],
      "text/plain": [
       "<IPython.core.display.HTML object>"
      ]
     },
     "metadata": {},
     "output_type": "display_data"
    }
   ],
   "source": [
    "py.iplot(d)"
   ]
  },
  {
   "cell_type": "code",
   "execution_count": 18,
   "metadata": {
    "collapsed": false
   },
   "outputs": [
    {
     "name": "stdout",
     "output_type": "stream",
     "text": [
      "AMPLIACIÓN DE TOPOLOGÍA\n",
      "AMPLIACIÓN DE VARIABLE COMPLEJA\n",
      "ANÁLISIS MULTIVARIANTE (MATEMÁTICAS)\n",
      "ASTROFÍSICA GENERAL\n",
      "ESPACIOS NORMADOS\n",
      "FÍSICA MATEMÁTICA\n",
      "GEOMETRÍA DIFERENCIAL\n",
      "HISTORIA DE LAS MATEMÁTICAS\n",
      "INGLÉS CIENTÍFICO\n",
      "INTEGRAL DE LEBESGUE\n",
      "INTRODUCCIÓN A LA ASTRONOMÍA\n",
      "MODELOS DE REGRESIÓN\n",
      "MODELOS ESTOCÁSTICOS\n",
      "PROCESOS ESTOCÁSTICOS\n",
      "TEORÍA DE JUEGOS (MATEMÁTICAS)\n",
      "TEORÍA DE LA DECISIÓN\n",
      "TEORÍA DE MUESTRAS\n",
      "TRABAJO FIN DE GRADO (MATEMÁTICAS)\n",
      "SISTEMAS DINÁMICOS\n"
     ]
    }
   ],
   "source": [
    "for s in subjects_by_curso(4):\n",
    "    print(subject_name(s))"
   ]
  },
  {
   "cell_type": "code",
   "execution_count": null,
   "metadata": {
    "collapsed": true
   },
   "outputs": [],
   "source": []
  },
  {
   "cell_type": "code",
   "execution_count": 19,
   "metadata": {
    "collapsed": false
   },
   "outputs": [
    {
     "data": {
      "text/plain": [
       "'FUNCIONES DE UNA VARIABLE I'"
      ]
     },
     "execution_count": 19,
     "metadata": {},
     "output_type": "execute_result"
    }
   ],
   "source": [
    "subject_name(61021022)"
   ]
  },
  {
   "cell_type": "code",
   "execution_count": 23,
   "metadata": {
    "collapsed": false
   },
   "outputs": [
    {
     "data": {
      "text/markdown": [
       "<a id='61021039'></a>"
      ],
      "text/plain": [
       "<IPython.core.display.Markdown object>"
      ]
     },
     "metadata": {},
     "output_type": "display_data"
    },
    {
     "data": {
      "text/markdown": [
       "### LENGUAJE MATEMÁTICO, CONJUNTOS Y NÚMEROS - 61021039 - ([Volver al índice](#indice))"
      ],
      "text/plain": [
       "<IPython.core.display.Markdown object>"
      ]
     },
     "metadata": {},
     "output_type": "display_data"
    },
    {
     "data": {
      "image/png": "[encoded data removed]",
      "text/plain": [
       "<matplotlib.figure.Figure at 0x11636e7f0>"
      ]
     },
     "metadata": {},
     "output_type": "display_data"
    }
   ],
   "source": [
    "show_success_rate(61021039)"
   ]
  },
  {
   "cell_type": "code",
   "execution_count": 22,
   "metadata": {
    "collapsed": false,
    "scrolled": false
   },
   "outputs": [
    {
     "data": {
      "text/plain": [
       "array([2011, 2012, 2013, 2014, 2015])"
      ]
     },
     "execution_count": 22,
     "metadata": {},
     "output_type": "execute_result"
    }
   ],
   "source": [
    "subject_years(61021039)"
   ]
  },
  {
   "cell_type": "code",
   "execution_count": null,
   "metadata": {
    "collapsed": false
   },
   "outputs": [],
   "source": []
  },
  {
   "cell_type": "code",
   "execution_count": null,
   "metadata": {
    "collapsed": false
   },
   "outputs": [],
   "source": []
  },
  {
   "cell_type": "code",
   "execution_count": null,
   "metadata": {
    "collapsed": true
   },
   "outputs": [],
   "source": []
  },
  {
   "cell_type": "code",
   "execution_count": null,
   "metadata": {
    "collapsed": false
   },
   "outputs": [],
   "source": []
  },
  {
   "cell_type": "code",
   "execution_count": null,
   "metadata": {
    "collapsed": false
   },
   "outputs": [],
   "source": []
  },
  {
   "cell_type": "code",
   "execution_count": null,
   "metadata": {
    "collapsed": true
   },
   "outputs": [],
   "source": []
  }
 ],
 "metadata": {
  "kernelspec": {
   "display_name": "Python 3",
   "language": "python",
   "name": "python3"
  },
  "language_info": {
   "codemirror_mode": {
    "name": "ipython",
    "version": 3
   },
   "file_extension": ".py",
   "mimetype": "text/x-python",
   "name": "python",
   "nbconvert_exporter": "python",
   "pygments_lexer": "ipython3",
   "version": "3.5.2"
  }
 },
 "nbformat": 4,
 "nbformat_minor": 0
}
