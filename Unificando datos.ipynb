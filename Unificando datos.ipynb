{
 "cells": [
  {
   "cell_type": "markdown",
   "metadata": {},
   "source": [
    "![image](new-statistics.jpg)"
   ]
  },
  {
   "cell_type": "markdown",
   "metadata": {},
   "source": [
    "# <center> Estadísticas UNED </center>"
   ]
  },
  {
   "cell_type": "markdown",
   "metadata": {},
   "source": [
    "# <center> Grado en matemáticas </center>"
   ]
  },
  {
   "cell_type": "markdown",
   "metadata": {},
   "source": [
    "Este es un pequeño resumen de algunas de las estadísticas de las asignaturas del Grado en Matemáticas de la UNED.\n",
    "\n",
    "He creido conveniente unificar las estadísticas de varios años para cada asignatura para que sea fácil y rápido comparar ~~la dificultad~~ las asignaturas entre sí."
   ]
  },
  {
   "cell_type": "markdown",
   "metadata": {},
   "source": [
    "## Definiciones"
   ]
  },
  {
   "cell_type": "markdown",
   "metadata": {},
   "source": [
    "#### <a name='tasadeexitoenexamenes'/>Tasa de éxito en exámenes </a>\n",
    "$$ \\text{Tasa de éxito de examenes realizados} = \\frac{\\text{Exámenes aptos}}{\\text{Exámenes realizados}} $$"
   ]
  },
  {
   "cell_type": "markdown",
   "metadata": {},
   "source": [
    "## <a name='codigofuente'/>Código fuente </a>"
   ]
  },
  {
   "cell_type": "code",
   "execution_count": 1,
   "metadata": {
    "collapsed": false
   },
   "outputs": [
    {
     "data": {
      "text/html": [
       "<script>requirejs.config({paths: { 'plotly': ['https://cdn.plot.ly/plotly-latest.min']},});if(!window.Plotly) {{require(['plotly'],function(plotly) {window.Plotly=plotly;});}}</script>"
      ],
      "text/plain": [
       "<IPython.core.display.HTML object>"
      ]
     },
     "metadata": {},
     "output_type": "display_data"
    }
   ],
   "source": [
    "import os\n",
    "import pandas as pd\n",
    "import numpy as np\n",
    "import matplotlib\n",
    "import matplotlib.pyplot as plt\n",
    "from IPython.display import display, Markdown\n",
    "import random # TODO: Delete when finished\n",
    "import plotly.plotly as py\n",
    "\n",
    "# line for plotting in SVG format\n",
    "# %config InlineBackend.figure_format = 'svg'\n",
    "\n",
    "%matplotlib inline\n",
    "\n",
    "import plotly\n",
    "import plotly.offline as py\n",
    "import plotly.graph_objs as go\n",
    "# run at the start of every ipython notebook to use plotly.offline\n",
    "py.init_notebook_mode(connected=True) # this injects the plotly.js source files into the notebook"
   ]
  },
  {
   "cell_type": "code",
   "execution_count": 2,
   "metadata": {
    "collapsed": false
   },
   "outputs": [],
   "source": [
    "DIRECTORY = '/Users/Dani/Documents/Desarrollo/Data_analysis/UNED/UNED-Statistics-Mathematics/input/'\n",
    "data = pd.DataFrame()\n",
    "list_ = []\n",
    "files = [f for f in os.listdir(DIRECTORY) if f[0] is not '.']\n",
    "for file in files:\n",
    "    df = pd.read_csv(os.path.join(DIRECTORY, file), header=2, decimal=',')\n",
    "    list_.append(df)\n",
    "data = pd.concat(list_)\n",
    "\n",
    "# Deleting columns with no students data\n",
    "mask = data['ESTUD. MATRICULADOS'] == 0\n",
    "data = data[~mask]"
   ]
  },
  {
   "cell_type": "code",
   "execution_count": 3,
   "metadata": {
    "collapsed": false
   },
   "outputs": [],
   "source": [
    "def subject_name(subject_id):\n",
    "    return data[data['ID'] == str(subject_id)].iloc[0, 4]"
   ]
  },
  {
   "cell_type": "code",
   "execution_count": 4,
   "metadata": {
    "collapsed": false,
    "scrolled": false
   },
   "outputs": [],
   "source": [
    "identifiers = data.loc[:, 'ID'].unique()\n",
    "# display(Markdown(\"<a id='indice'></a>\"))\n",
    "# for n in range(1,5):\n",
    "#     display(Markdown(\"## Curso {}\".format(str(n))))\n",
    "#     for element in identifiers:\n",
    "#         if element[4] == str(n):\n",
    "#             text = \"[{} - {}](#{})\".format(subject_name(element), element, element)\n",
    "#             display(Markdown(text))"
   ]
  },
  {
   "cell_type": "code",
   "execution_count": 5,
   "metadata": {
    "collapsed": false
   },
   "outputs": [],
   "source": [
    "def success_rate(i, year):\n",
    "    mask = (data['CURSO'] == year) & (data['ID'] == str(i))\n",
    "    return float(data[mask]['Nº EXÁM. APTOS']/data[mask]['Nº EXÁM. REALIZADOS'])"
   ]
  },
  {
   "cell_type": "code",
   "execution_count": 6,
   "metadata": {
    "collapsed": false
   },
   "outputs": [],
   "source": [
    "def subjects_by_curso(c):\n",
    "    return [element for element in identifiers if element[4] == str(c)]"
   ]
  },
  {
   "cell_type": "code",
   "execution_count": 7,
   "metadata": {
    "collapsed": true
   },
   "outputs": [],
   "source": [
    "def subject_years(i):\n",
    "    return np.array(data.loc[data['ID'] == str(i), 'CURSO'])"
   ]
  },
  {
   "cell_type": "code",
   "execution_count": 8,
   "metadata": {
    "collapsed": false
   },
   "outputs": [],
   "source": [
    "def show_success_rate(subject_id):\n",
    "    name = subject_name(subject_id)\n",
    "    \n",
    "    link = \"<a id='{}'></a>\".format(subject_id)\n",
    "    head = \"### {} - {} - ([Volver al índice](#indice))\".format(name, subject_id)\n",
    "    display(Markdown(link))\n",
    "    display(Markdown(head))\n",
    "    \n",
    "    with plt.style.context('bmh'):\n",
    "        colors = ['#339f34', '#ececec']\n",
    "        labels = ['Aptos', 'No aptos']\n",
    "        plt.figure(0, figsize=(6, 6))\n",
    "        plt.rcParams['font.size'] = 9.0\n",
    "        \n",
    "        ax1 = plt.subplot2grid((3, 3), (2, 0))\n",
    "        ax2 = plt.subplot2grid((3, 3), (1, 0))\n",
    "        ax3 = plt.subplot2grid((3, 3), (0, 0))\n",
    "        ax4 = plt.subplot2grid((3, 3), (0, 1))\n",
    "        ax5 = plt.subplot2grid((3, 3), (0, 2))\n",
    "        ax6 = plt.subplot2grid((3, 3), (1, 1), colspan=2, rowspan=2)\n",
    "        ax = [ax1, ax2, ax3, ax4, ax5, ax6]\n",
    "        plt.suptitle('Tasa de éxito en examenes - ' + name)\n",
    "    \n",
    "        years = subject_years(subject_id)\n",
    "        if years.size > 5:\n",
    "            print('ERROR: too many data: redesign grid')\n",
    "    \n",
    "        for index, year in enumerate(reversed(years)):\n",
    "            complementary_graph_index = 4 - index\n",
    "            x = success_rate(subject_id, year)\n",
    "            ax[complementary_graph_index].pie([x, 1 - x], colors=colors, autopct='%1.2f%%', startangle=90)\n",
    "            ax[complementary_graph_index].set_title(str(year), fontsize=8)\n",
    "    \n",
    "        x = np.array([success_rate(subject_id, n) for n in years]).mean()\n",
    "        patches, t1, t2 = ax[5].pie([x, 1 - x], colors=colors, autopct='%1.2f%%', startangle=90)\n",
    "        ax[5].set_title('Media', fontsize=8)\n",
    "        plt.legend(patches, labels, loc='best')\n",
    "    \n",
    "    plt.axis('equal')\n",
    "    plt.show()"
   ]
  },
  {
   "cell_type": "code",
   "execution_count": null,
   "metadata": {
    "collapsed": false,
    "scrolled": false
   },
   "outputs": [],
   "source": []
  },
  {
   "cell_type": "code",
   "execution_count": null,
   "metadata": {
    "collapsed": false
   },
   "outputs": [],
   "source": []
  },
  {
   "cell_type": "code",
   "execution_count": null,
   "metadata": {
    "collapsed": false
   },
   "outputs": [],
   "source": []
  },
  {
   "cell_type": "code",
   "execution_count": null,
   "metadata": {
    "collapsed": false
   },
   "outputs": [],
   "source": []
  },
  {
   "cell_type": "code",
   "execution_count": 9,
   "metadata": {
    "collapsed": false,
    "scrolled": false
   },
   "outputs": [
    {
     "name": "stdout",
     "output_type": "stream",
     "text": [
      "ANÁLISIS DE FOURIER Y ECUACIONES EN DERIVADAS PARCIALES\n"
     ]
    },
    {
     "data": {
      "text/plain": [
       "0.91706539074960125"
      ]
     },
     "execution_count": 9,
     "metadata": {},
     "output_type": "execute_result"
    }
   ],
   "source": [
    "random_subject = identifiers[random.randint(0,identifiers.size - 1)]\n",
    "print(subject_name(random_subject))\n",
    "rates = np.array([success_rate(random_subject, i) for i in subject_years(random_subject)])\n",
    "rates.mean()"
   ]
  },
  {
   "cell_type": "code",
   "execution_count": 10,
   "metadata": {
    "collapsed": false
   },
   "outputs": [],
   "source": [
    "subject_rate_means = []\n",
    "names = np.array([subject_name(s) for s in identifiers])\n",
    "for subject in identifiers:\n",
    "    rates = np.array([success_rate(subject, year) for year in subject_years(subject)])\n",
    "    subject_rate_means.append(rates.mean())"
   ]
  },
  {
   "cell_type": "code",
   "execution_count": 11,
   "metadata": {
    "collapsed": false
   },
   "outputs": [],
   "source": [
    "df = pd.DataFrame({'Subject': names, 'Success rate': subject_rate_means})"
   ]
  },
  {
   "cell_type": "code",
   "execution_count": 12,
   "metadata": {
    "collapsed": false
   },
   "outputs": [],
   "source": [
    "df = df.sort_values(by='Success rate')"
   ]
  },
  {
   "cell_type": "code",
   "execution_count": 13,
   "metadata": {
    "collapsed": false
   },
   "outputs": [
    {
     "name": "stdout",
     "output_type": "stream",
     "text": [
      "AMPLIACIÓN DE TOPOLOGÍA\n",
      "AMPLIACIÓN DE VARIABLE COMPLEJA\n",
      "ANÁLISIS MULTIVARIANTE (MATEMÁTICAS)\n",
      "ASTROFÍSICA GENERAL\n",
      "ESPACIOS NORMADOS\n",
      "FÍSICA MATEMÁTICA\n",
      "GEOMETRÍA DIFERENCIAL\n",
      "HISTORIA DE LAS MATEMÁTICAS\n",
      "INGLÉS CIENTÍFICO\n",
      "INTEGRAL DE LEBESGUE\n",
      "INTRODUCCIÓN A LA ASTRONOMÍA\n",
      "MODELOS DE REGRESIÓN\n",
      "MODELOS ESTOCÁSTICOS\n",
      "PROCESOS ESTOCÁSTICOS\n",
      "TEORÍA DE JUEGOS (MATEMÁTICAS)\n",
      "TEORÍA DE LA DECISIÓN\n",
      "TEORÍA DE MUESTRAS\n",
      "TRABAJO FIN DE GRADO (MATEMÁTICAS)\n",
      "SISTEMAS DINÁMICOS\n"
     ]
    }
   ],
   "source": [
    "for s in subjects_by_curso(4):\n",
    "    print(subject_name(s))"
   ]
  },
  {
   "cell_type": "code",
   "execution_count": 14,
   "metadata": {
    "collapsed": false
   },
   "outputs": [
    {
     "data": {
      "text/plain": [
       "'ASTROFÍSICA GENERAL'"
      ]
     },
     "execution_count": 14,
     "metadata": {},
     "output_type": "execute_result"
    }
   ],
   "source": [
    "subject_name(61044112)"
   ]
  },
  {
   "cell_type": "code",
   "execution_count": 20,
   "metadata": {
    "collapsed": false
   },
   "outputs": [
    {
     "data": {
      "text/markdown": [
       "<a id='61024090'></a>"
      ],
      "text/plain": [
       "<IPython.core.display.Markdown object>"
      ]
     },
     "metadata": {},
     "output_type": "display_data"
    },
    {
     "data": {
      "text/markdown": [
       "### AMPLIACIÓN DE TOPOLOGÍA - 61024090 - ([Volver al índice](#indice))"
      ],
      "text/plain": [
       "<IPython.core.display.Markdown object>"
      ]
     },
     "metadata": {},
     "output_type": "display_data"
    },
    {
     "data": {
      "image/png": "[encoded data removed]",
      "text/plain": [
       "<matplotlib.figure.Figure at 0x110e4a2b0>"
      ]
     },
     "metadata": {},
     "output_type": "display_data"
    }
   ],
   "source": [
    "show_success_rate(61024090)"
   ]
  },
  {
   "cell_type": "code",
   "execution_count": null,
   "metadata": {
    "collapsed": false
   },
   "outputs": [],
   "source": []
  },
  {
   "cell_type": "code",
   "execution_count": null,
   "metadata": {
    "collapsed": true
   },
   "outputs": [],
   "source": []
  }
 ],
 "metadata": {
  "kernelspec": {
   "display_name": "Python 3",
   "language": "python",
   "name": "python3"
  },
  "language_info": {
   "codemirror_mode": {
    "name": "ipython",
    "version": 3
   },
   "file_extension": ".py",
   "mimetype": "text/x-python",
   "name": "python",
   "nbconvert_exporter": "python",
   "pygments_lexer": "ipython3",
   "version": "3.5.2"
  }
 },
 "nbformat": 4,
 "nbformat_minor": 0
}
