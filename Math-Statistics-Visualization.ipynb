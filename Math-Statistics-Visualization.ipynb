{
 "cells": [
  {
   "cell_type": "code",
   "execution_count": 1,
   "metadata": {
    "collapsed": true
   },
   "outputs": [],
   "source": [
    "import os\n",
    "import pandas as pd\n",
    "import numpy as np"
   ]
  },
  {
   "cell_type": "code",
   "execution_count": 2,
   "metadata": {
    "collapsed": true
   },
   "outputs": [],
   "source": [
    "DATA_DIRECTORY = './new-data'"
   ]
  },
  {
   "cell_type": "code",
   "execution_count": 3,
   "metadata": {
    "collapsed": true
   },
   "outputs": [],
   "source": [
    "list_of_files = [file for file in os.listdir(DATA_DIRECTORY) if not file.startswith('.')]"
   ]
  },
  {
   "cell_type": "code",
   "execution_count": 4,
   "metadata": {
    "collapsed": false
   },
   "outputs": [],
   "source": [
    "os.listdir(DATA_DIRECTORY)\n",
    "list_ = []\n",
    "list_of_df = [pd.read_csv(os.path.join(DATA_DIRECTORY, file), decimal=',', sep=';') for file in list_of_files]\n",
    "df = pd.concat(list_of_df, ignore_index=True)\n",
    "identifiers = df.iloc[:,1].unique()\n",
    "cursos = df['Curso Académico'].unique()"
   ]
  },
  {
   "cell_type": "code",
   "execution_count": 5,
   "metadata": {
    "collapsed": true
   },
   "outputs": [],
   "source": [
    "def subject_name(subject_id):\n",
    "    return df[df['Código'] == str(subject_id)].iloc[0, 2]"
   ]
  },
  {
   "cell_type": "code",
   "execution_count": 6,
   "metadata": {
    "collapsed": false
   },
   "outputs": [
    {
     "name": "stdout",
     "output_type": "stream",
     "text": [
      "<class 'pandas.core.frame.DataFrame'>\n",
      "RangeIndex: 206 entries, 0 to 205\n",
      "Data columns (total 10 columns):\n",
      "Curso Académico      206 non-null object\n",
      "Código               206 non-null object\n",
      "Asignatura           206 non-null object\n",
      "Créd. asignatura     206 non-null int64\n",
      "Cuatrimestre         206 non-null object\n",
      "Curso                206 non-null object\n",
      "Tasa evaluación %    206 non-null float64\n",
      "Tasa éxito %         206 non-null float64\n",
      "Nota media           206 non-null float64\n",
      "Valoración Estud.    184 non-null float64\n",
      "dtypes: float64(4), int64(1), object(5)\n",
      "memory usage: 16.2+ KB\n"
     ]
    }
   ],
   "source": [
    "df.info()"
   ]
  },
  {
   "cell_type": "code",
   "execution_count": 7,
   "metadata": {
    "collapsed": false
   },
   "outputs": [
    {
     "data": {
      "text/html": [
       "<script>requirejs.config({paths: { 'plotly': ['https://cdn.plot.ly/plotly-latest.min']},});if(!window.Plotly) {{require(['plotly'],function(plotly) {window.Plotly=plotly;});}}</script>"
      ],
      "text/plain": [
       "<IPython.core.display.HTML object>"
      ]
     },
     "metadata": {},
     "output_type": "display_data"
    },
    {
     "data": {
      "text/html": [
       "<div id=\"35ebd687-a67e-4b1f-ac56-632071330e6e\" style=\"height: 700px; width: 100%;\" class=\"plotly-graph-div\"></div><script type=\"text/javascript\">require([\"plotly\"], function(Plotly) { window.PLOTLYENV=window.PLOTLYENV || {};window.PLOTLYENV.BASE_URL=\"https://plot.ly\";Plotly.newPlot(\"35ebd687-a67e-4b1f-ac56-632071330e6e\", [{\"type\": \"box\", \"y\": [83.96], \"name\": \"\\u00c1LGEBRA LINEAL I\"}, {\"type\": \"box\", \"y\": [66.34], \"name\": \"\\u00c1LGEBRA LINEAL II\"}, {\"type\": \"box\", \"y\": [81.52], \"name\": \"ESTAD\\u00cdSTICA B\\u00c1SICA\"}, {\"type\": \"box\", \"y\": [62.26], \"name\": \"F\\u00cdSICA\"}, {\"type\": \"box\", \"y\": [92.05], \"name\": \"FUNCIONES DE UNA VARIABLE I\"}, {\"type\": \"box\", \"y\": [64.38], \"name\": \"FUNCIONES DE UNA VARIABLE II\"}, {\"type\": \"box\", \"y\": [84.62], \"name\": \"FUNCIONES DE VARIAS VARIABLES I\"}, {\"type\": \"box\", \"y\": [76.77], \"name\": \"GEOMETR\\u00cdA B\\u00c1SICA\"}, {\"type\": \"box\", \"y\": [87.5], \"name\": \"LENGUAJE MATEM\\u00c1TICO, CONJUNTOS Y N\\u00daMEROS\"}, {\"type\": \"box\", \"y\": [84.3], \"name\": \"MATEM\\u00c1TICA DISCRETA\"}, {\"type\": \"box\", \"y\": [77.97, 84.0, 79.34, 74.19, 72.34], \"name\": \"\\u00c1LGEBRA LINEAL I\"}, {\"type\": \"box\", \"y\": [60.55, 75.61, 68.04, 81.11, 75.0], \"name\": \"\\u00c1LGEBRA LINEAL II\"}, {\"type\": \"box\", \"y\": [88.46, 73.91, 68.89, 93.24, 93.44], \"name\": \"\\u00c1LGEBRA (MATEM\\u00c1TICAS)\"}, {\"type\": \"box\", \"y\": [87.88, 83.33, 80.95, 89.74, 77.08], \"name\": \"AN\\u00c1LISIS NUM\\u00c9RICO MATRICIAL E INTERPOLACI\\u00d3N\"}, {\"type\": \"box\", \"y\": [64.1, 69.23, 50.0, 56.52, 53.01], \"name\": \"C\\u00c1LCULO DE PROBABILIDADES I\"}, {\"type\": \"box\", \"y\": [89.47, 82.61, 87.1, 87.38, 90.29], \"name\": \"ESTAD\\u00cdSTICA B\\u00c1SICA\"}, {\"type\": \"box\", \"y\": [81.82, 68.33, 91.04, 79.71, 81.08], \"name\": \"ESTRUCTURAS ALGEBRAICAS\"}, {\"type\": \"box\", \"y\": [79.63, 62.26, 74.32, 56.9, 64.29], \"name\": \"F\\u00cdSICA\"}, {\"type\": \"box\", \"y\": [83.91, 80.37, 85.06, 86.46, 76.32], \"name\": \"FUNCIONES DE UNA VARIABLE I\"}, {\"type\": \"box\", \"y\": [70.27, 70.21, 73.03, 69.0, 75.51], \"name\": \"FUNCIONES DE UNA VARIABLE II\"}, {\"type\": \"box\", \"y\": [87.13, 75.49, 90.2, 86.87, 85.56], \"name\": \"FUNCIONES DE VARIAS VARIABLES I\"}, {\"type\": \"box\", \"y\": [92.31, 97.47, 98.65, 93.67, 92.21], \"name\": \"FUNCIONES DE VARIAS VARIABLES II\"}, {\"type\": \"box\", \"y\": [79.25, 86.27, 80.7, 81.51, 84.92], \"name\": \"GEOMETR\\u00cdA B\\u00c1SICA\"}, {\"type\": \"box\", \"y\": [80.77, 76.67, 84.06, 64.71, 62.86], \"name\": \"GEOMETR\\u00cdAS LINEALES\"}, {\"type\": \"box\", \"y\": [100.0, 92.19, 89.55, 94.74, 89.55], \"name\": \"HERRAMIENTAS INFORM\\u00c1TICAS PARA MATEM\\u00c1TICAS\"}, {\"type\": \"box\", \"y\": [76.51, 84.0, 71.43, 75.0, 88.19], \"name\": \"LENGUAJE MATEM\\u00c1TICO, CONJUNTOS Y N\\u00daMEROS\"}, {\"type\": \"box\", \"y\": [95.24, 92.19, 85.11, 88.89, 80.95], \"name\": \"LENGUAJES DE PROGRAMACI\\u00d3N\"}, {\"type\": \"box\", \"y\": [76.67, 80.88, 92.67, 86.29, 74.07], \"name\": \"MATEM\\u00c1TICA DISCRETA\"}, {\"type\": \"box\", \"y\": [80.56, 88.24, 81.97, 80.0, 83.58], \"name\": \"PROGRAMACI\\u00d3N LINEAL Y ENTERA\"}, {\"type\": \"box\", \"y\": [67.5, 95.52, 58.49, 83.95, 72.58], \"name\": \"VARIABLE COMPLEJA\"}, {\"type\": \"box\", \"y\": [100.0, 95.24, 100.0, 94.74], \"name\": \"AN\\u00c1LISIS DE FOURIER Y ECUACIONES EN DERIVADAS PARCIALES\"}, {\"type\": \"box\", \"y\": [68.75, 65.52, 59.57, 46.94], \"name\": \"C\\u00c1LCULO DE PROBABILIDADES II\"}, {\"type\": \"box\", \"y\": [92.59, 93.02, 95.83, 94.34], \"name\": \"CAMPOS Y FORMAS\"}, {\"type\": \"box\", \"y\": [84.21, 95.45, 76.67, 70.83], \"name\": \"GEOMETR\\u00cdA DIFERENCIAL DE CURVAS Y SUPERFICIES\"}, {\"type\": \"box\", \"y\": [66.67, 71.88, 78.57, 85.71], \"name\": \"INFERENCIA ESTAD\\u00cdSTICA (MATEM\\u00c1TICAS)\"}, {\"type\": \"box\", \"y\": [100.0, 100.0, 97.83, 97.5], \"name\": \"INTRODUCCI\\u00d3N A LAS ECUACIONES DIFERENCIALES\"}, {\"type\": \"box\", \"y\": [94.12, 78.26, 84.21, 78.38], \"name\": \"INTRODUCCI\\u00d3N A LOS ESPACIOS DE HILBERT\"}, {\"type\": \"box\", \"y\": [100.0, 95.45, 90.48, 97.87], \"name\": \"MODELIZACI\\u00d3N\"}, {\"type\": \"box\", \"y\": [85.0, 96.55, 96.43, 81.58], \"name\": \"RESOLUCI\\u00d3N NUM\\u00c9RICA DE ECUACIONES\"}, {\"type\": \"box\", \"y\": [100.0, 88.46, 80.56, 81.4], \"name\": \"TOPOLOG\\u00cdA\"}, {\"type\": \"box\", \"y\": [92.86, 100.0, 100.0], \"name\": \"AMPLIACI\\u00d3N DE TOPOLOG\\u00cdA\"}, {\"type\": \"box\", \"y\": [100.0, 85.71, 89.47], \"name\": \"AMPLIACI\\u00d3N DE VARIABLE COMPLEJA\"}, {\"type\": \"box\", \"y\": [55.56, 100.0, 75.0], \"name\": \"AN\\u00c1LISIS MULTIVARIANTE (MATEM\\u00c1TICAS)\"}, {\"type\": \"box\", \"y\": [77.78, 80.77, 85.0], \"name\": \"ASTROF\\u00cdSICA GENERAL\"}, {\"type\": \"box\", \"y\": [71.43, 84.62, 83.33], \"name\": \"ESPACIOS NORMADOS\"}, {\"type\": \"box\", \"y\": [50.0, 100.0, 75.0], \"name\": \"F\\u00cdSICA MATEM\\u00c1TICA\"}, {\"type\": \"box\", \"y\": [100.0, 78.57, 100.0], \"name\": \"GEOMETR\\u00cdA DIFERENCIAL\"}, {\"type\": \"box\", \"y\": [95.56, 96.15, 100.0], \"name\": \"HISTORIA DE LAS MATEM\\u00c1TICAS\"}, {\"type\": \"box\", \"y\": [91.3, 87.5, 90.48], \"name\": \"INGL\\u00c9S CIENT\\u00cdFICO\"}, {\"type\": \"box\", \"y\": [85.0, 100.0, 100.0], \"name\": \"INTEGRAL DE LEBESGUE\"}, {\"type\": \"box\", \"y\": [93.18, 97.83, 100.0], \"name\": \"INTRODUCCI\\u00d3N A LA ASTRONOM\\u00cdA\"}, {\"type\": \"box\", \"y\": [75.0, 86.67, 77.78], \"name\": \"MODELOS DE REGRESI\\u00d3N\"}, {\"type\": \"box\", \"y\": [12.5, 37.5, 75.0], \"name\": \"MODELOS ESTOC\\u00c1STICOS\"}, {\"type\": \"box\", \"y\": [50.0, 81.25, 100.0], \"name\": \"PROCESOS ESTOC\\u00c1STICOS\"}, {\"type\": \"box\", \"y\": [83.33, 96.97, 86.67], \"name\": \"TEOR\\u00cdA DE JUEGOS (MATEM\\u00c1TICAS)\"}, {\"type\": \"box\", \"y\": [61.54, 68.42, 87.1], \"name\": \"TEOR\\u00cdA DE LA DECISI\\u00d3N\"}, {\"type\": \"box\", \"y\": [100.0, 90.0, 94.12], \"name\": \"TEOR\\u00cdA DE MUESTRAS\"}, {\"type\": \"box\", \"y\": [100.0, 100.0, 100.0], \"name\": \"TRABAJO FIN DE GRADO (MATEM\\u00c1TICAS)\"}, {\"type\": \"box\", \"y\": [100.0, 100.0], \"name\": \"SISTEMAS DIN\\u00c1MICOS\"}], {\"title\": \"Tasa de \\u00e9xito\", \"margin\": {\"b\": 200, \"t\": 50}, \"height\": 700, \"showlegend\": false, \"font\": {\"size\": 8}}, {\"showLink\": true, \"linkText\": \"Export to plot.ly\"})});</script>"
      ],
      "text/plain": [
       "<IPython.core.display.HTML object>"
      ]
     },
     "metadata": {},
     "output_type": "display_data"
    }
   ],
   "source": [
    "import plotly.offline as py\n",
    "import plotly.graph_objs as go\n",
    "py.init_notebook_mode(connected=True) # this injects the plotly.js source files into the notebook\n",
    "\n",
    "traces = []\n",
    "for i in identifiers:\n",
    "    trace = go.Box(\n",
    "        y = df.loc[df['Código'] == i, 'Tasa éxito %'],\n",
    "        name = subject_name(i)\n",
    "    )\n",
    "    traces.append(trace)\n",
    "\n",
    "layout = go.Layout(\n",
    "    title = \"Tasa de éxito\",\n",
    "    margin = go.Margin(b=200, t=50),\n",
    "    height = 700,\n",
    "    showlegend=False,\n",
    "    font = dict(size=8)\n",
    ")\n",
    "\n",
    "fig = go.Figure(data=traces, layout=layout)\n",
    "py.iplot(fig)"
   ]
  },
  {
   "cell_type": "code",
   "execution_count": 10,
   "metadata": {
    "collapsed": false
   },
   "outputs": [
    {
     "data": {
      "text/html": [
       "<div id=\"784da061-9026-4197-8fdf-a02d234507bf\" style=\"height: 525px; width: 100%;\" class=\"plotly-graph-div\"></div><script type=\"text/javascript\">require([\"plotly\"], function(Plotly) { window.PLOTLYENV=window.PLOTLYENV || {};window.PLOTLYENV.BASE_URL=\"https://plot.ly\";Plotly.newPlot(\"784da061-9026-4197-8fdf-a02d234507bf\", [{\"type\": \"scatter\", \"x\": [\"\\u00c1LGEBRA LINEAL I\", \"\\u00c1LGEBRA LINEAL II\", \"ESTAD\\u00cdSTICA B\\u00c1SICA\", \"F\\u00cdSICA\", \"FUNCIONES DE UNA VARIABLE I\", \"FUNCIONES DE UNA VARIABLE II\", \"FUNCIONES DE VARIAS VARIABLES I\", \"GEOMETR\\u00cdA B\\u00c1SICA\", \"LENGUAJE MATEM\\u00c1TICO, CONJUNTOS Y N\\u00daMEROS\", \"MATEM\\u00c1TICA DISCRETA\"], \"y\": [\"2010-2011\", \"2010-2011\", \"2010-2011\", \"2010-2011\", \"2010-2011\", \"2010-2011\", \"2010-2011\", \"2010-2011\", \"2010-2011\", \"2010-2011\"], \"mode\": \"markers\", \"text\": [16.040000000000006, 33.66, 18.480000000000004, 37.74, 7.950000000000003, 35.620000000000005, 15.379999999999995, 23.230000000000004, 12.5, 15.700000000000003], \"marker\": {\"symbol\": \"circle\", \"sizeref\": 2, \"size\": [16.040000000000006, 33.66, 18.480000000000004, 37.74, 7.950000000000003, 35.620000000000005, 15.379999999999995, 23.230000000000004, 12.5, 15.700000000000003], \"sizemode\": \"diameter\", \"color\": [16.040000000000006, 33.66, 18.480000000000004, 37.74, 7.950000000000003, 35.620000000000005, 15.379999999999995, 23.230000000000004, 12.5, 15.700000000000003], \"line\": {\"width\": 2}}}, {\"type\": \"scatter\", \"x\": [\"\\u00c1LGEBRA LINEAL I\", \"\\u00c1LGEBRA LINEAL II\", \"\\u00c1LGEBRA (MATEM\\u00c1TICAS)\", \"AN\\u00c1LISIS NUM\\u00c9RICO MATRICIAL E INTERPOLACI\\u00d3N\", \"C\\u00c1LCULO DE PROBABILIDADES I\", \"ESTAD\\u00cdSTICA B\\u00c1SICA\", \"ESTRUCTURAS ALGEBRAICAS\", \"F\\u00cdSICA\", \"FUNCIONES DE UNA VARIABLE I\", \"FUNCIONES DE UNA VARIABLE II\", \"FUNCIONES DE VARIAS VARIABLES I\", \"FUNCIONES DE VARIAS VARIABLES II\", \"GEOMETR\\u00cdA B\\u00c1SICA\", \"GEOMETR\\u00cdAS LINEALES\", \"HERRAMIENTAS INFORM\\u00c1TICAS PARA MATEM\\u00c1TICAS\", \"LENGUAJE MATEM\\u00c1TICO, CONJUNTOS Y N\\u00daMEROS\", \"LENGUAJES DE PROGRAMACI\\u00d3N\", \"MATEM\\u00c1TICA DISCRETA\", \"PROGRAMACI\\u00d3N LINEAL Y ENTERA\", \"VARIABLE COMPLEJA\"], \"y\": [\"2011-2012\", \"2011-2012\", \"2011-2012\", \"2011-2012\", \"2011-2012\", \"2011-2012\", \"2011-2012\", \"2011-2012\", \"2011-2012\", \"2011-2012\", \"2011-2012\", \"2011-2012\", \"2011-2012\", \"2011-2012\", \"2011-2012\", \"2011-2012\", \"2011-2012\", \"2011-2012\", \"2011-2012\", \"2011-2012\"], \"mode\": \"markers\", \"text\": [22.03, 39.45, 11.540000000000006, 12.120000000000005, 35.900000000000006, 10.530000000000001, 18.180000000000007, 20.370000000000005, 16.090000000000003, 29.730000000000004, 12.870000000000005, 7.689999999999998, 20.75, 19.230000000000004, 0.0, 23.489999999999995, 4.760000000000005, 23.33, 19.439999999999998, 32.5], \"marker\": {\"symbol\": \"circle\", \"sizeref\": 2, \"size\": [22.03, 39.45, 11.540000000000006, 12.120000000000005, 35.900000000000006, 10.530000000000001, 18.180000000000007, 20.370000000000005, 16.090000000000003, 29.730000000000004, 12.870000000000005, 7.689999999999998, 20.75, 19.230000000000004, 0.0, 23.489999999999995, 4.760000000000005, 23.33, 19.439999999999998, 32.5], \"sizemode\": \"diameter\", \"color\": [22.03, 39.45, 11.540000000000006, 12.120000000000005, 35.900000000000006, 10.530000000000001, 18.180000000000007, 20.370000000000005, 16.090000000000003, 29.730000000000004, 12.870000000000005, 7.689999999999998, 20.75, 19.230000000000004, 0.0, 23.489999999999995, 4.760000000000005, 23.33, 19.439999999999998, 32.5], \"line\": {\"width\": 2}}}, {\"type\": \"scatter\", \"x\": [\"\\u00c1LGEBRA LINEAL I\", \"\\u00c1LGEBRA LINEAL II\", \"\\u00c1LGEBRA (MATEM\\u00c1TICAS)\", \"AN\\u00c1LISIS DE FOURIER Y ECUACIONES EN DERIVADAS PARCIALES\", \"AN\\u00c1LISIS NUM\\u00c9RICO MATRICIAL E INTERPOLACI\\u00d3N\", \"C\\u00c1LCULO DE PROBABILIDADES I\", \"C\\u00c1LCULO DE PROBABILIDADES II\", \"CAMPOS Y FORMAS\", \"ESTAD\\u00cdSTICA B\\u00c1SICA\", \"ESTRUCTURAS ALGEBRAICAS\", \"F\\u00cdSICA\", \"FUNCIONES DE UNA VARIABLE I\", \"FUNCIONES DE UNA VARIABLE II\", \"FUNCIONES DE VARIAS VARIABLES I\", \"FUNCIONES DE VARIAS VARIABLES II\", \"GEOMETR\\u00cdA B\\u00c1SICA\", \"GEOMETR\\u00cdA DIFERENCIAL DE CURVAS Y SUPERFICIES\", \"GEOMETR\\u00cdAS LINEALES\", \"HERRAMIENTAS INFORM\\u00c1TICAS PARA MATEM\\u00c1TICAS\", \"INFERENCIA ESTAD\\u00cdSTICA (MATEM\\u00c1TICAS)\", \"INTRODUCCI\\u00d3N A LAS ECUACIONES DIFERENCIALES\", \"INTRODUCCI\\u00d3N A LOS ESPACIOS DE HILBERT\", \"LENGUAJE MATEM\\u00c1TICO, CONJUNTOS Y N\\u00daMEROS\", \"LENGUAJES DE PROGRAMACI\\u00d3N\", \"MATEM\\u00c1TICA DISCRETA\", \"MODELIZACI\\u00d3N\", \"PROGRAMACI\\u00d3N LINEAL Y ENTERA\", \"RESOLUCI\\u00d3N NUM\\u00c9RICA DE ECUACIONES\", \"TOPOLOG\\u00cdA\", \"VARIABLE COMPLEJA\"], \"y\": [\"2012-2013\", \"2012-2013\", \"2012-2013\", \"2012-2013\", \"2012-2013\", \"2012-2013\", \"2012-2013\", \"2012-2013\", \"2012-2013\", \"2012-2013\", \"2012-2013\", \"2012-2013\", \"2012-2013\", \"2012-2013\", \"2012-2013\", \"2012-2013\", \"2012-2013\", \"2012-2013\", \"2012-2013\", \"2012-2013\", \"2012-2013\", \"2012-2013\", \"2012-2013\", \"2012-2013\", \"2012-2013\", \"2012-2013\", \"2012-2013\", \"2012-2013\", \"2012-2013\", \"2012-2013\"], \"mode\": \"markers\", \"text\": [16.0, 24.39, 26.090000000000003, 0.0, 16.67, 30.769999999999996, 31.25, 7.409999999999997, 17.39, 31.67, 37.74, 19.629999999999995, 29.790000000000006, 24.510000000000005, 2.530000000000001, 13.730000000000004, 15.790000000000006, 23.33, 7.810000000000002, 33.33, 0.0, 5.8799999999999955, 16.0, 7.810000000000002, 19.120000000000005, 0.0, 11.760000000000005, 15.0, 0.0, 4.480000000000004], \"marker\": {\"symbol\": \"circle\", \"sizeref\": 2, \"size\": [16.0, 24.39, 26.090000000000003, 0.0, 16.67, 30.769999999999996, 31.25, 7.409999999999997, 17.39, 31.67, 37.74, 19.629999999999995, 29.790000000000006, 24.510000000000005, 2.530000000000001, 13.730000000000004, 15.790000000000006, 23.33, 7.810000000000002, 33.33, 0.0, 5.8799999999999955, 16.0, 7.810000000000002, 19.120000000000005, 0.0, 11.760000000000005, 15.0, 0.0, 4.480000000000004], \"sizemode\": \"diameter\", \"color\": [16.0, 24.39, 26.090000000000003, 0.0, 16.67, 30.769999999999996, 31.25, 7.409999999999997, 17.39, 31.67, 37.74, 19.629999999999995, 29.790000000000006, 24.510000000000005, 2.530000000000001, 13.730000000000004, 15.790000000000006, 23.33, 7.810000000000002, 33.33, 0.0, 5.8799999999999955, 16.0, 7.810000000000002, 19.120000000000005, 0.0, 11.760000000000005, 15.0, 0.0, 4.480000000000004], \"line\": {\"width\": 2}}}, {\"type\": \"scatter\", \"x\": [\"\\u00c1LGEBRA LINEAL I\", \"\\u00c1LGEBRA LINEAL II\", \"\\u00c1LGEBRA (MATEM\\u00c1TICAS)\", \"AMPLIACI\\u00d3N DE TOPOLOG\\u00cdA\", \"AMPLIACI\\u00d3N DE VARIABLE COMPLEJA\", \"AN\\u00c1LISIS DE FOURIER Y ECUACIONES EN DERIVADAS PARCIALES\", \"AN\\u00c1LISIS MULTIVARIANTE (MATEM\\u00c1TICAS)\", \"AN\\u00c1LISIS NUM\\u00c9RICO MATRICIAL E INTERPOLACI\\u00d3N\", \"ASTROF\\u00cdSICA GENERAL\", \"C\\u00c1LCULO DE PROBABILIDADES I\", \"C\\u00c1LCULO DE PROBABILIDADES II\", \"CAMPOS Y FORMAS\", \"ESPACIOS NORMADOS\", \"ESTAD\\u00cdSTICA B\\u00c1SICA\", \"ESTRUCTURAS ALGEBRAICAS\", \"F\\u00cdSICA\", \"F\\u00cdSICA MATEM\\u00c1TICA\", \"FUNCIONES DE UNA VARIABLE I\", \"FUNCIONES DE UNA VARIABLE II\", \"FUNCIONES DE VARIAS VARIABLES I\", \"FUNCIONES DE VARIAS VARIABLES II\", \"GEOMETR\\u00cdA B\\u00c1SICA\", \"GEOMETR\\u00cdA DIFERENCIAL\", \"GEOMETR\\u00cdA DIFERENCIAL DE CURVAS Y SUPERFICIES\", \"GEOMETR\\u00cdAS LINEALES\", \"HERRAMIENTAS INFORM\\u00c1TICAS PARA MATEM\\u00c1TICAS\", \"HISTORIA DE LAS MATEM\\u00c1TICAS\", \"INFERENCIA ESTAD\\u00cdSTICA (MATEM\\u00c1TICAS)\", \"INGL\\u00c9S CIENT\\u00cdFICO\", \"INTEGRAL DE LEBESGUE\", \"INTRODUCCI\\u00d3N A LA ASTRONOM\\u00cdA\", \"INTRODUCCI\\u00d3N A LAS ECUACIONES DIFERENCIALES\", \"INTRODUCCI\\u00d3N A LOS ESPACIOS DE HILBERT\", \"LENGUAJE MATEM\\u00c1TICO, CONJUNTOS Y N\\u00daMEROS\", \"LENGUAJES DE PROGRAMACI\\u00d3N\", \"MATEM\\u00c1TICA DISCRETA\", \"MODELIZACI\\u00d3N\", \"MODELOS DE REGRESI\\u00d3N\", \"MODELOS ESTOC\\u00c1STICOS\", \"PROCESOS ESTOC\\u00c1STICOS\", \"PROGRAMACI\\u00d3N LINEAL Y ENTERA\", \"RESOLUCI\\u00d3N NUM\\u00c9RICA DE ECUACIONES\", \"TEOR\\u00cdA DE JUEGOS (MATEM\\u00c1TICAS)\", \"TEOR\\u00cdA DE LA DECISI\\u00d3N\", \"TEOR\\u00cdA DE MUESTRAS\", \"TOPOLOG\\u00cdA\", \"TRABAJO FIN DE GRADO (MATEM\\u00c1TICAS)\", \"VARIABLE COMPLEJA\"], \"y\": [\"2013-2014\", \"2013-2014\", \"2013-2014\", \"2013-2014\", \"2013-2014\", \"2013-2014\", \"2013-2014\", \"2013-2014\", \"2013-2014\", \"2013-2014\", \"2013-2014\", \"2013-2014\", \"2013-2014\", \"2013-2014\", \"2013-2014\", \"2013-2014\", \"2013-2014\", \"2013-2014\", \"2013-2014\", \"2013-2014\", \"2013-2014\", \"2013-2014\", \"2013-2014\", \"2013-2014\", \"2013-2014\", \"2013-2014\", \"2013-2014\", \"2013-2014\", \"2013-2014\", \"2013-2014\", \"2013-2014\", \"2013-2014\", \"2013-2014\", \"2013-2014\", \"2013-2014\", \"2013-2014\", \"2013-2014\", \"2013-2014\", \"2013-2014\", \"2013-2014\", \"2013-2014\", \"2013-2014\", \"2013-2014\", \"2013-2014\", \"2013-2014\", \"2013-2014\", \"2013-2014\", \"2013-2014\"], \"mode\": \"markers\", \"text\": [20.659999999999997, 31.959999999999994, 31.11, 7.140000000000001, 0.0, 4.760000000000005, 44.44, 19.049999999999997, 22.22, 50.0, 34.480000000000004, 6.980000000000004, 28.569999999999993, 12.900000000000006, 8.959999999999994, 25.680000000000007, 50.0, 14.939999999999998, 26.97, 9.799999999999997, 1.3499999999999943, 19.299999999999997, 0.0, 4.549999999999997, 15.939999999999998, 10.450000000000003, 4.439999999999998, 28.120000000000005, 8.700000000000003, 15.0, 6.819999999999993, 0.0, 21.739999999999995, 28.569999999999993, 14.89, 7.329999999999998, 4.549999999999997, 25.0, 87.5, 50.0, 18.03, 3.450000000000003, 16.67, 38.46, 0.0, 11.540000000000006, 0.0, 41.51], \"marker\": {\"symbol\": \"circle\", \"sizeref\": 2, \"size\": [20.659999999999997, 31.959999999999994, 31.11, 7.140000000000001, 0.0, 4.760000000000005, 44.44, 19.049999999999997, 22.22, 50.0, 34.480000000000004, 6.980000000000004, 28.569999999999993, 12.900000000000006, 8.959999999999994, 25.680000000000007, 50.0, 14.939999999999998, 26.97, 9.799999999999997, 1.3499999999999943, 19.299999999999997, 0.0, 4.549999999999997, 15.939999999999998, 10.450000000000003, 4.439999999999998, 28.120000000000005, 8.700000000000003, 15.0, 6.819999999999993, 0.0, 21.739999999999995, 28.569999999999993, 14.89, 7.329999999999998, 4.549999999999997, 25.0, 87.5, 50.0, 18.03, 3.450000000000003, 16.67, 38.46, 0.0, 11.540000000000006, 0.0, 41.51], \"sizemode\": \"diameter\", \"color\": [20.659999999999997, 31.959999999999994, 31.11, 7.140000000000001, 0.0, 4.760000000000005, 44.44, 19.049999999999997, 22.22, 50.0, 34.480000000000004, 6.980000000000004, 28.569999999999993, 12.900000000000006, 8.959999999999994, 25.680000000000007, 50.0, 14.939999999999998, 26.97, 9.799999999999997, 1.3499999999999943, 19.299999999999997, 0.0, 4.549999999999997, 15.939999999999998, 10.450000000000003, 4.439999999999998, 28.120000000000005, 8.700000000000003, 15.0, 6.819999999999993, 0.0, 21.739999999999995, 28.569999999999993, 14.89, 7.329999999999998, 4.549999999999997, 25.0, 87.5, 50.0, 18.03, 3.450000000000003, 16.67, 38.46, 0.0, 11.540000000000006, 0.0, 41.51], \"line\": {\"width\": 2}}}, {\"type\": \"scatter\", \"x\": [\"\\u00c1LGEBRA LINEAL I\", \"\\u00c1LGEBRA LINEAL II\", \"\\u00c1LGEBRA (MATEM\\u00c1TICAS)\", \"AMPLIACI\\u00d3N DE TOPOLOG\\u00cdA\", \"AMPLIACI\\u00d3N DE VARIABLE COMPLEJA\", \"AN\\u00c1LISIS DE FOURIER Y ECUACIONES EN DERIVADAS PARCIALES\", \"AN\\u00c1LISIS MULTIVARIANTE (MATEM\\u00c1TICAS)\", \"AN\\u00c1LISIS NUM\\u00c9RICO MATRICIAL E INTERPOLACI\\u00d3N\", \"ASTROF\\u00cdSICA GENERAL\", \"C\\u00c1LCULO DE PROBABILIDADES I\", \"C\\u00c1LCULO DE PROBABILIDADES II\", \"CAMPOS Y FORMAS\", \"ESPACIOS NORMADOS\", \"ESTAD\\u00cdSTICA B\\u00c1SICA\", \"ESTRUCTURAS ALGEBRAICAS\", \"F\\u00cdSICA\", \"F\\u00cdSICA MATEM\\u00c1TICA\", \"FUNCIONES DE UNA VARIABLE I\", \"FUNCIONES DE UNA VARIABLE II\", \"FUNCIONES DE VARIAS VARIABLES I\", \"FUNCIONES DE VARIAS VARIABLES II\", \"GEOMETR\\u00cdA B\\u00c1SICA\", \"GEOMETR\\u00cdA DIFERENCIAL\", \"GEOMETR\\u00cdA DIFERENCIAL DE CURVAS Y SUPERFICIES\", \"GEOMETR\\u00cdAS LINEALES\", \"HERRAMIENTAS INFORM\\u00c1TICAS PARA MATEM\\u00c1TICAS\", \"HISTORIA DE LAS MATEM\\u00c1TICAS\", \"INFERENCIA ESTAD\\u00cdSTICA (MATEM\\u00c1TICAS)\", \"INGL\\u00c9S CIENT\\u00cdFICO\", \"INTEGRAL DE LEBESGUE\", \"INTRODUCCI\\u00d3N A LA ASTRONOM\\u00cdA\", \"INTRODUCCI\\u00d3N A LAS ECUACIONES DIFERENCIALES\", \"INTRODUCCI\\u00d3N A LOS ESPACIOS DE HILBERT\", \"LENGUAJE MATEM\\u00c1TICO, CONJUNTOS Y N\\u00daMEROS\", \"LENGUAJES DE PROGRAMACI\\u00d3N\", \"MATEM\\u00c1TICA DISCRETA\", \"MODELIZACI\\u00d3N\", \"MODELOS DE REGRESI\\u00d3N\", \"MODELOS ESTOC\\u00c1STICOS\", \"PROCESOS ESTOC\\u00c1STICOS\", \"PROGRAMACI\\u00d3N LINEAL Y ENTERA\", \"RESOLUCI\\u00d3N NUM\\u00c9RICA DE ECUACIONES\", \"SISTEMAS DIN\\u00c1MICOS\", \"TEOR\\u00cdA DE JUEGOS (MATEM\\u00c1TICAS)\", \"TEOR\\u00cdA DE LA DECISI\\u00d3N\", \"TEOR\\u00cdA DE MUESTRAS\", \"TOPOLOG\\u00cdA\", \"TRABAJO FIN DE GRADO (MATEM\\u00c1TICAS)\", \"VARIABLE COMPLEJA\"], \"y\": [\"2014-2015\", \"2014-2015\", \"2014-2015\", \"2014-2015\", \"2014-2015\", \"2014-2015\", \"2014-2015\", \"2014-2015\", \"2014-2015\", \"2014-2015\", \"2014-2015\", \"2014-2015\", \"2014-2015\", \"2014-2015\", \"2014-2015\", \"2014-2015\", \"2014-2015\", \"2014-2015\", \"2014-2015\", \"2014-2015\", \"2014-2015\", \"2014-2015\", \"2014-2015\", \"2014-2015\", \"2014-2015\", \"2014-2015\", \"2014-2015\", \"2014-2015\", \"2014-2015\", \"2014-2015\", \"2014-2015\", \"2014-2015\", \"2014-2015\", \"2014-2015\", \"2014-2015\", \"2014-2015\", \"2014-2015\", \"2014-2015\", \"2014-2015\", \"2014-2015\", \"2014-2015\", \"2014-2015\", \"2014-2015\", \"2014-2015\", \"2014-2015\", \"2014-2015\", \"2014-2015\", \"2014-2015\", \"2014-2015\"], \"mode\": \"markers\", \"text\": [25.810000000000002, 18.89, 6.760000000000005, 0.0, 14.290000000000006, 0.0, 0.0, 10.260000000000005, 19.230000000000004, 43.48, 40.43, 4.170000000000002, 15.379999999999995, 12.620000000000005, 20.290000000000006, 43.1, 0.0, 13.540000000000006, 31.0, 13.129999999999995, 6.329999999999998, 18.489999999999995, 21.430000000000007, 23.33, 35.290000000000006, 5.260000000000005, 3.8499999999999943, 21.430000000000007, 12.5, 0.0, 2.1700000000000017, 2.1700000000000017, 15.790000000000006, 25.0, 11.11, 13.709999999999994, 9.519999999999996, 13.329999999999998, 62.5, 18.75, 20.0, 3.569999999999993, 0.0, 3.030000000000001, 31.58, 10.0, 19.439999999999998, 0.0, 16.049999999999997], \"marker\": {\"symbol\": \"circle\", \"sizeref\": 2, \"size\": [25.810000000000002, 18.89, 6.760000000000005, 0.0, 14.290000000000006, 0.0, 0.0, 10.260000000000005, 19.230000000000004, 43.48, 40.43, 4.170000000000002, 15.379999999999995, 12.620000000000005, 20.290000000000006, 43.1, 0.0, 13.540000000000006, 31.0, 13.129999999999995, 6.329999999999998, 18.489999999999995, 21.430000000000007, 23.33, 35.290000000000006, 5.260000000000005, 3.8499999999999943, 21.430000000000007, 12.5, 0.0, 2.1700000000000017, 2.1700000000000017, 15.790000000000006, 25.0, 11.11, 13.709999999999994, 9.519999999999996, 13.329999999999998, 62.5, 18.75, 20.0, 3.569999999999993, 0.0, 3.030000000000001, 31.58, 10.0, 19.439999999999998, 0.0, 16.049999999999997], \"sizemode\": \"diameter\", \"color\": [25.810000000000002, 18.89, 6.760000000000005, 0.0, 14.290000000000006, 0.0, 0.0, 10.260000000000005, 19.230000000000004, 43.48, 40.43, 4.170000000000002, 15.379999999999995, 12.620000000000005, 20.290000000000006, 43.1, 0.0, 13.540000000000006, 31.0, 13.129999999999995, 6.329999999999998, 18.489999999999995, 21.430000000000007, 23.33, 35.290000000000006, 5.260000000000005, 3.8499999999999943, 21.430000000000007, 12.5, 0.0, 2.1700000000000017, 2.1700000000000017, 15.790000000000006, 25.0, 11.11, 13.709999999999994, 9.519999999999996, 13.329999999999998, 62.5, 18.75, 20.0, 3.569999999999993, 0.0, 3.030000000000001, 31.58, 10.0, 19.439999999999998, 0.0, 16.049999999999997], \"line\": {\"width\": 2}}}, {\"type\": \"scatter\", \"x\": [\"\\u00c1LGEBRA LINEAL I\", \"\\u00c1LGEBRA LINEAL II\", \"\\u00c1LGEBRA (MATEM\\u00c1TICAS)\", \"AMPLIACI\\u00d3N DE TOPOLOG\\u00cdA\", \"AMPLIACI\\u00d3N DE VARIABLE COMPLEJA\", \"AN\\u00c1LISIS DE FOURIER Y ECUACIONES EN DERIVADAS PARCIALES\", \"AN\\u00c1LISIS MULTIVARIANTE (MATEM\\u00c1TICAS)\", \"AN\\u00c1LISIS NUM\\u00c9RICO MATRICIAL E INTERPOLACI\\u00d3N\", \"ASTROF\\u00cdSICA GENERAL\", \"C\\u00c1LCULO DE PROBABILIDADES I\", \"C\\u00c1LCULO DE PROBABILIDADES II\", \"CAMPOS Y FORMAS\", \"ESPACIOS NORMADOS\", \"ESTAD\\u00cdSTICA B\\u00c1SICA\", \"ESTRUCTURAS ALGEBRAICAS\", \"F\\u00cdSICA\", \"F\\u00cdSICA MATEM\\u00c1TICA\", \"FUNCIONES DE UNA VARIABLE I\", \"FUNCIONES DE UNA VARIABLE II\", \"FUNCIONES DE VARIAS VARIABLES I\", \"FUNCIONES DE VARIAS VARIABLES II\", \"GEOMETR\\u00cdA B\\u00c1SICA\", \"GEOMETR\\u00cdA DIFERENCIAL\", \"GEOMETR\\u00cdA DIFERENCIAL DE CURVAS Y SUPERFICIES\", \"GEOMETR\\u00cdAS LINEALES\", \"HERRAMIENTAS INFORM\\u00c1TICAS PARA MATEM\\u00c1TICAS\", \"HISTORIA DE LAS MATEM\\u00c1TICAS\", \"INFERENCIA ESTAD\\u00cdSTICA (MATEM\\u00c1TICAS)\", \"INGL\\u00c9S CIENT\\u00cdFICO\", \"INTEGRAL DE LEBESGUE\", \"INTRODUCCI\\u00d3N A LA ASTRONOM\\u00cdA\", \"INTRODUCCI\\u00d3N A LAS ECUACIONES DIFERENCIALES\", \"INTRODUCCI\\u00d3N A LOS ESPACIOS DE HILBERT\", \"LENGUAJE MATEM\\u00c1TICO, CONJUNTOS Y N\\u00daMEROS\", \"LENGUAJES DE PROGRAMACI\\u00d3N\", \"MATEM\\u00c1TICA DISCRETA\", \"MODELIZACI\\u00d3N\", \"MODELOS DE REGRESI\\u00d3N\", \"MODELOS ESTOC\\u00c1STICOS\", \"PROCESOS ESTOC\\u00c1STICOS\", \"PROGRAMACI\\u00d3N LINEAL Y ENTERA\", \"RESOLUCI\\u00d3N NUM\\u00c9RICA DE ECUACIONES\", \"SISTEMAS DIN\\u00c1MICOS\", \"TEOR\\u00cdA DE JUEGOS (MATEM\\u00c1TICAS)\", \"TEOR\\u00cdA DE LA DECISI\\u00d3N\", \"TEOR\\u00cdA DE MUESTRAS\", \"TOPOLOG\\u00cdA\", \"TRABAJO FIN DE GRADO (MATEM\\u00c1TICAS)\", \"VARIABLE COMPLEJA\"], \"y\": [\"2015-2016\", \"2015-2016\", \"2015-2016\", \"2015-2016\", \"2015-2016\", \"2015-2016\", \"2015-2016\", \"2015-2016\", \"2015-2016\", \"2015-2016\", \"2015-2016\", \"2015-2016\", \"2015-2016\", \"2015-2016\", \"2015-2016\", \"2015-2016\", \"2015-2016\", \"2015-2016\", \"2015-2016\", \"2015-2016\", \"2015-2016\", \"2015-2016\", \"2015-2016\", \"2015-2016\", \"2015-2016\", \"2015-2016\", \"2015-2016\", \"2015-2016\", \"2015-2016\", \"2015-2016\", \"2015-2016\", \"2015-2016\", \"2015-2016\", \"2015-2016\", \"2015-2016\", \"2015-2016\", \"2015-2016\", \"2015-2016\", \"2015-2016\", \"2015-2016\", \"2015-2016\", \"2015-2016\", \"2015-2016\", \"2015-2016\", \"2015-2016\", \"2015-2016\", \"2015-2016\", \"2015-2016\", \"2015-2016\"], \"mode\": \"markers\", \"text\": [27.659999999999997, 25.0, 6.560000000000002, 0.0, 10.530000000000001, 5.260000000000005, 25.0, 22.92, 15.0, 46.99, 53.06, 5.659999999999997, 16.67, 9.709999999999994, 18.92, 35.709999999999994, 25.0, 23.680000000000007, 24.489999999999995, 14.439999999999998, 7.790000000000006, 15.079999999999998, 0.0, 29.17, 37.14, 10.450000000000003, 0.0, 14.290000000000006, 9.519999999999996, 0.0, 0.0, 2.5, 21.620000000000005, 11.810000000000002, 19.049999999999997, 25.930000000000007, 2.1299999999999955, 22.22, 25.0, 0.0, 16.42, 18.42, 0.0, 13.329999999999998, 12.900000000000006, 5.8799999999999955, 18.599999999999994, 0.0, 27.42], \"marker\": {\"symbol\": \"circle\", \"sizeref\": 2, \"size\": [27.659999999999997, 25.0, 6.560000000000002, 0.0, 10.530000000000001, 5.260000000000005, 25.0, 22.92, 15.0, 46.99, 53.06, 5.659999999999997, 16.67, 9.709999999999994, 18.92, 35.709999999999994, 25.0, 23.680000000000007, 24.489999999999995, 14.439999999999998, 7.790000000000006, 15.079999999999998, 0.0, 29.17, 37.14, 10.450000000000003, 0.0, 14.290000000000006, 9.519999999999996, 0.0, 0.0, 2.5, 21.620000000000005, 11.810000000000002, 19.049999999999997, 25.930000000000007, 2.1299999999999955, 22.22, 25.0, 0.0, 16.42, 18.42, 0.0, 13.329999999999998, 12.900000000000006, 5.8799999999999955, 18.599999999999994, 0.0, 27.42], \"sizemode\": \"diameter\", \"color\": [27.659999999999997, 25.0, 6.560000000000002, 0.0, 10.530000000000001, 5.260000000000005, 25.0, 22.92, 15.0, 46.99, 53.06, 5.659999999999997, 16.67, 9.709999999999994, 18.92, 35.709999999999994, 25.0, 23.680000000000007, 24.489999999999995, 14.439999999999998, 7.790000000000006, 15.079999999999998, 0.0, 29.17, 37.14, 10.450000000000003, 0.0, 14.290000000000006, 9.519999999999996, 0.0, 0.0, 2.5, 21.620000000000005, 11.810000000000002, 19.049999999999997, 25.930000000000007, 2.1299999999999955, 22.22, 25.0, 0.0, 16.42, 18.42, 0.0, 13.329999999999998, 12.900000000000006, 5.8799999999999955, 18.599999999999994, 0.0, 27.42], \"line\": {\"width\": 2}}}], {\"title\": \"Tasa de fracaso en examen por a\\u00f1o en casa asignatura\", \"margin\": {\"b\": 200, \"t\": 50}, \"font\": {\"size\": 10}, \"hovermode\": \"closest\", \"showlegend\": false, \"yaxis\": {\"title\": \"A\\u00f1os\", \"autotick\": false, \"tick0\": 0, \"dtick\": 0}}, {\"showLink\": true, \"linkText\": \"Export to plot.ly\"})});</script>"
      ],
      "text/plain": [
       "<IPython.core.display.HTML object>"
      ]
     },
     "metadata": {},
     "output_type": "display_data"
    }
   ],
   "source": [
    "traces = []\n",
    "for year in cursos:\n",
    "    trace = go.Scatter(\n",
    "        x = df.loc[df['Curso Académico'] == year, 'Asignatura'],\n",
    "        y = np.repeat(year, df.loc[df['Curso Académico'] == year, 'Asignatura'].size),\n",
    "        mode='markers',\n",
    "        text = 100-df.loc[df['Curso Académico'] == year, 'Tasa éxito %'],\n",
    "        marker=dict(\n",
    "            symbol='circle',\n",
    "            sizeref = 2,\n",
    "            size= 100-df.loc[df['Curso Académico'] == year, 'Tasa éxito %'],\n",
    "            sizemode='diameter',\n",
    "            color= 100-df.loc[df['Curso Académico'] == year, 'Tasa éxito %'],\n",
    "            line=dict(width=2)\n",
    "        )\n",
    "    )\n",
    "    traces.append(trace)\n",
    "\n",
    "layout = go.Layout(\n",
    "    title='Tasa de fracaso en examen por año en casa asignatura',\n",
    "    margin = go.Margin(b=200, t=50),\n",
    "    font=dict(size=10),\n",
    "    hovermode = 'closest',\n",
    "    showlegend=False,\n",
    "    yaxis=dict(\n",
    "        title='Años',\n",
    "        autotick=False,\n",
    "        tick0=0,\n",
    "        dtick=0\n",
    "    )\n",
    ")\n",
    "fig = go.Figure(data=traces, layout=layout)\n",
    "py.iplot(fig, filename='bubble-chart')"
   ]
  },
  {
   "cell_type": "code",
   "execution_count": null,
   "metadata": {
    "collapsed": true
   },
   "outputs": [],
   "source": []
  }
 ],
 "metadata": {
  "kernelspec": {
   "display_name": "Python 3",
   "language": "python",
   "name": "python3"
  },
  "language_info": {
   "codemirror_mode": {
    "name": "ipython",
    "version": 3
   },
   "file_extension": ".py",
   "mimetype": "text/x-python",
   "name": "python",
   "nbconvert_exporter": "python",
   "pygments_lexer": "ipython3",
   "version": "3.6.0"
  }
 },
 "nbformat": 4,
 "nbformat_minor": 0
}
