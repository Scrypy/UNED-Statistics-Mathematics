{
 "cells": [
  {
   "cell_type": "markdown",
   "metadata": {},
   "source": [
    "### Este notebook es para visualizar de forma rápida las estadísticas del Grado de Matemáticas de la UNED."
   ]
  },
  {
   "cell_type": "markdown",
   "metadata": {},
   "source": [
    "Para saltar directamente a las gráficas puedes usar los siguientes links:\n",
    "\n",
    "[Tasa media de exito de examenes realizados](#TDEE) = $\\frac{\\text{Nº de examenes aprobados}}{\\text{Nº de examenes realizados}}$\n",
    "\n",
    "[Tasa media de exito de examenes realizados agrupada por cursos](#TDEEC)\n",
    "\n",
    "[Porcentaje medio de alumnos que realizan 2 examenes](#P2E)\n",
    "\n",
    "[Porcentaje medio de alumnos que se matriculan por 3ª vez](#M3)\n",
    "\n",
    "[Gráfico de cajas](#box)\n",
    "\n",
    "[Gráfico resumen](#summary)"
   ]
  },
  {
   "cell_type": "code",
   "execution_count": 1,
   "metadata": {
    "collapsed": false
   },
   "outputs": [
    {
     "data": {
      "text/html": [
       "<script>requirejs.config({paths: { 'plotly': ['https://cdn.plot.ly/plotly-latest.min']},});if(!window.Plotly) {{require(['plotly'],function(plotly) {window.Plotly=plotly;});}}</script>"
      ],
      "text/plain": [
       "<IPython.core.display.HTML object>"
      ]
     },
     "metadata": {},
     "output_type": "display_data"
    }
   ],
   "source": [
    "import os\n",
    "import pandas as pd\n",
    "import numpy as np\n",
    "\n",
    "import matplotlib\n",
    "import matplotlib.pyplot as plt\n",
    "%matplotlib inline\n",
    "\n",
    "# line for plotting in SVG format\n",
    "# %config InlineBackend.figure_format = 'svg'\n",
    "\n",
    "import plotly\n",
    "import plotly.offline as py\n",
    "import plotly.graph_objs as go\n",
    "# run at the start of every ipython notebook to use plotly.offline\n",
    "py.init_notebook_mode(connected=True) # this injects the plotly.js source files into the notebook"
   ]
  },
  {
   "cell_type": "code",
   "execution_count": 2,
   "metadata": {
    "collapsed": true
   },
   "outputs": [],
   "source": [
    "def subject_name(subject_id):\n",
    "    return original_data[original_data['ID'] == str(subject_id)].iloc[0, 4]\n",
    "\n",
    "def success_rate(i, year):\n",
    "    mask = (original_data['CURSO'] == year) & (original_data['ID'] == str(i))\n",
    "    return float(original_data[mask]['Nº EXÁM. APTOS']/original_data[mask]['Nº EXÁM. REALIZADOS'])\n",
    "\n",
    "def subjects_by_curso(c):\n",
    "    return [element for element in identifiers if element[4] == str(c)]\n",
    "\n",
    "def subject_years(i):\n",
    "    return np.array(original_data.loc[original_data['ID'] == str(i), 'CURSO'])\n",
    "\n",
    "def curso_subject(subject_id):\n",
    "    return str(subject_id)[4]"
   ]
  },
  {
   "cell_type": "markdown",
   "metadata": {},
   "source": [
    "He descargado previamente los archivos *xls* de la web de la UNED y los he abierto con un programa de hojas de calculo y vuelto a guardar como csv. Ahora los abrimos y los unimos en un solo Dataframe:"
   ]
  },
  {
   "cell_type": "code",
   "execution_count": 3,
   "metadata": {
    "collapsed": false
   },
   "outputs": [],
   "source": [
    "DIRECTORY = r'/Users/Dani/Documents/Desarrollo/Data_analysis/UNED/UNED-Statistics-Mathematics/input'\n",
    "original_data = pd.DataFrame()\n",
    "list_ = []\n",
    "files = [f for f in os.listdir(DIRECTORY) if f[0] is not '.']\n",
    "for file in files:\n",
    "    df = pd.read_csv(os.path.join(DIRECTORY, file), header=2, decimal=',')\n",
    "    list_.append(df)\n",
    "original_data = pd.concat(list_)\n",
    "data = original_data.copy()\n",
    "identifiers = original_data.ID.unique()"
   ]
  },
  {
   "cell_type": "code",
   "execution_count": 4,
   "metadata": {
    "collapsed": false
   },
   "outputs": [
    {
     "name": "stdout",
     "output_type": "stream",
     "text": [
      "<class 'pandas.core.frame.DataFrame'>\n",
      "Int64Index: 240 entries, 0 to 49\n",
      "Data columns (total 55 columns):\n",
      "CURSO                       240 non-null int64\n",
      "TITULACIÓN                  240 non-null object\n",
      "COD. TITULACIÓN             240 non-null int64\n",
      "ID                          240 non-null object\n",
      "ASIGNATURA                  240 non-null object\n",
      "ESTUD. MATRICULADOS         240 non-null int64\n",
      "CRÉDITOS ASIG.              240 non-null int64\n",
      "CRÉDITOS MATRICULADOS       240 non-null int64\n",
      "CRÉD. MATRI. 1ª VEZ         240 non-null int64\n",
      "CRÉD. MATRI. 2ª VEZ         240 non-null int64\n",
      "CRÉD. MATRI. 3ª VEZ         240 non-null int64\n",
      "CRÉDITOS PRESENTADOS        240 non-null int64\n",
      "CRÉDITOS SUPERADOS          240 non-null int64\n",
      "CRÉDITOS RECONOCIDOS        240 non-null int64\n",
      "TASA EVALUACIÓN             157 non-null float64\n",
      "VAR. % TASA EVAL.           157 non-null float64\n",
      "TASA ÉXITO                  157 non-null float64\n",
      "VAR. % TASA ÉXIT.           157 non-null float64\n",
      "TASA ÉXITO EXÁM. REALIZ.    157 non-null float64\n",
      "VAR. % ÉXITO EXÁM.          157 non-null float64\n",
      "TASA RENDIMIENTO            157 non-null float64\n",
      "VAR. % TASA REND.           157 non-null float64\n",
      "TASA RECONCIMIENTO          157 non-null float64\n",
      "NOTA MEDIA                  157 non-null float64\n",
      "% SUSPENSOS                 157 non-null float64\n",
      "% APROBADOS                 157 non-null float64\n",
      "% NOTABLES                  157 non-null float64\n",
      "% SOBRESALIENTES            157 non-null float64\n",
      "% MATRÍCULAS H.             157 non-null float64\n",
      "Nº EXÁM. REALIZADOS         190 non-null float64\n",
      "Nº EXÁM. APTOS              190 non-null float64\n",
      "% ESTUD. 0 EXÁM.            190 non-null float64\n",
      "% ESTUD. 1 EXÁM.            190 non-null float64\n",
      "% ESTUD. 2 EXÁM.            190 non-null float64\n",
      "% ESTUD. 3 EXÁM.            190 non-null float64\n",
      "% ESTUD. 4 EXÁM.            190 non-null float64\n",
      "% ESTUD. 5 EXÁM.            190 non-null float64\n",
      "Nº EXÁM. REALIZADOS 1PPF    190 non-null float64\n",
      "Nº EXÁM. APTOS 1PPF         190 non-null float64\n",
      "Nº EXÁM. REALIZADOS 2PPJ    190 non-null float64\n",
      "Nº EXÁM. APTOS 2PPJ         190 non-null float64\n",
      "Nº EXÁM. REALIZADOS 1PPS    190 non-null float64\n",
      "Nº EXÁM. APTOS 1PPS         190 non-null float64\n",
      "Nº EXÁM. REALIZADOS 2PPS    190 non-null float64\n",
      "Nº EXÁM. APTOS 2PPS         190 non-null float64\n",
      "Nº EXÁM. REALIZADOS DIC     190 non-null float64\n",
      "Nº EXÁM. APTOS DIC          190 non-null float64\n",
      "% ÉXITO 1PPF                78 non-null float64\n",
      "% ÉXITO 2PPJ                79 non-null float64\n",
      "% ÉXITO 1PPS                75 non-null float64\n",
      "% ÉXITO 2PPS                79 non-null float64\n",
      "% ÉXITO DIC.                2 non-null float64\n",
      "RATIO EXÁM. ESTUD.          157 non-null float64\n",
      "FECHA DESCARGA EXCEL        240 non-null object\n",
      "Unnamed: 54                 0 non-null float64\n",
      "dtypes: float64(40), int64(11), object(4)\n",
      "memory usage: 105.0+ KB\n"
     ]
    }
   ],
   "source": [
    "data.info()"
   ]
  },
  {
   "cell_type": "markdown",
   "metadata": {},
   "source": [
    "Podemos ver que algunas columnas no tienen todos los datos. Esto se debe a que hay años en los que las asignaturas no han sido ofertadas o no han tenido estudiantes. Eliminaremos estas filas del dataframe así como las que no nos interesen o sean redundantes."
   ]
  },
  {
   "cell_type": "code",
   "execution_count": 5,
   "metadata": {
    "collapsed": false
   },
   "outputs": [],
   "source": [
    "# Deleting columns with no students data\n",
    "mask = data['ESTUD. MATRICULADOS'] == 0\n",
    "\n",
    "# Deleting non interesting columns\n",
    "data = data[~mask]\n",
    "columns_to_drop = [\n",
    "    'COD. TITULACIÓN',\n",
    "    '% ÉXITO 1PPF',\n",
    "    '% ÉXITO 2PPJ',\n",
    "    '% ÉXITO 1PPS',\n",
    "    '% ÉXITO 2PPS',\n",
    "    '% ÉXITO DIC.',\n",
    "    'FECHA DESCARGA EXCEL',\n",
    "    'Unnamed: 54',\n",
    "    'Nº EXÁM. REALIZADOS 1PPF',\n",
    "    'Nº EXÁM. REALIZADOS 2PPJ',\n",
    "    'Nº EXÁM. REALIZADOS 1PPS',\n",
    "    'Nº EXÁM. REALIZADOS 2PPS',\n",
    "    'Nº EXÁM. APTOS 1PPF',\n",
    "    'Nº EXÁM. APTOS 2PPJ',\n",
    "    'Nº EXÁM. APTOS 1PPS',\n",
    "    'Nº EXÁM. APTOS 2PPS',\n",
    "    'Nº EXÁM. REALIZADOS DIC',\n",
    "    'Nº EXÁM. APTOS DIC',\n",
    "    'TASA RECONCIMIENTO',\n",
    "    'CRÉDITOS RECONOCIDOS',\n",
    "    'VAR. % TASA EVAL.',\n",
    "    'VAR. % TASA ÉXIT.',\n",
    "    'VAR. % ÉXITO EXÁM.',\n",
    "    'VAR. % TASA REND.',\n",
    "    'TASA EVALUACIÓN',\n",
    "    'TASA RENDIMIENTO',\n",
    "    '% ESTUD. 3 EXÁM.',\n",
    "    '% ESTUD. 4 EXÁM.',\n",
    "    '% ESTUD. 5 EXÁM.',\n",
    "    'TASA ÉXITO EXÁM. REALIZ.'\n",
    "]\n",
    "data.drop(columns_to_drop, axis=1, inplace=True)"
   ]
  },
  {
   "cell_type": "markdown",
   "metadata": {},
   "source": [
    "Creamos columnas para obtener una mayor precisión, puesto que los datos que vienen en el archivo csv estan truncados para 2 decimales y podemos calcular fácilmente algunos de ellos con los datos que nos dan. Después borramos algunos datos más que no necesitamos. "
   ]
  },
  {
   "cell_type": "code",
   "execution_count": 6,
   "metadata": {
    "collapsed": false
   },
   "outputs": [],
   "source": [
    "data['Tasa exito examen'] = data['Nº EXÁM. APTOS']/data['Nº EXÁM. REALIZADOS']\n",
    "data['% creditos matric. 1 vez'] = data['CRÉD. MATRI. 1ª VEZ']/data['CRÉDITOS MATRICULADOS']\n",
    "data['% creditos matric. 2 vez'] = data['CRÉD. MATRI. 2ª VEZ']/data['CRÉDITOS MATRICULADOS']\n",
    "data['% creditos matric. 3 vez'] = data['CRÉD. MATRI. 3ª VEZ']/data['CRÉDITOS MATRICULADOS']\n",
    "data['Tasa exito'] = data['CRÉDITOS SUPERADOS']/data['CRÉDITOS PRESENTADOS']\n",
    "data['Ratio tasas de exito'] = data['Tasa exito examen'] / data['Tasa exito']\n",
    "columns_to_drop = [\n",
    "    'CRÉD. MATRI. 1ª VEZ',\n",
    "    'CRÉD. MATRI. 2ª VEZ',\n",
    "    'CRÉD. MATRI. 3ª VEZ',\n",
    "    'Nº EXÁM. APTOS',\n",
    "    'Nº EXÁM. REALIZADOS'\n",
    "]\n",
    "data.drop(columns_to_drop, axis=1, inplace=True)"
   ]
  },
  {
   "cell_type": "code",
   "execution_count": 7,
   "metadata": {
    "collapsed": false
   },
   "outputs": [
    {
     "name": "stdout",
     "output_type": "stream",
     "text": [
      "<class 'pandas.core.frame.DataFrame'>\n",
      "Int64Index: 157 entries, 0 to 49\n",
      "Data columns (total 26 columns):\n",
      "CURSO                       157 non-null int64\n",
      "TITULACIÓN                  157 non-null object\n",
      "ID                          157 non-null object\n",
      "ASIGNATURA                  157 non-null object\n",
      "ESTUD. MATRICULADOS         157 non-null int64\n",
      "CRÉDITOS ASIG.              157 non-null int64\n",
      "CRÉDITOS MATRICULADOS       157 non-null int64\n",
      "CRÉDITOS PRESENTADOS        157 non-null int64\n",
      "CRÉDITOS SUPERADOS          157 non-null int64\n",
      "TASA ÉXITO                  157 non-null float64\n",
      "NOTA MEDIA                  157 non-null float64\n",
      "% SUSPENSOS                 157 non-null float64\n",
      "% APROBADOS                 157 non-null float64\n",
      "% NOTABLES                  157 non-null float64\n",
      "% SOBRESALIENTES            157 non-null float64\n",
      "% MATRÍCULAS H.             157 non-null float64\n",
      "% ESTUD. 0 EXÁM.            157 non-null float64\n",
      "% ESTUD. 1 EXÁM.            157 non-null float64\n",
      "% ESTUD. 2 EXÁM.            157 non-null float64\n",
      "RATIO EXÁM. ESTUD.          157 non-null float64\n",
      "Tasa exito examen           157 non-null float64\n",
      "% creditos matric. 1 vez    157 non-null float64\n",
      "% creditos matric. 2 vez    157 non-null float64\n",
      "% creditos matric. 3 vez    157 non-null float64\n",
      "Tasa exito                  157 non-null float64\n",
      "Ratio tasas de exito        157 non-null float64\n",
      "dtypes: float64(17), int64(6), object(3)\n",
      "memory usage: 33.1+ KB\n"
     ]
    }
   ],
   "source": [
    "data.info()"
   ]
  },
  {
   "cell_type": "markdown",
   "metadata": {},
   "source": [
    "Creamos un indice jerarquico para después agrupar por asignaturas y años."
   ]
  },
  {
   "cell_type": "code",
   "execution_count": 8,
   "metadata": {
    "collapsed": false
   },
   "outputs": [],
   "source": [
    "df = data.set_index(['ID', 'CURSO'])"
   ]
  },
  {
   "cell_type": "markdown",
   "metadata": {},
   "source": [
    "Agrupamos por asignatura calculando las medias de los años anteriores. No todas las asignaturas tienen la misma cantidad de datos."
   ]
  },
  {
   "cell_type": "code",
   "execution_count": 9,
   "metadata": {
    "collapsed": false
   },
   "outputs": [],
   "source": [
    "medias = df.mean(level='ID')\n",
    "varianzas = df.var(level='ID')\n",
    "medias['Asignatura'] = pd.Series([subject_name(i) for i in medias.index.values], index=medias.index)\n",
    "medias['Curso'] = pd.Series([curso_subject(i) for i in medias.index.values], index=medias.index)"
   ]
  },
  {
   "cell_type": "markdown",
   "metadata": {
    "collapsed": false
   },
   "source": [
    "Dibujamos la grafica para la <a id='TDEE'>Tasa media de exito de examenes realizados</a> ordenando previamente el dataframe de menor a mayor."
   ]
  },
  {
   "cell_type": "code",
   "execution_count": 10,
   "metadata": {
    "collapsed": false
   },
   "outputs": [
    {
     "data": {
      "text/html": [
       "<div id=\"967c5bb2-ef40-434b-9881-58d11ac803af\" style=\"height: 1000px; width: 100%;\" class=\"plotly-graph-div\"></div><script type=\"text/javascript\">require([\"plotly\"], function(Plotly) { window.PLOTLYENV=window.PLOTLYENV || {};window.PLOTLYENV.BASE_URL=\"https://plot.ly\";Plotly.newPlot(\"967c5bb2-ef40-434b-9881-58d11ac803af\", [{\"text\": [49, 48, 47, 46, 45, 44, 43, 42, 41, 40, 39, 38, 37, 36, 35, 34, 33, 32, 31, 30, 29, 28, 27, 26, 25, 24, 23, 22, 21, 20, 19, 18, 17, 16, 15, 14, 13, 12, 11, 10, 9, 8, 7, 6, 5, 4, 3, 2, 1], \"type\": \"bar\", \"orientation\": \"h\", \"x\": [1.0, 0.9170653907496013, 0.9166666666666666, 0.8972531566566242, 0.883028083028083, 0.8770833333333333, 0.8666666666666667, 0.8279375696767001, 0.8267045454545454, 0.822822105430801, 0.8153198653198653, 0.8148148148148149, 0.8125, 0.7986111111111112, 0.7788461538461539, 0.7670250896057347, 0.7459856154877733, 0.7432396850237226, 0.713903743315508, 0.7122310639552017, 0.6805555555555556, 0.6563237657272958, 0.6484567901234567, 0.6462293673340517, 0.6433294204276614, 0.6393530997304583, 0.6373847486029602, 0.6203657253148958, 0.6036925245421608, 0.5961034826141874, 0.5923076923076923, 0.5833333333333333, 0.58187564499484, 0.5648926237161532, 0.5612255679482799, 0.5473145780051151, 0.5394736842105263, 0.5390151410891024, 0.5308978931378376, 0.5222681451612904, 0.4923503394466616, 0.4916666666666667, 0.4688908790011731, 0.4478777336437931, 0.42178265221743483, 0.3984848484848485, 0.3919758342767551, 0.329860448563597, 0.16346153846153846], \"y\": [\"TRABAJO FIN DE GRADO (MATEM\\u00c1TICAS)\", \"AN\\u00c1LISIS DE FOURIER Y ECUACIONES EN DERIVADAS PARCIALES\", \"SISTEMAS DIN\\u00c1MICOS\", \"FUNCIONES DE VARIAS VARIABLES II\", \"INTRODUCCI\\u00d3N A LAS ECUACIONES DIFERENCIALES\", \"INTRODUCCI\\u00d3N A LA ASTRONOM\\u00cdA\", \"GEOMETR\\u00cdA DIFERENCIAL\", \"MODELIZACI\\u00d3N\", \"HISTORIA DE LAS MATEM\\u00c1TICAS\", \"CAMPOS Y FORMAS\", \"RESOLUCI\\u00d3N NUM\\u00c9RICA DE ECUACIONES\", \"INTEGRAL DE LEBESGUE\", \"TEOR\\u00cdA DE MUESTRAS\", \"AMPLIACI\\u00d3N DE TOPOLOG\\u00cdA\", \"INGL\\u00c9S CIENT\\u00cdFICO\", \"TEOR\\u00cdA DE JUEGOS (MATEM\\u00c1TICAS)\", \"LENGUAJES DE PROGRAMACI\\u00d3N\", \"HERRAMIENTAS INFORM\\u00c1TICAS PARA MATEM\\u00c1TICAS\", \"AMPLIACI\\u00d3N DE VARIABLE COMPLEJA\", \"TOPOLOG\\u00cdA\", \"ASTROF\\u00cdSICA GENERAL\", \"AN\\u00c1LISIS NUM\\u00c9RICO MATRICIAL E INTERPOLACI\\u00d3N\", \"GEOMETR\\u00cdA DIFERENCIAL DE CURVAS Y SUPERFICIES\", \"FUNCIONES DE VARIAS VARIABLES I\", \"ESTAD\\u00cdSTICA B\\u00c1SICA\", \"INTRODUCCI\\u00d3N A LOS ESPACIOS DE HILBERT\", \"PROGRAMACI\\u00d3N LINEAL Y ENTERA\", \"FUNCIONES DE UNA VARIABLE I\", \"GEOMETR\\u00cdA B\\u00c1SICA\", \"\\u00c1LGEBRA (MATEM\\u00c1TICAS)\", \"AN\\u00c1LISIS MULTIVARIANTE (MATEM\\u00c1TICAS)\", \"F\\u00cdSICA MATEM\\u00c1TICA\", \"VARIABLE COMPLEJA\", \"INFERENCIA ESTAD\\u00cdSTICA (MATEM\\u00c1TICAS)\", \"MATEM\\u00c1TICA DISCRETA\", \"MODELOS DE REGRESI\\u00d3N\", \"ESPACIOS NORMADOS\", \"LENGUAJE MATEM\\u00c1TICO, CONJUNTOS Y N\\u00daMEROS\", \"ESTRUCTURAS ALGEBRAICAS\", \"GEOMETR\\u00cdAS LINEALES\", \"\\u00c1LGEBRA LINEAL I\", \"PROCESOS ESTOC\\u00c1STICOS\", \"FUNCIONES DE UNA VARIABLE II\", \"\\u00c1LGEBRA LINEAL II\", \"C\\u00c1LCULO DE PROBABILIDADES II\", \"TEOR\\u00cdA DE LA DECISI\\u00d3N\", \"F\\u00cdSICA\", \"C\\u00c1LCULO DE PROBABILIDADES I\", \"MODELOS ESTOC\\u00c1STICOS\"]}], {\"margin\": {\"l\": 300}, \"title\": \"Tasa media de \\u00e9xito en ex\\u00e1menes realizados\", \"font\": {\"size\": 12}, \"height\": 1000}, {\"linkText\": \"Export to plot.ly\", \"showLink\": true})});</script>"
      ],
      "text/plain": [
       "<IPython.core.display.HTML object>"
      ]
     },
     "metadata": {},
     "output_type": "display_data"
    }
   ],
   "source": [
    "medias.sort_values(by='Tasa exito examen', ascending=False, inplace=True)\n",
    "trace = go.Bar(\n",
    "    x = medias['Tasa exito examen'].values,\n",
    "    y = medias['Asignatura'].values,\n",
    "    text = np.arange(medias['Asignatura'].size, 0, -1),\n",
    "    orientation='h'\n",
    ")\n",
    "d = [trace]\n",
    "layout = go.Layout(\n",
    "    title = 'Tasa media de éxito en exámenes realizados',\n",
    "    margin = go.Margin(l=300),\n",
    "    height = 1000,\n",
    "    font = dict(size=12)\n",
    ")\n",
    "fig = go.Figure(data=d, layout=layout)\n",
    "py.iplot(fig)"
   ]
  },
  {
   "cell_type": "markdown",
   "metadata": {},
   "source": [
    "Personalmente, esta es la forma en la que siempre compruebo la dificultad de las asignaturas, puesto que muy frecuentemente no realizo las pruebas no presenciales y la nota que saco en el examen es mi nota definitiva."
   ]
  },
  {
   "cell_type": "markdown",
   "metadata": {},
   "source": [
    "Para ver rápidamente las asignaturas más dificiles de cada curso, podemos dibujar la gráfica <a id='TDEEC'>por grupos</a>."
   ]
  },
  {
   "cell_type": "code",
   "execution_count": 11,
   "metadata": {
    "collapsed": false
   },
   "outputs": [
    {
     "data": {
      "text/html": [
       "<div id=\"0e0a3934-45c6-4590-9200-b90daadf6d0c\" style=\"height: 700px; width: 100%;\" class=\"plotly-graph-div\"></div><script type=\"text/javascript\">require([\"plotly\"], function(Plotly) { window.PLOTLYENV=window.PLOTLYENV || {};window.PLOTLYENV.BASE_URL=\"https://plot.ly\";Plotly.newPlot(\"0e0a3934-45c6-4590-9200-b90daadf6d0c\", [{\"text\": [1, 2, 3, 4, 5, 6, 7, 8, 9, 10], \"type\": \"bar\", \"name\": \"1\\u00ba\", \"x\": [\"F\\u00cdSICA\", \"\\u00c1LGEBRA LINEAL II\", \"FUNCIONES DE UNA VARIABLE II\", \"\\u00c1LGEBRA LINEAL I\", \"LENGUAJE MATEM\\u00c1TICO, CONJUNTOS Y N\\u00daMEROS\", \"MATEM\\u00c1TICA DISCRETA\", \"GEOMETR\\u00cdA B\\u00c1SICA\", \"FUNCIONES DE UNA VARIABLE I\", \"ESTAD\\u00cdSTICA B\\u00c1SICA\", \"FUNCIONES DE VARIAS VARIABLES I\"], \"y\": [0.3919758342767551, 0.4478777336437931, 0.4688908790011731, 0.4923503394466616, 0.5390151410891024, 0.5612255679482799, 0.6036925245421608, 0.6203657253148958, 0.6433294204276614, 0.6462293673340517]}, {\"text\": [1, 2, 3, 4, 5, 6, 7, 8, 9, 10], \"type\": \"bar\", \"name\": \"2\\u00ba\", \"x\": [\"C\\u00c1LCULO DE PROBABILIDADES I\", \"GEOMETR\\u00cdAS LINEALES\", \"ESTRUCTURAS ALGEBRAICAS\", \"VARIABLE COMPLEJA\", \"\\u00c1LGEBRA (MATEM\\u00c1TICAS)\", \"PROGRAMACI\\u00d3N LINEAL Y ENTERA\", \"AN\\u00c1LISIS NUM\\u00c9RICO MATRICIAL E INTERPOLACI\\u00d3N\", \"HERRAMIENTAS INFORM\\u00c1TICAS PARA MATEM\\u00c1TICAS\", \"LENGUAJES DE PROGRAMACI\\u00d3N\", \"FUNCIONES DE VARIAS VARIABLES II\"], \"y\": [0.329860448563597, 0.5222681451612904, 0.5308978931378376, 0.58187564499484, 0.5961034826141874, 0.6373847486029602, 0.6563237657272958, 0.7432396850237226, 0.7459856154877733, 0.8972531566566242]}, {\"text\": [1, 2, 3, 4, 5, 6, 7, 8, 9, 10], \"type\": \"bar\", \"name\": \"3\\u00ba\", \"x\": [\"C\\u00c1LCULO DE PROBABILIDADES II\", \"INFERENCIA ESTAD\\u00cdSTICA (MATEM\\u00c1TICAS)\", \"INTRODUCCI\\u00d3N A LOS ESPACIOS DE HILBERT\", \"GEOMETR\\u00cdA DIFERENCIAL DE CURVAS Y SUPERFICIES\", \"TOPOLOG\\u00cdA\", \"RESOLUCI\\u00d3N NUM\\u00c9RICA DE ECUACIONES\", \"CAMPOS Y FORMAS\", \"MODELIZACI\\u00d3N\", \"INTRODUCCI\\u00d3N A LAS ECUACIONES DIFERENCIALES\", \"AN\\u00c1LISIS DE FOURIER Y ECUACIONES EN DERIVADAS PARCIALES\"], \"y\": [0.42178265221743483, 0.5648926237161532, 0.6393530997304583, 0.6484567901234567, 0.7122310639552017, 0.8153198653198653, 0.822822105430801, 0.8279375696767001, 0.883028083028083, 0.9170653907496013]}, {\"text\": [1, 2, 3, 4, 5, 6, 7, 8, 9, 10, 11, 12, 13, 14, 15, 16, 17, 18, 19], \"type\": \"bar\", \"name\": \"4\\u00ba\", \"x\": [\"MODELOS ESTOC\\u00c1STICOS\", \"TEOR\\u00cdA DE LA DECISI\\u00d3N\", \"PROCESOS ESTOC\\u00c1STICOS\", \"ESPACIOS NORMADOS\", \"MODELOS DE REGRESI\\u00d3N\", \"F\\u00cdSICA MATEM\\u00c1TICA\", \"AN\\u00c1LISIS MULTIVARIANTE (MATEM\\u00c1TICAS)\", \"ASTROF\\u00cdSICA GENERAL\", \"AMPLIACI\\u00d3N DE VARIABLE COMPLEJA\", \"TEOR\\u00cdA DE JUEGOS (MATEM\\u00c1TICAS)\", \"INGL\\u00c9S CIENT\\u00cdFICO\", \"AMPLIACI\\u00d3N DE TOPOLOG\\u00cdA\", \"TEOR\\u00cdA DE MUESTRAS\", \"INTEGRAL DE LEBESGUE\", \"HISTORIA DE LAS MATEM\\u00c1TICAS\", \"GEOMETR\\u00cdA DIFERENCIAL\", \"INTRODUCCI\\u00d3N A LA ASTRONOM\\u00cdA\", \"SISTEMAS DIN\\u00c1MICOS\", \"TRABAJO FIN DE GRADO (MATEM\\u00c1TICAS)\"], \"y\": [0.16346153846153846, 0.3984848484848485, 0.4916666666666667, 0.5394736842105263, 0.5473145780051151, 0.5833333333333333, 0.5923076923076923, 0.6805555555555556, 0.713903743315508, 0.7670250896057347, 0.7788461538461539, 0.7986111111111112, 0.8125, 0.8148148148148149, 0.8267045454545454, 0.8666666666666667, 0.8770833333333333, 0.9166666666666666, 1.0]}], {\"height\": 700, \"margin\": {\"b\": 200, \"t\": 20}, \"title\": \"Tasa media de \\u00e9xito en ex\\u00e1menes realizados por curso\", \"font\": {\"size\": 8}, \"barmode\": \"group\"}, {\"linkText\": \"Export to plot.ly\", \"showLink\": true})});</script>"
      ],
      "text/plain": [
       "<IPython.core.display.HTML object>"
      ]
     },
     "metadata": {},
     "output_type": "display_data"
    }
   ],
   "source": [
    "medias.sort_values(by='Tasa exito examen', inplace=True)\n",
    "traces = []\n",
    "for curso in range(1,5):\n",
    "    t = go.Bar(\n",
    "        y = medias.loc[medias['Curso'] == str(curso), 'Tasa exito examen'].values,\n",
    "        x = medias.loc[medias['Curso'] == str(curso), 'Asignatura'].values,\n",
    "        text = np.arange(1, medias.loc[medias['Curso'] == str(curso), 'Asignatura'].size + 1),\n",
    "        name = str(curso) + 'º'\n",
    "    )\n",
    "    traces.append(t)\n",
    "\n",
    "d = [traces]\n",
    "layout = go.Layout(\n",
    "    title = 'Tasa media de éxito en exámenes realizados por curso',\n",
    "    margin = go.Margin(b=200, t=20),\n",
    "    height = 700,\n",
    "    font = dict(size=8),\n",
    "    barmode = 'group'\n",
    ")\n",
    "fig = go.Figure(data=traces, layout=layout)\n",
    "py.iplot(fig)"
   ]
  },
  {
   "cell_type": "markdown",
   "metadata": {
    "collapsed": false
   },
   "source": [
    "La *Tasa de exito*(TDE) y la *Tasa de exito en exámenes*(TDEE) son diferentes, ya que no todos los alumnos que suspenden el examen suspenden la asignatura, pero todos los alumnos que suspenden la asignatura habrán suspendido también el examen. Por lo tanto, la TDE siempre será mayor que la TDEE.\n",
    "\n",
    "Esto puede dar lugar a que el examen, como medida de dificultad, sea en unas asignaturas más importante que en otras. **Las asignaturas que tengan un ratio TDEE:TDE bajo serán en las que más alumnos hayan aprobado sin haber aprobado el examen**, por lo tanto, serán asignaturas en las que los trabajos \"extra\", como por ejemplo las Pruebas no presenciales, han sido de más ayuda.\n",
    "\n",
    "A continuación ordenamos el dataframe segun este ratio y dibujamos la gráfica para saber en cuales asignaturas la las pruebas no presenciales han sido cruciales."
   ]
  },
  {
   "cell_type": "code",
   "execution_count": 12,
   "metadata": {
    "collapsed": false
   },
   "outputs": [
    {
     "data": {
      "text/html": [
       "<div id=\"bb3cddf5-9db3-4f26-bde2-f82415762f6b\" style=\"height: 700px; width: 100%;\" class=\"plotly-graph-div\"></div><script type=\"text/javascript\">require([\"plotly\"], function(Plotly) { window.PLOTLYENV=window.PLOTLYENV || {};window.PLOTLYENV.BASE_URL=\"https://plot.ly\";Plotly.newPlot(\"bb3cddf5-9db3-4f26-bde2-f82415762f6b\", [{\"text\": [1, 2, 3, 4, 5, 6, 7, 8, 9, 10, 11, 12, 13, 14, 15, 16, 17, 18, 19, 20, 21, 22, 23, 24, 25, 26, 27, 28, 29, 30, 31, 32, 33, 34, 35, 36, 37, 38, 39, 40, 41, 42, 43, 44, 45, 46, 47, 48, 49], \"type\": \"bar\", \"x\": [\"C\\u00c1LCULO DE PROBABILIDADES I\", \"F\\u00cdSICA\", \"TEOR\\u00cdA DE LA DECISI\\u00d3N\", \"\\u00c1LGEBRA LINEAL I\", \"\\u00c1LGEBRA LINEAL II\", \"MODELOS ESTOC\\u00c1STICOS\", \"C\\u00c1LCULO DE PROBABILIDADES II\", \"ESTRUCTURAS ALGEBRAICAS\", \"MATEM\\u00c1TICA DISCRETA\", \"GEOMETR\\u00cdAS LINEALES\", \"FUNCIONES DE UNA VARIABLE II\", \"MODELOS DE REGRESI\\u00d3N\", \"LENGUAJE MATEM\\u00c1TICO, CONJUNTOS Y N\\u00daMEROS\", \"ESPACIOS NORMADOS\", \"FUNCIONES DE UNA VARIABLE I\", \"\\u00c1LGEBRA (MATEM\\u00c1TICAS)\", \"PROCESOS ESTOC\\u00c1STICOS\", \"INTRODUCCI\\u00d3N A LOS ESPACIOS DE HILBERT\", \"AN\\u00c1LISIS MULTIVARIANTE (MATEM\\u00c1TICAS)\", \"GEOMETR\\u00cdA B\\u00c1SICA\", \"ESTAD\\u00cdSTICA B\\u00c1SICA\", \"VARIABLE COMPLEJA\", \"GEOMETR\\u00cdA DIFERENCIAL DE CURVAS Y SUPERFICIES\", \"AMPLIACI\\u00d3N DE VARIABLE COMPLEJA\", \"FUNCIONES DE VARIAS VARIABLES I\", \"AN\\u00c1LISIS NUM\\u00c9RICO MATRICIAL E INTERPOLACI\\u00d3N\", \"PROGRAMACI\\u00d3N LINEAL Y ENTERA\", \"INFERENCIA ESTAD\\u00cdSTICA (MATEM\\u00c1TICAS)\", \"HERRAMIENTAS INFORM\\u00c1TICAS PARA MATEM\\u00c1TICAS\", \"TOPOLOG\\u00cdA\", \"LENGUAJES DE PROGRAMACI\\u00d3N\", \"AMPLIACI\\u00d3N DE TOPOLOG\\u00cdA\", \"F\\u00cdSICA MATEM\\u00c1TICA\", \"TEOR\\u00cdA DE JUEGOS (MATEM\\u00c1TICAS)\", \"TEOR\\u00cdA DE MUESTRAS\", \"ASTROF\\u00cdSICA GENERAL\", \"HISTORIA DE LAS MATEM\\u00c1TICAS\", \"MODELIZACI\\u00d3N\", \"INTEGRAL DE LEBESGUE\", \"INGL\\u00c9S CIENT\\u00cdFICO\", \"CAMPOS Y FORMAS\", \"RESOLUCI\\u00d3N NUM\\u00c9RICA DE ECUACIONES\", \"INTRODUCCI\\u00d3N A LAS ECUACIONES DIFERENCIALES\", \"SISTEMAS DIN\\u00c1MICOS\", \"INTRODUCCI\\u00d3N A LA ASTRONOM\\u00cdA\", \"AN\\u00c1LISIS DE FOURIER Y ECUACIONES EN DERIVADAS PARCIALES\", \"FUNCIONES DE VARIAS VARIABLES II\", \"GEOMETR\\u00cdA DIFERENCIAL\", \"TRABAJO FIN DE GRADO (MATEM\\u00c1TICAS)\"], \"y\": [0.5493198476519316, 0.5816089700483124, 0.6121212121212121, 0.6144481475662621, 0.6385336664165816, 0.641025641025641, 0.6508494519364084, 0.6603490822630905, 0.6645799470423149, 0.6723588709677419, 0.6763261479805597, 0.6790281329923273, 0.6791804969340102, 0.6921052631578948, 0.7238490342182596, 0.7266412004470912, 0.7333333333333334, 0.7413746630727763, 0.7461538461538462, 0.7468453323659091, 0.751941971757587, 0.7551155257424607, 0.7561728395061729, 0.7593582887700534, 0.7614444894846789, 0.768645721628071, 0.769897562104289, 0.7784780578898226, 0.7909910077750454, 0.7919834954317713, 0.8251663032515296, 0.8263888888888888, 0.8333333333333333, 0.8454301075268817, 0.8541666666666666, 0.8564814814814814, 0.8626893939393939, 0.866911928651059, 0.8703703703703705, 0.8708791208791209, 0.8764293677337155, 0.8846801346801346, 0.8896947496947497, 0.9166666666666666, 0.9183333333333333, 0.9322169059011164, 0.9386598006198359, 0.9666666666666666, 1.0]}], {\"margin\": {\"b\": 300, \"t\": 20}, \"title\": \"Ratio 'Tasa de exito examen' / 'Tasa de exito'\", \"font\": {\"size\": 8}, \"height\": 700}, {\"linkText\": \"Export to plot.ly\", \"showLink\": true})});</script>"
      ],
      "text/plain": [
       "<IPython.core.display.HTML object>"
      ]
     },
     "metadata": {},
     "output_type": "display_data"
    }
   ],
   "source": [
    "medias.sort_values(by='Ratio tasas de exito', inplace=True)\n",
    "trace = go.Bar(\n",
    "    y = medias['Ratio tasas de exito'].values,\n",
    "    x = medias['Asignatura'].values,\n",
    "    text = np.arange(1,medias['Asignatura'].size + 1)\n",
    ")\n",
    "d = [trace]\n",
    "layout = go.Layout(\n",
    "    title = \"Ratio 'Tasa de exito examen' / 'Tasa de exito'\",\n",
    "    margin = go.Margin(b=300, t=20),\n",
    "    height = 700,\n",
    "    font = dict(size=8)\n",
    ")\n",
    "fig = go.Figure(data=d, layout=layout)\n",
    "py.iplot(fig)"
   ]
  },
  {
   "cell_type": "markdown",
   "metadata": {},
   "source": [
    "Porcentaje de alumnos que <a id='P2E'\\>realizan 2 exámenes<a>"
   ]
  },
  {
   "cell_type": "code",
   "execution_count": 13,
   "metadata": {
    "collapsed": false
   },
   "outputs": [
    {
     "data": {
      "text/html": [
       "<div id=\"ee85dae9-f96b-4530-9068-865ce869aec2\" style=\"height: 700px; width: 100%;\" class=\"plotly-graph-div\"></div><script type=\"text/javascript\">require([\"plotly\"], function(Plotly) { window.PLOTLYENV=window.PLOTLYENV || {};window.PLOTLYENV.BASE_URL=\"https://plot.ly\";Plotly.newPlot(\"ee85dae9-f96b-4530-9068-865ce869aec2\", [{\"text\": [1, 2, 3, 4, 5, 6, 7, 8, 9, 10, 11, 12, 13, 14, 15, 16, 17, 18, 19, 20, 21, 22, 23, 24, 25, 26, 27, 28, 29, 30, 31, 32, 33, 34, 35, 36, 37, 38, 39, 40, 41, 42, 43, 44, 45, 46, 47, 48, 49], \"type\": \"bar\", \"x\": [\"SISTEMAS DIN\\u00c1MICOS\", \"GEOMETR\\u00cdA DIFERENCIAL\", \"F\\u00cdSICA MATEM\\u00c1TICA\", \"AN\\u00c1LISIS DE FOURIER Y ECUACIONES EN DERIVADAS PARCIALES\", \"FUNCIONES DE VARIAS VARIABLES II\", \"FUNCIONES DE UNA VARIABLE I\", \"GEOMETR\\u00cdA B\\u00c1SICA\", \"TOPOLOG\\u00cdA\", \"INTRODUCCI\\u00d3N A LAS ECUACIONES DIFERENCIALES\", \"ESTAD\\u00cdSTICA B\\u00c1SICA\", \"INTRODUCCI\\u00d3N A LA ASTRONOM\\u00cdA\", \"HISTORIA DE LAS MATEM\\u00c1TICAS\", \"CAMPOS Y FORMAS\", \"MODELIZACI\\u00d3N\", \"LENGUAJES DE PROGRAMACI\\u00d3N\", \"HERRAMIENTAS INFORM\\u00c1TICAS PARA MATEM\\u00c1TICAS\", \"LENGUAJE MATEM\\u00c1TICO, CONJUNTOS Y N\\u00daMEROS\", \"AMPLIACI\\u00d3N DE VARIABLE COMPLEJA\", \"PROGRAMACI\\u00d3N LINEAL Y ENTERA\", \"F\\u00cdSICA\", \"RESOLUCI\\u00d3N NUM\\u00c9RICA DE ECUACIONES\", \"FUNCIONES DE UNA VARIABLE II\", \"\\u00c1LGEBRA LINEAL I\", \"FUNCIONES DE VARIAS VARIABLES I\", \"\\u00c1LGEBRA (MATEM\\u00c1TICAS)\", \"INGL\\u00c9S CIENT\\u00cdFICO\", \"VARIABLE COMPLEJA\", \"TEOR\\u00cdA DE MUESTRAS\", \"MATEM\\u00c1TICA DISCRETA\", \"AN\\u00c1LISIS NUM\\u00c9RICO MATRICIAL E INTERPOLACI\\u00d3N\", \"AN\\u00c1LISIS MULTIVARIANTE (MATEM\\u00c1TICAS)\", \"TEOR\\u00cdA DE JUEGOS (MATEM\\u00c1TICAS)\", \"GEOMETR\\u00cdA DIFERENCIAL DE CURVAS Y SUPERFICIES\", \"INFERENCIA ESTAD\\u00cdSTICA (MATEM\\u00c1TICAS)\", \"\\u00c1LGEBRA LINEAL II\", \"ASTROF\\u00cdSICA GENERAL\", \"INTEGRAL DE LEBESGUE\", \"PROCESOS ESTOC\\u00c1STICOS\", \"GEOMETR\\u00cdAS LINEALES\", \"ESTRUCTURAS ALGEBRAICAS\", \"AMPLIACI\\u00d3N DE TOPOLOG\\u00cdA\", \"INTRODUCCI\\u00d3N A LOS ESPACIOS DE HILBERT\", \"ESPACIOS NORMADOS\", \"C\\u00c1LCULO DE PROBABILIDADES I\", \"C\\u00c1LCULO DE PROBABILIDADES II\", \"TEOR\\u00cdA DE LA DECISI\\u00d3N\", \"MODELOS DE REGRESI\\u00d3N\", \"TRABAJO FIN DE GRADO (MATEM\\u00c1TICAS)\", \"MODELOS ESTOC\\u00c1STICOS\"], \"y\": [0.0, 0.0, 0.0, 0.8533333333333334, 1.975, 3.364, 3.8560000000000003, 4.076666666666667, 4.21, 4.244000000000001, 4.875, 4.9350000000000005, 5.18, 5.183333333333333, 5.2225, 5.25, 5.294, 5.42, 6.0325, 6.077999999999999, 6.163333333333333, 6.2459999999999996, 6.268000000000001, 6.81, 6.8325, 7.035, 7.135, 7.155, 7.302, 7.319999999999999, 7.404999999999999, 7.5, 7.543333333333333, 7.649999999999999, 7.970000000000001, 8.26, 8.335, 8.76, 9.25, 9.275, 9.415000000000001, 10.893333333333333, 12.5, 13.705000000000002, 13.709999999999999, 13.95, 14.7, 15.495000000000001, 21.424999999999997]}], {\"margin\": {\"b\": 300, \"t\": 20}, \"title\": \"Porcentaje de alumnos que realizan 2 ex\\u00e1menes\", \"font\": {\"size\": 8}, \"height\": 700}, {\"linkText\": \"Export to plot.ly\", \"showLink\": true})});</script>"
      ],
      "text/plain": [
       "<IPython.core.display.HTML object>"
      ]
     },
     "metadata": {},
     "output_type": "display_data"
    }
   ],
   "source": [
    "medias.sort_values(by='% ESTUD. 2 EXÁM.', inplace=True)\n",
    "trace = go.Bar(\n",
    "    y = medias['% ESTUD. 2 EXÁM.'].values,\n",
    "    x = medias['Asignatura'].values,\n",
    "    text = np.arange(1,medias['Asignatura'].size + 1)\n",
    ")\n",
    "d = [trace]\n",
    "layout = go.Layout(\n",
    "    title = \"Porcentaje de alumnos que realizan 2 exámenes\",\n",
    "    margin = go.Margin(b=300, t=20),\n",
    "    height = 700,\n",
    "    font = dict(size=8)\n",
    ")\n",
    "fig = go.Figure(data=d, layout=layout)\n",
    "py.iplot(fig)"
   ]
  },
  {
   "cell_type": "markdown",
   "metadata": {},
   "source": [
    "Porcentaje medio de alumnos que <a id='M3'\\>se matriculan por 3ª vez<a>."
   ]
  },
  {
   "cell_type": "code",
   "execution_count": 14,
   "metadata": {
    "collapsed": false
   },
   "outputs": [
    {
     "data": {
      "text/html": [
       "<div id=\"27cada0b-b061-449e-a382-1480eeaa4e19\" style=\"height: 700px; width: 100%;\" class=\"plotly-graph-div\"></div><script type=\"text/javascript\">require([\"plotly\"], function(Plotly) { window.PLOTLYENV=window.PLOTLYENV || {};window.PLOTLYENV.BASE_URL=\"https://plot.ly\";Plotly.newPlot(\"27cada0b-b061-449e-a382-1480eeaa4e19\", [{\"text\": [1, 2, 3, 4, 5, 6, 7, 8, 9, 10, 11, 12, 13, 14, 15, 16, 17, 18, 19, 20, 21, 22, 23, 24, 25, 26, 27, 28, 29, 30, 31, 32, 33, 34, 35, 36, 37, 38, 39, 40, 41, 42, 43, 44, 45, 46, 47, 48, 49], \"type\": \"bar\", \"x\": [\"SISTEMAS DIN\\u00c1MICOS\", \"MODELOS DE REGRESI\\u00d3N\", \"TEOR\\u00cdA DE LA DECISI\\u00d3N\", \"ESPACIOS NORMADOS\", \"AMPLIACI\\u00d3N DE TOPOLOG\\u00cdA\", \"PROCESOS ESTOC\\u00c1STICOS\", \"INTEGRAL DE LEBESGUE\", \"ASTROF\\u00cdSICA GENERAL\", \"TEOR\\u00cdA DE JUEGOS (MATEM\\u00c1TICAS)\", \"AN\\u00c1LISIS MULTIVARIANTE (MATEM\\u00c1TICAS)\", \"TEOR\\u00cdA DE MUESTRAS\", \"INGL\\u00c9S CIENT\\u00cdFICO\", \"TRABAJO FIN DE GRADO (MATEM\\u00c1TICAS)\", \"AMPLIACI\\u00d3N DE VARIABLE COMPLEJA\", \"MODELOS ESTOC\\u00c1STICOS\", \"GEOMETR\\u00cdA DIFERENCIAL\", \"MODELIZACI\\u00d3N\", \"F\\u00cdSICA MATEM\\u00c1TICA\", \"INTRODUCCI\\u00d3N A LA ASTRONOM\\u00cdA\", \"HISTORIA DE LAS MATEM\\u00c1TICAS\", \"RESOLUCI\\u00d3N NUM\\u00c9RICA DE ECUACIONES\", \"CAMPOS Y FORMAS\", \"INTRODUCCI\\u00d3N A LOS ESPACIOS DE HILBERT\", \"HERRAMIENTAS INFORM\\u00c1TICAS PARA MATEM\\u00c1TICAS\", \"INTRODUCCI\\u00d3N A LAS ECUACIONES DIFERENCIALES\", \"AN\\u00c1LISIS DE FOURIER Y ECUACIONES EN DERIVADAS PARCIALES\", \"GEOMETR\\u00cdA DIFERENCIAL DE CURVAS Y SUPERFICIES\", \"INFERENCIA ESTAD\\u00cdSTICA (MATEM\\u00c1TICAS)\", \"FUNCIONES DE VARIAS VARIABLES II\", \"C\\u00c1LCULO DE PROBABILIDADES II\", \"TOPOLOG\\u00cdA\", \"FUNCIONES DE VARIAS VARIABLES I\", \"LENGUAJES DE PROGRAMACI\\u00d3N\", \"\\u00c1LGEBRA LINEAL I\", \"VARIABLE COMPLEJA\", \"MATEM\\u00c1TICA DISCRETA\", \"GEOMETR\\u00cdA B\\u00c1SICA\", \"AN\\u00c1LISIS NUM\\u00c9RICO MATRICIAL E INTERPOLACI\\u00d3N\", \"LENGUAJE MATEM\\u00c1TICO, CONJUNTOS Y N\\u00daMEROS\", \"FUNCIONES DE UNA VARIABLE I\", \"FUNCIONES DE UNA VARIABLE II\", \"\\u00c1LGEBRA LINEAL II\", \"ESTAD\\u00cdSTICA B\\u00c1SICA\", \"GEOMETR\\u00cdAS LINEALES\", \"PROGRAMACI\\u00d3N LINEAL Y ENTERA\", \"ESTRUCTURAS ALGEBRAICAS\", \"F\\u00cdSICA\", \"\\u00c1LGEBRA (MATEM\\u00c1TICAS)\", \"C\\u00c1LCULO DE PROBABILIDADES I\"], \"y\": [0.0, 0.0, 0.0, 0.0, 0.0, 0.0, 0.0, 0.0, 0.0, 0.0, 0.0, 0.0, 0.0, 0.0, 0.0, 0.0, 0.0, 0.0, 0.0, 0.0, 0.006060606060606061, 0.012345679012345678, 0.012499999999999999, 0.015239783856805134, 0.016460905349794237, 0.0182648401826484, 0.018518518518518517, 0.022222222222222223, 0.023004542504866967, 0.02588996763754045, 0.026217228464419474, 0.027871952766438342, 0.02828514263585904, 0.029064426789995018, 0.030047822092393227, 0.03331438207440022, 0.03344741514954281, 0.03580729166666667, 0.0378122806354233, 0.03825287810981931, 0.039877418563261845, 0.04007998783099119, 0.04178122711181409, 0.041861585030269675, 0.04313875598086124, 0.04516422251848261, 0.046207194549367434, 0.04718983514087169, 0.049906176157160725]}], {\"margin\": {\"b\": 300, \"t\": 20}, \"title\": \"Porcentaje de alumnos que se matriculan por 3\\u00aa vez\", \"font\": {\"size\": 8}, \"height\": 700}, {\"linkText\": \"Export to plot.ly\", \"showLink\": true})});</script>"
      ],
      "text/plain": [
       "<IPython.core.display.HTML object>"
      ]
     },
     "metadata": {},
     "output_type": "display_data"
    }
   ],
   "source": [
    "medias.sort_values(by='% creditos matric. 3 vez', inplace=True)\n",
    "trace = go.Bar(\n",
    "    y = medias['% creditos matric. 3 vez'].values,\n",
    "    x = medias['Asignatura'].values,\n",
    "    text = np.arange(1,medias['Asignatura'].size + 1)\n",
    ")\n",
    "d = [trace]\n",
    "layout = go.Layout(\n",
    "    title = \"Porcentaje de alumnos que se matriculan por 3ª vez\",\n",
    "    margin = go.Margin(b=300, t=20),\n",
    "    height = 700,\n",
    "    font = dict(size=8)\n",
    ")\n",
    "fig = go.Figure(data=d, layout=layout)\n",
    "py.iplot(fig)"
   ]
  },
  {
   "cell_type": "markdown",
   "metadata": {},
   "source": [
    "<a id='box'>Gráfico de cajas</a>"
   ]
  },
  {
   "cell_type": "code",
   "execution_count": 15,
   "metadata": {
    "collapsed": false
   },
   "outputs": [
    {
     "data": {
      "text/html": [
       "<div id=\"46bf3be8-bc8c-4d97-b3f4-fb96e14a5fab\" style=\"height: 700px; width: 100%;\" class=\"plotly-graph-div\"></div><script type=\"text/javascript\">require([\"plotly\"], function(Plotly) { window.PLOTLYENV=window.PLOTLYENV || {};window.PLOTLYENV.BASE_URL=\"https://plot.ly\";Plotly.newPlot(\"46bf3be8-bc8c-4d97-b3f4-fb96e14a5fab\", [{\"type\": \"box\", \"name\": \"\\u00c1LGEBRA LINEAL I\", \"y\": [0.839622641509434, 0.7796610169491526, 0.84, 0.7933884297520661, 0.7419354838709677]}, {\"type\": \"box\", \"name\": \"\\u00c1LGEBRA LINEAL II\", \"y\": [0.6633663366336634, 0.6055045871559633, 0.7560975609756098, 0.6804123711340206, 0.8111111111111111]}, {\"type\": \"box\", \"name\": \"\\u00c1LGEBRA (MATEM\\u00c1TICAS)\", \"y\": [0.8846153846153846, 0.7391304347826086, 0.6888888888888889, 0.9324324324324325]}, {\"type\": \"box\", \"name\": \"AMPLIACI\\u00d3N DE TOPOLOG\\u00cdA\", \"y\": [0.9285714285714286, 1.0]}, {\"type\": \"box\", \"name\": \"AN\\u00c1LISIS DE FOURIER Y ECUACIONES EN DERIVADAS PARCIALES\", \"y\": [1.0, 0.9523809523809523, 1.0]}, {\"type\": \"box\", \"name\": \"AN\\u00c1LISIS NUM\\u00c9RICO MATRICIAL E INTERPOLACI\\u00d3N\", \"y\": [0.8787878787878788, 0.8333333333333334, 0.8095238095238095, 0.8974358974358975]}, {\"type\": \"box\", \"name\": \"ASTROF\\u00cdSICA GENERAL\", \"y\": [0.7777777777777778, 0.8076923076923077]}, {\"type\": \"box\", \"name\": \"C\\u00c1LCULO DE PROBABILIDADES I\", \"y\": [0.6410256410256411, 0.6923076923076923, 0.5, 0.5652173913043478]}, {\"type\": \"box\", \"name\": \"C\\u00c1LCULO DE PROBABILIDADES II\", \"y\": [0.6875, 0.6551724137931034, 0.5957446808510638]}, {\"type\": \"box\", \"name\": \"ESPACIOS NORMADOS\", \"y\": [0.7142857142857143, 0.8461538461538461]}, {\"type\": \"box\", \"name\": \"ESTAD\\u00cdSTICA B\\u00c1SICA\", \"y\": [0.8152173913043478, 0.8947368421052632, 0.8260869565217391, 0.8709677419354839, 0.8737864077669902]}, {\"type\": \"box\", \"name\": \"ESTRUCTURAS ALGEBRAICAS\", \"y\": [0.8181818181818182, 0.6833333333333333, 0.9104477611940298, 0.7971014492753623]}, {\"type\": \"box\", \"name\": \"F\\u00cdSICA\", \"y\": [0.6226415094339622, 0.7962962962962963, 0.6226415094339622, 0.7432432432432432, 0.5689655172413793]}, {\"type\": \"box\", \"name\": \"F\\u00cdSICA MATEM\\u00c1TICA\", \"y\": [0.5, 1.0]}, {\"type\": \"box\", \"name\": \"FUNCIONES DE UNA VARIABLE I\", \"y\": [0.9204545454545454, 0.8390804597701149, 0.8037383177570093, 0.8505747126436781, 0.8645833333333334]}, {\"type\": \"box\", \"name\": \"FUNCIONES DE UNA VARIABLE II\", \"y\": [0.6438356164383562, 0.7027027027027027, 0.7021276595744681, 0.7303370786516854, 0.69]}, {\"type\": \"box\", \"name\": \"FUNCIONES DE VARIAS VARIABLES I\", \"y\": [0.8461538461538461, 0.8712871287128713, 0.7549019607843137, 0.9019607843137255, 0.8686868686868687]}, {\"type\": \"box\", \"name\": \"FUNCIONES DE VARIAS VARIABLES II\", \"y\": [0.9230769230769231, 0.9746835443037974, 0.9864864864864865, 0.9367088607594937]}, {\"type\": \"box\", \"name\": \"GEOMETR\\u00cdA B\\u00c1SICA\", \"y\": [0.7676767676767676, 0.7924528301886793, 0.8627450980392157, 0.8070175438596491, 0.8151260504201681]}, {\"type\": \"box\", \"name\": \"GEOMETR\\u00cdA DIFERENCIAL DE CURVAS Y SUPERFICIES\", \"y\": [0.8421052631578947, 0.9545454545454546, 0.7666666666666667]}, {\"type\": \"box\", \"name\": \"GEOMETR\\u00cdAS LINEALES\", \"y\": [0.8076923076923077, 0.7666666666666667, 0.8405797101449275, 0.6470588235294118]}, {\"type\": \"box\", \"name\": \"HERRAMIENTAS INFORM\\u00c1TICAS PARA MATEM\\u00c1TICAS\", \"y\": [1.0, 0.921875, 0.8955223880597015, 0.9473684210526315]}, {\"type\": \"box\", \"name\": \"HISTORIA DE LAS MATEM\\u00c1TICAS\", \"y\": [0.9555555555555556, 0.9615384615384616]}, {\"type\": \"box\", \"name\": \"INFERENCIA ESTAD\\u00cdSTICA (MATEM\\u00c1TICAS)\", \"y\": [0.6666666666666666, 0.71875, 0.7857142857142857]}, {\"type\": \"box\", \"name\": \"INGL\\u00c9S CIENT\\u00cdFICO\", \"y\": [0.9130434782608695, 0.875]}, {\"type\": \"box\", \"name\": \"INTRODUCCI\\u00d3N A LA ASTRONOM\\u00cdA\", \"y\": [0.9318181818181818, 0.9782608695652174]}, {\"type\": \"box\", \"name\": \"INTRODUCCI\\u00d3N A LAS ECUACIONES DIFERENCIALES\", \"y\": [1.0, 1.0, 0.9782608695652174]}, {\"type\": \"box\", \"name\": \"INTRODUCCI\\u00d3N A LOS ESPACIOS DE HILBERT\", \"y\": [0.9411764705882353, 0.782608695652174, 0.8421052631578947]}, {\"type\": \"box\", \"name\": \"LENGUAJE MATEM\\u00c1TICO, CONJUNTOS Y N\\u00daMEROS\", \"y\": [0.875, 0.7650602409638554, 0.84, 0.7142857142857143, 0.75]}, {\"type\": \"box\", \"name\": \"LENGUAJES DE PROGRAMACI\\u00d3N\", \"y\": [0.9523809523809523, 0.921875, 0.851063829787234, 0.8888888888888888]}, {\"type\": \"box\", \"name\": \"L\\u00d3GICA MATEM\\u00c1TICA\", \"y\": []}, {\"type\": \"box\", \"name\": \"MATEM\\u00c1TICA DISCRETA\", \"y\": [0.8429752066115702, 0.7666666666666667, 0.8088235294117647, 0.9266666666666666, 0.8629032258064516]}, {\"type\": \"box\", \"name\": \"MODELIZACI\\u00d3N\", \"y\": [1.0, 0.9545454545454546, 0.9047619047619048]}, {\"type\": \"box\", \"name\": \"MODELOS DE REGRESI\\u00d3N\", \"y\": [0.75, 0.8666666666666667]}, {\"type\": \"box\", \"name\": \"PROCESOS ESTOC\\u00c1STICOS\", \"y\": [0.5, 0.8125]}, {\"type\": \"box\", \"name\": \"PROGRAMACI\\u00d3N LINEAL Y ENTERA\", \"y\": [0.8055555555555556, 0.8823529411764706, 0.819672131147541, 0.8]}, {\"type\": \"box\", \"name\": \"RESOLUCI\\u00d3N NUM\\u00c9RICA DE ECUACIONES\", \"y\": [0.85, 0.9655172413793104, 0.9642857142857143]}, {\"type\": \"box\", \"name\": \"SISTEMAS DIN\\u00c1MICOS\", \"y\": [1.0]}, {\"type\": \"box\", \"name\": \"TEOR\\u00cdA DE JUEGOS (MATEM\\u00c1TICAS)\", \"y\": [0.8333333333333334, 0.9696969696969697]}, {\"type\": \"box\", \"name\": \"TEOR\\u00cdA DE LA DECISI\\u00d3N\", \"y\": [0.6153846153846154, 0.6842105263157895]}, {\"type\": \"box\", \"name\": \"TEOR\\u00cdA DE MUESTRAS\", \"y\": [1.0, 0.9]}, {\"type\": \"box\", \"name\": \"TOPOLOG\\u00cdA\", \"y\": [1.0, 0.8846153846153846, 0.8055555555555556]}, {\"type\": \"box\", \"name\": \"VARIABLE COMPLEJA\", \"y\": [0.675, 0.9552238805970149, 0.5849056603773585, 0.8395061728395061]}, {\"type\": \"box\", \"name\": \"AMPLIACI\\u00d3N DE VARIABLE COMPLEJA\", \"y\": [1.0, 0.8571428571428571]}, {\"type\": \"box\", \"name\": \"AN\\u00c1LISIS MULTIVARIANTE (MATEM\\u00c1TICAS)\", \"y\": [0.5555555555555556, 1.0]}, {\"type\": \"box\", \"name\": \"CAMPOS Y FORMAS\", \"y\": [0.9259259259259259, 0.9302325581395349, 0.9583333333333334]}, {\"type\": \"box\", \"name\": \"GEOMETR\\u00cdA DIFERENCIAL\", \"y\": [1.0, 0.7857142857142857]}, {\"type\": \"box\", \"name\": \"INTEGRAL DE LEBESGUE\", \"y\": [0.85, 1.0]}, {\"type\": \"box\", \"name\": \"MODELOS ESTOC\\u00c1STICOS\", \"y\": [0.125, 0.375]}, {\"type\": \"box\", \"name\": \"TRABAJO FIN DE GRADO (MATEM\\u00c1TICAS)\", \"y\": [1.0, 1.0]}], {\"showlegend\": false, \"margin\": {\"b\": 200, \"t\": 50}, \"title\": \"Tasa media de \\u00e9xito en ex\\u00e1menes realizados\", \"font\": {\"size\": 8}, \"height\": 700}, {\"linkText\": \"Export to plot.ly\", \"showLink\": true})});</script>"
      ],
      "text/plain": [
       "<IPython.core.display.HTML object>"
      ]
     },
     "metadata": {},
     "output_type": "display_data"
    }
   ],
   "source": [
    "traces = []\n",
    "for i in identifiers:\n",
    "    trace = go.Box(\n",
    "        y = data.loc[data['ID'] == i, 'Tasa exito'],\n",
    "        name = subject_name(i)\n",
    "    )\n",
    "    traces.append(trace)\n",
    "\n",
    "layout = go.Layout(\n",
    "    title = \"Tasa media de éxito en exámenes realizados\",\n",
    "    margin = go.Margin(b=200, t=50),\n",
    "    height = 700,\n",
    "    showlegend=False,\n",
    "    font = dict(size=8)\n",
    ")\n",
    "\n",
    "fig = go.Figure(data=traces, layout=layout)\n",
    "py.iplot(fig)"
   ]
  },
  {
   "cell_type": "markdown",
   "metadata": {},
   "source": [
    "<a id='summary'>El siguiente gráfico</a> tiene como finalidad no dar importancia a una sola medida, sino a una combinación de ellas. El color muestra el porcenaje de suspensos. Cuanto más rojo, mayor es el porcentaje de suspensos de acuerdo a la escala de color mostrada en la gráfica."
   ]
  },
  {
   "cell_type": "code",
   "execution_count": 16,
   "metadata": {
    "collapsed": false
   },
   "outputs": [
    {
     "data": {
      "text/html": [
       "<div id=\"5f5dca79-773c-443d-b600-9552f8220bfa\" style=\"height: 525px; width: 100%;\" class=\"plotly-graph-div\"></div><script type=\"text/javascript\">require([\"plotly\"], function(Plotly) { window.PLOTLYENV=window.PLOTLYENV || {};window.PLOTLYENV.BASE_URL=\"https://plot.ly\";Plotly.newPlot(\"5f5dca79-773c-443d-b600-9552f8220bfa\", [{\"text\": [\"TRABAJO FIN DE GRADO (MATEM\\u00c1TICAS)\", \"AN\\u00c1LISIS DE FOURIER Y ECUACIONES EN DERIVADAS PARCIALES\", \"SISTEMAS DIN\\u00c1MICOS\", \"FUNCIONES DE VARIAS VARIABLES II\", \"INTRODUCCI\\u00d3N A LAS ECUACIONES DIFERENCIALES\", \"INTRODUCCI\\u00d3N A LA ASTRONOM\\u00cdA\", \"GEOMETR\\u00cdA DIFERENCIAL\", \"MODELIZACI\\u00d3N\", \"HISTORIA DE LAS MATEM\\u00c1TICAS\", \"CAMPOS Y FORMAS\", \"RESOLUCI\\u00d3N NUM\\u00c9RICA DE ECUACIONES\", \"INTEGRAL DE LEBESGUE\", \"TEOR\\u00cdA DE MUESTRAS\", \"AMPLIACI\\u00d3N DE TOPOLOG\\u00cdA\", \"INGL\\u00c9S CIENT\\u00cdFICO\", \"TEOR\\u00cdA DE JUEGOS (MATEM\\u00c1TICAS)\", \"LENGUAJES DE PROGRAMACI\\u00d3N\", \"HERRAMIENTAS INFORM\\u00c1TICAS PARA MATEM\\u00c1TICAS\", \"AMPLIACI\\u00d3N DE VARIABLE COMPLEJA\", \"TOPOLOG\\u00cdA\", \"ASTROF\\u00cdSICA GENERAL\", \"AN\\u00c1LISIS NUM\\u00c9RICO MATRICIAL E INTERPOLACI\\u00d3N\", \"GEOMETR\\u00cdA DIFERENCIAL DE CURVAS Y SUPERFICIES\", \"FUNCIONES DE VARIAS VARIABLES I\", \"ESTAD\\u00cdSTICA B\\u00c1SICA\", \"INTRODUCCI\\u00d3N A LOS ESPACIOS DE HILBERT\", \"PROGRAMACI\\u00d3N LINEAL Y ENTERA\", \"FUNCIONES DE UNA VARIABLE I\", \"GEOMETR\\u00cdA B\\u00c1SICA\", \"\\u00c1LGEBRA (MATEM\\u00c1TICAS)\", \"AN\\u00c1LISIS MULTIVARIANTE (MATEM\\u00c1TICAS)\", \"F\\u00cdSICA MATEM\\u00c1TICA\", \"VARIABLE COMPLEJA\", \"INFERENCIA ESTAD\\u00cdSTICA (MATEM\\u00c1TICAS)\", \"MATEM\\u00c1TICA DISCRETA\", \"MODELOS DE REGRESI\\u00d3N\", \"ESPACIOS NORMADOS\", \"LENGUAJE MATEM\\u00c1TICO, CONJUNTOS Y N\\u00daMEROS\", \"ESTRUCTURAS ALGEBRAICAS\", \"GEOMETR\\u00cdAS LINEALES\", \"\\u00c1LGEBRA LINEAL I\", \"PROCESOS ESTOC\\u00c1STICOS\", \"FUNCIONES DE UNA VARIABLE II\", \"\\u00c1LGEBRA LINEAL II\", \"C\\u00c1LCULO DE PROBABILIDADES II\", \"TEOR\\u00cdA DE LA DECISI\\u00d3N\", \"F\\u00cdSICA\", \"C\\u00c1LCULO DE PROBABILIDADES I\", \"MODELOS ESTOC\\u00c1STICOS\"], \"type\": \"scatter\", \"marker\": {\"color\": [0.0, 0.08293460925039875, 0.08333333333333337, 0.1027468433433758, 0.116971916971917, 0.12291666666666667, 0.1333333333333333, 0.17206243032329993, 0.17329545454545459, 0.17717789456919897, 0.18468013468013467, 0.18518518518518512, 0.1875, 0.20138888888888884, 0.22115384615384615, 0.23297491039426532, 0.2540143845122267, 0.2567603149762774, 0.286096256684492, 0.28776893604479825, 0.3194444444444444, 0.3436762342727042, 0.3515432098765433, 0.3537706326659483, 0.3566705795723386, 0.3606469002695417, 0.36261525139703976, 0.37963427468510424, 0.3963074754578392, 0.40389651738581256, 0.4076923076923077, 0.41666666666666674, 0.41812435500516, 0.43510737628384677, 0.43877443205172006, 0.45268542199488493, 0.4605263157894737, 0.4609848589108976, 0.46910210686216236, 0.4777318548387096, 0.5076496605533384, 0.5083333333333333, 0.5311091209988269, 0.5521222663562069, 0.5782173477825652, 0.6015151515151516, 0.6080241657232449, 0.670139551436403, 0.8365384615384616], \"size\": [0.0, 0.08293460925039875, 0.08333333333333337, 0.1027468433433758, 0.116971916971917, 0.12291666666666667, 0.1333333333333333, 0.17206243032329993, 0.17329545454545459, 0.17717789456919897, 0.18468013468013467, 0.18518518518518512, 0.1875, 0.20138888888888884, 0.22115384615384615, 0.23297491039426532, 0.2540143845122267, 0.2567603149762774, 0.286096256684492, 0.28776893604479825, 0.3194444444444444, 0.3436762342727042, 0.3515432098765433, 0.3537706326659483, 0.3566705795723386, 0.3606469002695417, 0.36261525139703976, 0.37963427468510424, 0.3963074754578392, 0.40389651738581256, 0.4076923076923077, 0.41666666666666674, 0.41812435500516, 0.43510737628384677, 0.43877443205172006, 0.45268542199488493, 0.4605263157894737, 0.4609848589108976, 0.46910210686216236, 0.4777318548387096, 0.5076496605533384, 0.5083333333333333, 0.5311091209988269, 0.5521222663562069, 0.5782173477825652, 0.6015151515151516, 0.6080241657232449, 0.670139551436403, 0.8365384615384616], \"showscale\": true, \"line\": {\"width\": 2}, \"sizeref\": 0.01, \"symbol\": \"circle\", \"sizemode\": \"diameter\"}, \"mode\": \"markers\", \"x\": [15.495000000000001, 0.8533333333333334, 0.0, 1.975, 4.21, 4.875, 0.0, 5.183333333333333, 4.9350000000000005, 5.18, 6.163333333333333, 8.335, 7.155, 9.415000000000001, 7.035, 7.5, 5.2225, 5.25, 5.42, 4.076666666666667, 8.26, 7.319999999999999, 7.543333333333333, 6.81, 4.244000000000001, 10.893333333333333, 6.0325, 3.364, 3.8560000000000003, 6.8325, 7.404999999999999, 0.0, 7.135, 7.649999999999999, 7.302, 14.7, 12.5, 5.294, 9.275, 9.25, 6.268000000000001, 8.76, 6.2459999999999996, 7.970000000000001, 13.709999999999999, 13.95, 6.077999999999999, 13.705000000000002, 21.424999999999997], \"y\": [0.0, 0.0182648401826484, 0.0, 0.023004542504866967, 0.016460905349794237, 0.0, 0.0, 0.0, 0.0, 0.012345679012345678, 0.006060606060606061, 0.0, 0.0, 0.0, 0.0, 0.0, 0.02828514263585904, 0.015239783856805134, 0.0, 0.026217228464419474, 0.0, 0.03580729166666667, 0.018518518518518517, 0.027871952766438342, 0.04178122711181409, 0.012499999999999999, 0.04313875598086124, 0.03825287810981931, 0.03344741514954281, 0.04718983514087169, 0.0, 0.0, 0.030047822092393227, 0.022222222222222223, 0.03331438207440022, 0.0, 0.0, 0.0378122806354233, 0.04516422251848261, 0.041861585030269675, 0.029064426789995018, 0.0, 0.039877418563261845, 0.04007998783099119, 0.02588996763754045, 0.0, 0.046207194549367434, 0.049906176157160725, 0.0]}], {\"yaxis\": {\"title\": \"Porcentaje de alumnos que se matriculan por 3\\u00aa vez\"}, \"hovermode\": \"closest\", \"title\": \"Resumen\", \"font\": {\"size\": 12}, \"xaxis\": {\"title\": \"Porcentaje de alumnos que realizan 2 examenes\"}}, {\"linkText\": \"Export to plot.ly\", \"showLink\": true})});</script>"
      ],
      "text/plain": [
       "<IPython.core.display.HTML object>"
      ]
     },
     "metadata": {},
     "output_type": "display_data"
    }
   ],
   "source": [
    "medias.sort_values(by='Tasa exito examen', ascending=False, inplace=True)\n",
    "\n",
    "trace = go.Scatter(\n",
    "    x = medias['% ESTUD. 2 EXÁM.'].values,\n",
    "    y = medias['% creditos matric. 3 vez'].values,\n",
    "    mode='markers',\n",
    "    text = medias['Asignatura'],\n",
    "    marker=dict(\n",
    "        symbol='circle',\n",
    "        sizeref=0.01,\n",
    "        size= 1 - medias['Tasa exito examen'].values,\n",
    "        sizemode='diameter',\n",
    "        color= 1 - medias['Tasa exito examen'].values,\n",
    "        showscale = True,\n",
    "        line=dict(\n",
    "            width=2\n",
    "        ),\n",
    "    )\n",
    ")\n",
    "\n",
    "d = [trace]\n",
    "layout = go.Layout(\n",
    "    title='Resumen',\n",
    "    font=dict(size=12),\n",
    "    xaxis=dict(title='Porcentaje de alumnos que realizan 2 examenes'),\n",
    "    yaxis=dict(title='Porcentaje de alumnos que se matriculan por 3ª vez'),\n",
    "    hovermode = 'closest'\n",
    ")\n",
    "fig = go.Figure(data=d, layout=layout)\n",
    "py.iplot(fig)"
   ]
  },
  {
   "cell_type": "markdown",
   "metadata": {},
   "source": [
    "Como conclusión: debemos dar gracias de que Modelos estocásticos es una optativa!"
   ]
  }
 ],
 "metadata": {
  "kernelspec": {
   "display_name": "Python 3",
   "language": "python",
   "name": "python3"
  },
  "language_info": {
   "codemirror_mode": {
    "name": "ipython",
    "version": 3
   },
   "file_extension": ".py",
   "mimetype": "text/x-python",
   "name": "python",
   "nbconvert_exporter": "python",
   "pygments_lexer": "ipython3",
   "version": "3.5.2"
  }
 },
 "nbformat": 4,
 "nbformat_minor": 0
}
