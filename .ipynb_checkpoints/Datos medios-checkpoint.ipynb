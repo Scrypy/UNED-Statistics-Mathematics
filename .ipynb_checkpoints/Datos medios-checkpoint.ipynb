{
 "cells": [
  {
   "cell_type": "code",
   "execution_count": 1,
   "metadata": {
    "collapsed": false
   },
   "outputs": [
    {
     "data": {
      "text/html": [
       "<script>requirejs.config({paths: { 'plotly': ['https://cdn.plot.ly/plotly-latest.min']},});if(!window.Plotly) {{require(['plotly'],function(plotly) {window.Plotly=plotly;});}}</script>"
      ],
      "text/plain": [
       "<IPython.core.display.HTML object>"
      ]
     },
     "metadata": {},
     "output_type": "display_data"
    }
   ],
   "source": [
    "import os\n",
    "import pandas as pd\n",
    "import numpy as np\n",
    "\n",
    "import matplotlib\n",
    "import matplotlib.pyplot as plt\n",
    "%matplotlib inline\n",
    "\n",
    "# line for plotting in SVG format\n",
    "# %config InlineBackend.figure_format = 'svg'\n",
    "\n",
    "import plotly\n",
    "import plotly.offline as py\n",
    "import plotly.graph_objs as go\n",
    "# run at the start of every ipython notebook to use plotly.offline\n",
    "py.init_notebook_mode(connected=True) # this injects the plotly.js source files into the notebook"
   ]
  },
  {
   "cell_type": "code",
   "execution_count": 2,
   "metadata": {
    "collapsed": true
   },
   "outputs": [],
   "source": [
    "def subject_name(subject_id):\n",
    "    return original_data[original_data['ID'] == str(subject_id)].iloc[0, 4]\n",
    "\n",
    "def success_rate(i, year):\n",
    "    mask = (original_data['CURSO'] == year) & (original_data['ID'] == str(i))\n",
    "    return float(original_data[mask]['Nº EXÁM. APTOS']/original_data[mask]['Nº EXÁM. REALIZADOS'])\n",
    "\n",
    "def subjects_by_curso(c):\n",
    "    return [element for element in identifiers if element[4] == str(c)]\n",
    "\n",
    "def subject_years(i):\n",
    "    return np.array(original_data.loc[original_data['ID'] == str(i), 'CURSO'])\n",
    "\n",
    "def curso_subject(subject_id):\n",
    "    return str(subject_id)[4]"
   ]
  },
  {
   "cell_type": "code",
   "execution_count": 3,
   "metadata": {
    "collapsed": false
   },
   "outputs": [],
   "source": [
    "DIRECTORY = r'/Users/Dani/Documents/Desarrollo/Data_analysis/UNED/UNED-Statistics-Mathematics/input'\n",
    "original_data = pd.DataFrame()\n",
    "list_ = []\n",
    "files = [f for f in os.listdir(DIRECTORY) if f[0] is not '.']\n",
    "for file in files:\n",
    "    df = pd.read_csv(os.path.join(DIRECTORY, file), header=2, decimal=',')\n",
    "    list_.append(df)\n",
    "original_data = pd.concat(list_)\n",
    "data = original_data.copy()\n",
    "identifiers = original_data.ID.unique()"
   ]
  },
  {
   "cell_type": "code",
   "execution_count": 4,
   "metadata": {
    "collapsed": false
   },
   "outputs": [
    {
     "name": "stdout",
     "output_type": "stream",
     "text": [
      "<class 'pandas.core.frame.DataFrame'>\n",
      "Int64Index: 240 entries, 0 to 49\n",
      "Data columns (total 55 columns):\n",
      "CURSO                       240 non-null int64\n",
      "TITULACIÓN                  240 non-null object\n",
      "COD. TITULACIÓN             240 non-null int64\n",
      "ID                          240 non-null object\n",
      "ASIGNATURA                  240 non-null object\n",
      "ESTUD. MATRICULADOS         240 non-null int64\n",
      "CRÉDITOS ASIG.              240 non-null int64\n",
      "CRÉDITOS MATRICULADOS       240 non-null int64\n",
      "CRÉD. MATRI. 1ª VEZ         240 non-null int64\n",
      "CRÉD. MATRI. 2ª VEZ         240 non-null int64\n",
      "CRÉD. MATRI. 3ª VEZ         240 non-null int64\n",
      "CRÉDITOS PRESENTADOS        240 non-null int64\n",
      "CRÉDITOS SUPERADOS          240 non-null int64\n",
      "CRÉDITOS RECONOCIDOS        240 non-null int64\n",
      "TASA EVALUACIÓN             157 non-null float64\n",
      "VAR. % TASA EVAL.           157 non-null float64\n",
      "TASA ÉXITO                  157 non-null float64\n",
      "VAR. % TASA ÉXIT.           157 non-null float64\n",
      "TASA ÉXITO EXÁM. REALIZ.    157 non-null float64\n",
      "VAR. % ÉXITO EXÁM.          157 non-null float64\n",
      "TASA RENDIMIENTO            157 non-null float64\n",
      "VAR. % TASA REND.           157 non-null float64\n",
      "TASA RECONCIMIENTO          157 non-null float64\n",
      "NOTA MEDIA                  157 non-null float64\n",
      "% SUSPENSOS                 157 non-null float64\n",
      "% APROBADOS                 157 non-null float64\n",
      "% NOTABLES                  157 non-null float64\n",
      "% SOBRESALIENTES            157 non-null float64\n",
      "% MATRÍCULAS H.             157 non-null float64\n",
      "Nº EXÁM. REALIZADOS         190 non-null float64\n",
      "Nº EXÁM. APTOS              190 non-null float64\n",
      "% ESTUD. 0 EXÁM.            190 non-null float64\n",
      "% ESTUD. 1 EXÁM.            190 non-null float64\n",
      "% ESTUD. 2 EXÁM.            190 non-null float64\n",
      "% ESTUD. 3 EXÁM.            190 non-null float64\n",
      "% ESTUD. 4 EXÁM.            190 non-null float64\n",
      "% ESTUD. 5 EXÁM.            190 non-null float64\n",
      "Nº EXÁM. REALIZADOS 1PPF    190 non-null float64\n",
      "Nº EXÁM. APTOS 1PPF         190 non-null float64\n",
      "Nº EXÁM. REALIZADOS 2PPJ    190 non-null float64\n",
      "Nº EXÁM. APTOS 2PPJ         190 non-null float64\n",
      "Nº EXÁM. REALIZADOS 1PPS    190 non-null float64\n",
      "Nº EXÁM. APTOS 1PPS         190 non-null float64\n",
      "Nº EXÁM. REALIZADOS 2PPS    190 non-null float64\n",
      "Nº EXÁM. APTOS 2PPS         190 non-null float64\n",
      "Nº EXÁM. REALIZADOS DIC     190 non-null float64\n",
      "Nº EXÁM. APTOS DIC          190 non-null float64\n",
      "% ÉXITO 1PPF                78 non-null float64\n",
      "% ÉXITO 2PPJ                79 non-null float64\n",
      "% ÉXITO 1PPS                75 non-null float64\n",
      "% ÉXITO 2PPS                79 non-null float64\n",
      "% ÉXITO DIC.                2 non-null float64\n",
      "RATIO EXÁM. ESTUD.          157 non-null float64\n",
      "FECHA DESCARGA EXCEL        240 non-null object\n",
      "Unnamed: 54                 0 non-null float64\n",
      "dtypes: float64(40), int64(11), object(4)\n",
      "memory usage: 105.0+ KB\n"
     ]
    }
   ],
   "source": [
    "data.info()"
   ]
  },
  {
   "cell_type": "code",
   "execution_count": 5,
   "metadata": {
    "collapsed": false
   },
   "outputs": [],
   "source": [
    "# Deleting columns with no students data\n",
    "mask = data['ESTUD. MATRICULADOS'] == 0\n",
    "\n",
    "# Deleting non interesting columns\n",
    "data = data[~mask]\n",
    "columns_to_drop = [\n",
    "    'COD. TITULACIÓN',\n",
    "    '% ÉXITO 1PPF',\n",
    "    '% ÉXITO 2PPJ',\n",
    "    '% ÉXITO 1PPS',\n",
    "    '% ÉXITO 2PPS',\n",
    "    '% ÉXITO DIC.',\n",
    "    'FECHA DESCARGA EXCEL',\n",
    "    'Unnamed: 54',\n",
    "    'Nº EXÁM. REALIZADOS 1PPF',\n",
    "    'Nº EXÁM. REALIZADOS 2PPJ',\n",
    "    'Nº EXÁM. REALIZADOS 1PPS',\n",
    "    'Nº EXÁM. REALIZADOS 2PPS',\n",
    "    'Nº EXÁM. APTOS 1PPF',\n",
    "    'Nº EXÁM. APTOS 2PPJ',\n",
    "    'Nº EXÁM. APTOS 1PPS',\n",
    "    'Nº EXÁM. APTOS 2PPS',\n",
    "    'Nº EXÁM. REALIZADOS DIC',\n",
    "    'Nº EXÁM. APTOS DIC',\n",
    "    'TASA RECONCIMIENTO',\n",
    "    'CRÉDITOS RECONOCIDOS',\n",
    "    'VAR. % TASA EVAL.',\n",
    "    'VAR. % TASA ÉXIT.',\n",
    "    'VAR. % ÉXITO EXÁM.',\n",
    "    'VAR. % TASA REND.',\n",
    "    'TASA EVALUACIÓN',\n",
    "    'TASA RENDIMIENTO',\n",
    "    '% ESTUD. 3 EXÁM.',\n",
    "    '% ESTUD. 4 EXÁM.',\n",
    "    '% ESTUD. 5 EXÁM.',\n",
    "    'TASA ÉXITO EXÁM. REALIZ.'\n",
    "]\n",
    "data.drop(columns_to_drop, axis=1, inplace=True)"
   ]
  },
  {
   "cell_type": "code",
   "execution_count": 6,
   "metadata": {
    "collapsed": false
   },
   "outputs": [],
   "source": [
    "data['Tasa exito examen'] = data['Nº EXÁM. APTOS']/data['Nº EXÁM. REALIZADOS']\n",
    "data['% creditos matric. 1 vez'] = data['CRÉD. MATRI. 1ª VEZ']/data['CRÉDITOS MATRICULADOS']\n",
    "data['% creditos matric. 2 vez'] = data['CRÉD. MATRI. 2ª VEZ']/data['CRÉDITOS MATRICULADOS']\n",
    "data['% creditos matric. 3 vez'] = data['CRÉD. MATRI. 3ª VEZ']/data['CRÉDITOS MATRICULADOS']\n",
    "data['Tasa exito'] = data['CRÉDITOS SUPERADOS']/data['CRÉDITOS PRESENTADOS']\n",
    "data['Ratio tasas de exito'] = data['Tasa exito examen'] / data['TASA ÉXITO']\n",
    "columns_to_drop = [\n",
    "    'CRÉD. MATRI. 1ª VEZ',\n",
    "    'CRÉD. MATRI. 2ª VEZ',\n",
    "    'CRÉD. MATRI. 3ª VEZ',\n",
    "    'Nº EXÁM. APTOS',\n",
    "    'Nº EXÁM. REALIZADOS',\n",
    "    'TASA ÉXITO'\n",
    "]\n",
    "data.drop(columns_to_drop, axis=1, inplace=True)"
   ]
  },
  {
   "cell_type": "code",
   "execution_count": 7,
   "metadata": {
    "collapsed": false
   },
   "outputs": [
    {
     "name": "stdout",
     "output_type": "stream",
     "text": [
      "<class 'pandas.core.frame.DataFrame'>\n",
      "Int64Index: 157 entries, 0 to 49\n",
      "Data columns (total 25 columns):\n",
      "CURSO                       157 non-null int64\n",
      "TITULACIÓN                  157 non-null object\n",
      "ID                          157 non-null object\n",
      "ASIGNATURA                  157 non-null object\n",
      "ESTUD. MATRICULADOS         157 non-null int64\n",
      "CRÉDITOS ASIG.              157 non-null int64\n",
      "CRÉDITOS MATRICULADOS       157 non-null int64\n",
      "CRÉDITOS PRESENTADOS        157 non-null int64\n",
      "CRÉDITOS SUPERADOS          157 non-null int64\n",
      "NOTA MEDIA                  157 non-null float64\n",
      "% SUSPENSOS                 157 non-null float64\n",
      "% APROBADOS                 157 non-null float64\n",
      "% NOTABLES                  157 non-null float64\n",
      "% SOBRESALIENTES            157 non-null float64\n",
      "% MATRÍCULAS H.             157 non-null float64\n",
      "% ESTUD. 0 EXÁM.            157 non-null float64\n",
      "% ESTUD. 1 EXÁM.            157 non-null float64\n",
      "% ESTUD. 2 EXÁM.            157 non-null float64\n",
      "RATIO EXÁM. ESTUD.          157 non-null float64\n",
      "Tasa exito examen           157 non-null float64\n",
      "% creditos matric. 1 vez    157 non-null float64\n",
      "% creditos matric. 2 vez    157 non-null float64\n",
      "% creditos matric. 3 vez    157 non-null float64\n",
      "Tasa exito                  157 non-null float64\n",
      "Ratio tasas de exito        157 non-null float64\n",
      "dtypes: float64(16), int64(6), object(3)\n",
      "memory usage: 31.9+ KB\n"
     ]
    }
   ],
   "source": [
    "data.info()"
   ]
  },
  {
   "cell_type": "code",
   "execution_count": 8,
   "metadata": {
    "collapsed": false
   },
   "outputs": [],
   "source": [
    "df = data.set_index(['ID', 'CURSO'])"
   ]
  },
  {
   "cell_type": "code",
   "execution_count": 9,
   "metadata": {
    "collapsed": false
   },
   "outputs": [],
   "source": [
    "medias = df.mean(level='ID')\n",
    "varianzas = df.var(level='ID')\n",
    "medias['Asignatura'] = pd.Series([subject_name(i) for i in medias.index.values], index=medias.index)\n",
    "medias['Curso'] = pd.Series([curso_subject(i) for i in medias.index.values], index=medias.index)"
   ]
  },
  {
   "cell_type": "code",
   "execution_count": null,
   "metadata": {
    "collapsed": false
   },
   "outputs": [],
   "source": []
  },
  {
   "cell_type": "code",
   "execution_count": null,
   "metadata": {
    "collapsed": false
   },
   "outputs": [],
   "source": []
  },
  {
   "cell_type": "code",
   "execution_count": 10,
   "metadata": {
    "collapsed": false
   },
   "outputs": [
    {
     "data": {
      "text/html": [
       "<div id=\"3372230f-be49-4dd9-a7e4-3a70492cf8d8\" style=\"height: 700px; width: 100%;\" class=\"plotly-graph-div\"></div><script type=\"text/javascript\">require([\"plotly\"], function(Plotly) { window.PLOTLYENV=window.PLOTLYENV || {};window.PLOTLYENV.BASE_URL=\"https://plot.ly\";Plotly.newPlot(\"3372230f-be49-4dd9-a7e4-3a70492cf8d8\", [{\"type\": \"bar\", \"x\": [\"MODELOS ESTOC\\u00c1STICOS\", \"C\\u00c1LCULO DE PROBABILIDADES I\", \"F\\u00cdSICA\", \"TEOR\\u00cdA DE LA DECISI\\u00d3N\", \"C\\u00c1LCULO DE PROBABILIDADES II\", \"\\u00c1LGEBRA LINEAL II\", \"FUNCIONES DE UNA VARIABLE II\", \"PROCESOS ESTOC\\u00c1STICOS\", \"\\u00c1LGEBRA LINEAL I\", \"GEOMETR\\u00cdAS LINEALES\", \"ESTRUCTURAS ALGEBRAICAS\", \"LENGUAJE MATEM\\u00c1TICO, CONJUNTOS Y N\\u00daMEROS\", \"ESPACIOS NORMADOS\", \"MODELOS DE REGRESI\\u00d3N\", \"MATEM\\u00c1TICA DISCRETA\", \"INFERENCIA ESTAD\\u00cdSTICA (MATEM\\u00c1TICAS)\", \"VARIABLE COMPLEJA\", \"F\\u00cdSICA MATEM\\u00c1TICA\", \"AN\\u00c1LISIS MULTIVARIANTE (MATEM\\u00c1TICAS)\", \"\\u00c1LGEBRA (MATEM\\u00c1TICAS)\", \"GEOMETR\\u00cdA B\\u00c1SICA\", \"FUNCIONES DE UNA VARIABLE I\", \"PROGRAMACI\\u00d3N LINEAL Y ENTERA\", \"INTRODUCCI\\u00d3N A LOS ESPACIOS DE HILBERT\", \"ESTAD\\u00cdSTICA B\\u00c1SICA\", \"FUNCIONES DE VARIAS VARIABLES I\", \"GEOMETR\\u00cdA DIFERENCIAL DE CURVAS Y SUPERFICIES\", \"AN\\u00c1LISIS NUM\\u00c9RICO MATRICIAL E INTERPOLACI\\u00d3N\", \"ASTROF\\u00cdSICA GENERAL\", \"TOPOLOG\\u00cdA\", \"AMPLIACI\\u00d3N DE VARIABLE COMPLEJA\", \"HERRAMIENTAS INFORM\\u00c1TICAS PARA MATEM\\u00c1TICAS\", \"LENGUAJES DE PROGRAMACI\\u00d3N\", \"TEOR\\u00cdA DE JUEGOS (MATEM\\u00c1TICAS)\", \"INGL\\u00c9S CIENT\\u00cdFICO\", \"AMPLIACI\\u00d3N DE TOPOLOG\\u00cdA\", \"TEOR\\u00cdA DE MUESTRAS\", \"INTEGRAL DE LEBESGUE\", \"RESOLUCI\\u00d3N NUM\\u00c9RICA DE ECUACIONES\", \"CAMPOS Y FORMAS\", \"HISTORIA DE LAS MATEM\\u00c1TICAS\", \"MODELIZACI\\u00d3N\", \"GEOMETR\\u00cdA DIFERENCIAL\", \"INTRODUCCI\\u00d3N A LA ASTRONOM\\u00cdA\", \"INTRODUCCI\\u00d3N A LAS ECUACIONES DIFERENCIALES\", \"FUNCIONES DE VARIAS VARIABLES II\", \"SISTEMAS DIN\\u00c1MICOS\", \"AN\\u00c1LISIS DE FOURIER Y ECUACIONES EN DERIVADAS PARCIALES\", \"TRABAJO FIN DE GRADO (MATEM\\u00c1TICAS)\"], \"text\": [1, 2, 3, 4, 5, 6, 7, 8, 9, 10, 11, 12, 13, 14, 15, 16, 17, 18, 19, 20, 21, 22, 23, 24, 25, 26, 27, 28, 29, 30, 31, 32, 33, 34, 35, 36, 37, 38, 39, 40, 41, 42, 43, 44, 45, 46, 47, 48, 49], \"y\": [0.16346153846153846, 0.329860448563597, 0.3919758342767551, 0.3984848484848485, 0.42178265221743483, 0.4478777336437931, 0.4688908790011731, 0.4916666666666667, 0.4923503394466616, 0.5222681451612904, 0.5308978931378376, 0.5390151410891024, 0.5394736842105263, 0.5473145780051151, 0.5612255679482799, 0.5648926237161532, 0.58187564499484, 0.5833333333333333, 0.5923076923076923, 0.5961034826141874, 0.6036925245421608, 0.6203657253148958, 0.6373847486029602, 0.6393530997304583, 0.6433294204276614, 0.6462293673340517, 0.6484567901234567, 0.6563237657272958, 0.6805555555555556, 0.7122310639552017, 0.713903743315508, 0.7432396850237226, 0.7459856154877733, 0.7670250896057347, 0.7788461538461539, 0.7986111111111112, 0.8125, 0.8148148148148149, 0.8153198653198653, 0.822822105430801, 0.8267045454545454, 0.8279375696767001, 0.8666666666666667, 0.8770833333333333, 0.883028083028083, 0.8972531566566242, 0.9166666666666666, 0.9170653907496013, 1.0]}], {\"margin\": {\"t\": 20, \"b\": 300}, \"title\": \"Tasa media de \\u00e9xito en ex\\u00e1menes realizados\", \"height\": 700, \"font\": {\"size\": 8}}, {\"linkText\": \"Export to plot.ly\", \"showLink\": true})});</script>"
      ],
      "text/plain": [
       "<IPython.core.display.HTML object>"
      ]
     },
     "metadata": {},
     "output_type": "display_data"
    }
   ],
   "source": [
    "medias.sort_values(by='Tasa exito examen', inplace=True)\n",
    "trace = go.Bar(\n",
    "    y = medias['Tasa exito examen'].values,\n",
    "    x = medias['Asignatura'].values,\n",
    "    text = np.arange(1,medias['Asignatura'].size + 1)\n",
    ")\n",
    "d = [trace]\n",
    "layout = go.Layout(\n",
    "    title='Tasa media de éxito en exámenes realizados',\n",
    "    margin = go.Margin(b=300, t=20),\n",
    "    height = 700,\n",
    "    font=dict(size=8)\n",
    ")\n",
    "fig = go.Figure(data=d, layout=layout)\n",
    "py.iplot(fig)"
   ]
  },
  {
   "cell_type": "code",
   "execution_count": 11,
   "metadata": {
    "collapsed": false
   },
   "outputs": [
    {
     "data": {
      "text/html": [
       "<div id=\"be6c8e8f-4e12-4d21-b87e-231c15aa3fb5\" style=\"height: 700px; width: 100%;\" class=\"plotly-graph-div\"></div><script type=\"text/javascript\">require([\"plotly\"], function(Plotly) { window.PLOTLYENV=window.PLOTLYENV || {};window.PLOTLYENV.BASE_URL=\"https://plot.ly\";Plotly.newPlot(\"be6c8e8f-4e12-4d21-b87e-231c15aa3fb5\", [{\"type\": \"bar\", \"name\": \"1\\u00ba\", \"x\": [\"F\\u00cdSICA\", \"\\u00c1LGEBRA LINEAL II\", \"FUNCIONES DE UNA VARIABLE II\", \"\\u00c1LGEBRA LINEAL I\", \"LENGUAJE MATEM\\u00c1TICO, CONJUNTOS Y N\\u00daMEROS\", \"MATEM\\u00c1TICA DISCRETA\", \"GEOMETR\\u00cdA B\\u00c1SICA\", \"FUNCIONES DE UNA VARIABLE I\", \"ESTAD\\u00cdSTICA B\\u00c1SICA\", \"FUNCIONES DE VARIAS VARIABLES I\"], \"text\": [1, 2, 3, 4, 5, 6, 7, 8, 9, 10], \"y\": [0.3919758342767551, 0.4478777336437931, 0.4688908790011731, 0.4923503394466616, 0.5390151410891024, 0.5612255679482799, 0.6036925245421608, 0.6203657253148958, 0.6433294204276614, 0.6462293673340517]}, {\"type\": \"bar\", \"name\": \"2\\u00ba\", \"x\": [\"C\\u00c1LCULO DE PROBABILIDADES I\", \"GEOMETR\\u00cdAS LINEALES\", \"ESTRUCTURAS ALGEBRAICAS\", \"VARIABLE COMPLEJA\", \"\\u00c1LGEBRA (MATEM\\u00c1TICAS)\", \"PROGRAMACI\\u00d3N LINEAL Y ENTERA\", \"AN\\u00c1LISIS NUM\\u00c9RICO MATRICIAL E INTERPOLACI\\u00d3N\", \"HERRAMIENTAS INFORM\\u00c1TICAS PARA MATEM\\u00c1TICAS\", \"LENGUAJES DE PROGRAMACI\\u00d3N\", \"FUNCIONES DE VARIAS VARIABLES II\"], \"text\": [1, 2, 3, 4, 5, 6, 7, 8, 9, 10], \"y\": [0.329860448563597, 0.5222681451612904, 0.5308978931378376, 0.58187564499484, 0.5961034826141874, 0.6373847486029602, 0.6563237657272958, 0.7432396850237226, 0.7459856154877733, 0.8972531566566242]}, {\"type\": \"bar\", \"name\": \"3\\u00ba\", \"x\": [\"C\\u00c1LCULO DE PROBABILIDADES II\", \"INFERENCIA ESTAD\\u00cdSTICA (MATEM\\u00c1TICAS)\", \"INTRODUCCI\\u00d3N A LOS ESPACIOS DE HILBERT\", \"GEOMETR\\u00cdA DIFERENCIAL DE CURVAS Y SUPERFICIES\", \"TOPOLOG\\u00cdA\", \"RESOLUCI\\u00d3N NUM\\u00c9RICA DE ECUACIONES\", \"CAMPOS Y FORMAS\", \"MODELIZACI\\u00d3N\", \"INTRODUCCI\\u00d3N A LAS ECUACIONES DIFERENCIALES\", \"AN\\u00c1LISIS DE FOURIER Y ECUACIONES EN DERIVADAS PARCIALES\"], \"text\": [1, 2, 3, 4, 5, 6, 7, 8, 9, 10], \"y\": [0.42178265221743483, 0.5648926237161532, 0.6393530997304583, 0.6484567901234567, 0.7122310639552017, 0.8153198653198653, 0.822822105430801, 0.8279375696767001, 0.883028083028083, 0.9170653907496013]}, {\"type\": \"bar\", \"name\": \"4\\u00ba\", \"x\": [\"MODELOS ESTOC\\u00c1STICOS\", \"TEOR\\u00cdA DE LA DECISI\\u00d3N\", \"PROCESOS ESTOC\\u00c1STICOS\", \"ESPACIOS NORMADOS\", \"MODELOS DE REGRESI\\u00d3N\", \"F\\u00cdSICA MATEM\\u00c1TICA\", \"AN\\u00c1LISIS MULTIVARIANTE (MATEM\\u00c1TICAS)\", \"ASTROF\\u00cdSICA GENERAL\", \"AMPLIACI\\u00d3N DE VARIABLE COMPLEJA\", \"TEOR\\u00cdA DE JUEGOS (MATEM\\u00c1TICAS)\", \"INGL\\u00c9S CIENT\\u00cdFICO\", \"AMPLIACI\\u00d3N DE TOPOLOG\\u00cdA\", \"TEOR\\u00cdA DE MUESTRAS\", \"INTEGRAL DE LEBESGUE\", \"HISTORIA DE LAS MATEM\\u00c1TICAS\", \"GEOMETR\\u00cdA DIFERENCIAL\", \"INTRODUCCI\\u00d3N A LA ASTRONOM\\u00cdA\", \"SISTEMAS DIN\\u00c1MICOS\", \"TRABAJO FIN DE GRADO (MATEM\\u00c1TICAS)\"], \"text\": [1, 2, 3, 4, 5, 6, 7, 8, 9, 10, 11, 12, 13, 14, 15, 16, 17, 18, 19], \"y\": [0.16346153846153846, 0.3984848484848485, 0.4916666666666667, 0.5394736842105263, 0.5473145780051151, 0.5833333333333333, 0.5923076923076923, 0.6805555555555556, 0.713903743315508, 0.7670250896057347, 0.7788461538461539, 0.7986111111111112, 0.8125, 0.8148148148148149, 0.8267045454545454, 0.8666666666666667, 0.8770833333333333, 0.9166666666666666, 1.0]}], {\"barmode\": \"group\", \"margin\": {\"t\": 20, \"b\": 200}, \"title\": \"Tasa media de \\u00e9xito en ex\\u00e1menes realizados por curso\", \"height\": 700, \"font\": {\"size\": 8}}, {\"linkText\": \"Export to plot.ly\", \"showLink\": true})});</script>"
      ],
      "text/plain": [
       "<IPython.core.display.HTML object>"
      ]
     },
     "metadata": {},
     "output_type": "display_data"
    }
   ],
   "source": [
    "traces = []\n",
    "for curso in range(1,5):\n",
    "    t = go.Bar(\n",
    "        y = medias.loc[medias['Curso'] == str(curso), 'Tasa exito examen'].values,\n",
    "        x = medias.loc[medias['Curso'] == str(curso), 'Asignatura'].values,\n",
    "        text = np.arange(1, medias.loc[medias['Curso'] == str(curso), 'Asignatura'].size + 1),\n",
    "        name = str(curso) + 'º'\n",
    "    )\n",
    "    traces.append(t)\n",
    "\n",
    "d = [traces]\n",
    "layout = go.Layout(\n",
    "    title='Tasa media de éxito en exámenes realizados por curso',\n",
    "    margin = go.Margin(b=200, t=20),\n",
    "    height = 700,\n",
    "    font=dict(size=8),\n",
    "    barmode='group'\n",
    ")\n",
    "fig = go.Figure(data=traces, layout=layout)\n",
    "py.iplot(fig)"
   ]
  },
  {
   "cell_type": "code",
   "execution_count": null,
   "metadata": {
    "collapsed": false
   },
   "outputs": [],
   "source": []
  },
  {
   "cell_type": "code",
   "execution_count": null,
   "metadata": {
    "collapsed": false
   },
   "outputs": [],
   "source": []
  },
  {
   "cell_type": "code",
   "execution_count": null,
   "metadata": {
    "collapsed": false
   },
   "outputs": [],
   "source": []
  },
  {
   "cell_type": "code",
   "execution_count": null,
   "metadata": {
    "collapsed": false
   },
   "outputs": [],
   "source": []
  },
  {
   "cell_type": "code",
   "execution_count": null,
   "metadata": {
    "collapsed": true
   },
   "outputs": [],
   "source": []
  }
 ],
 "metadata": {
  "kernelspec": {
   "display_name": "Python 3",
   "language": "python",
   "name": "python3"
  },
  "language_info": {
   "codemirror_mode": {
    "name": "ipython",
    "version": 3
   },
   "file_extension": ".py",
   "mimetype": "text/x-python",
   "name": "python",
   "nbconvert_exporter": "python",
   "pygments_lexer": "ipython3",
   "version": "3.5.2"
  }
 },
 "nbformat": 4,
 "nbformat_minor": 0
}
