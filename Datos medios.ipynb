{
 "cells": [
  {
   "cell_type": "markdown",
   "metadata": {},
   "source": [
    "![image](new-statistics.jpg)"
   ]
  },
  {
   "cell_type": "markdown",
   "metadata": {},
   "source": [
    "### Este notebook es para visualizar de forma rápida las estadísticas del Grado de Matemáticas de la UNED.\n",
    "\n",
    "Tened en cuenta que las tasas de exito son la media a lo largo de varios años. Algunos años varían mucho y por esa razón he puesto el gráfico de cajas, que es el más justo en mi opinión."
   ]
  },
  {
   "cell_type": "markdown",
   "metadata": {},
   "source": [
    "Para saltar directamente a las gráficas puedes usar los siguientes links:\n",
    "\n",
    "[Tasa media de exito de examenes realizados](#TDEE) = $\\frac{\\text{Nº de examenes aprobados}}{\\text{Nº de examenes realizados}}$\n",
    "\n",
    "[Tasa media de exito de examenes realizados agrupada por cursos](#TDEEC)\n",
    "\n",
    "[Porcentaje medio de alumnos que realizan 2 examenes](#P2E)\n",
    "\n",
    "[Porcentaje medio de alumnos que se matriculan por 3ª vez](#M3)\n",
    "\n",
    "[Gráfico de cajas de la tasa de éxito en exámenes](#box)\n",
    "\n",
    "[Gráfico de cajas por curso de la tasa de éxito en exámenes](#boxcursos)\n",
    "\n",
    "[Gráfico de cajas de estudiantes matriculados por optativa](#matriculados)\n",
    "\n",
    "[Gráfico resumen](#summary)"
   ]
  },
  {
   "cell_type": "markdown",
   "metadata": {},
   "source": [
    "Puedes enconrar este notebook [aquí](https://nbviewer.jupyter.org/github/Scrypy/UNED-Statistics-Mathematics/blob/master/Datos%20medios.ipynb)."
   ]
  },
  {
   "cell_type": "code",
   "execution_count": 1,
   "metadata": {
    "collapsed": false
   },
   "outputs": [
    {
     "data": {
      "text/html": [
       "<script>requirejs.config({paths: { 'plotly': ['https://cdn.plot.ly/plotly-latest.min']},});if(!window.Plotly) {{require(['plotly'],function(plotly) {window.Plotly=plotly;});}}</script>"
      ],
      "text/plain": [
       "<IPython.core.display.HTML object>"
      ]
     },
     "metadata": {},
     "output_type": "display_data"
    }
   ],
   "source": [
    "import os\n",
    "import pandas as pd\n",
    "import numpy as np\n",
    "\n",
    "import matplotlib\n",
    "import matplotlib.pyplot as plt\n",
    "%matplotlib inline\n",
    "\n",
    "# line for plotting in SVG format\n",
    "# %config InlineBackend.figure_format = 'svg'\n",
    "\n",
    "import plotly\n",
    "import plotly.offline as py\n",
    "import plotly.graph_objs as go\n",
    "# run at the start of every ipython notebook to use plotly.offline\n",
    "py.init_notebook_mode(connected=True) # this injects the plotly.js source files into the notebook"
   ]
  },
  {
   "cell_type": "code",
   "execution_count": 2,
   "metadata": {
    "collapsed": true
   },
   "outputs": [],
   "source": [
    "def subject_name(subject_id):\n",
    "    return original_data[original_data['ID'] == str(subject_id)].iloc[0, 4]\n",
    "\n",
    "def success_rate(i, year):\n",
    "    mask = (original_data['CURSO'] == year) & (original_data['ID'] == str(i))\n",
    "    return float(original_data[mask]['Nº EXÁM. APTOS']/original_data[mask]['Nº EXÁM. REALIZADOS'])\n",
    "\n",
    "def subjects_by_curso(c):\n",
    "    return [element for element in identifiers if element[4] == str(c)]\n",
    "\n",
    "def subject_years(i):\n",
    "    return np.array(original_data.loc[original_data['ID'] == str(i), 'CURSO'])\n",
    "\n",
    "def curso_subject(subject_id):\n",
    "    return str(subject_id)[4]"
   ]
  },
  {
   "cell_type": "markdown",
   "metadata": {},
   "source": [
    "He descargado previamente los archivos *xls* de la web de la UNED y los he abierto con un programa de hojas de calculo y vuelto a guardar como csv. Ahora los abrimos y los unimos en un solo Dataframe:"
   ]
  },
  {
   "cell_type": "code",
   "execution_count": 3,
   "metadata": {
    "collapsed": false
   },
   "outputs": [],
   "source": [
    "DIRECTORY = './data'\n",
    "original_data = pd.DataFrame()\n",
    "list_ = []\n",
    "files = [f for f in os.listdir(DIRECTORY) if f[0] is not '.']\n",
    "for file in files:\n",
    "    df = pd.read_csv(os.path.join(DIRECTORY, file), header=2, decimal=',')\n",
    "    list_.append(df)\n",
    "original_data = pd.concat(list_)\n",
    "data = original_data.copy()\n",
    "identifiers = original_data.ID.unique()"
   ]
  },
  {
   "cell_type": "code",
   "execution_count": 4,
   "metadata": {
    "collapsed": false
   },
   "outputs": [
    {
     "name": "stdout",
     "output_type": "stream",
     "text": [
      "<class 'pandas.core.frame.DataFrame'>\n",
      "Int64Index: 240 entries, 0 to 49\n",
      "Data columns (total 55 columns):\n",
      "CURSO                       240 non-null int64\n",
      "TITULACIÓN                  240 non-null object\n",
      "COD. TITULACIÓN             240 non-null int64\n",
      "ID                          240 non-null object\n",
      "ASIGNATURA                  240 non-null object\n",
      "ESTUD. MATRICULADOS         240 non-null int64\n",
      "CRÉDITOS ASIG.              240 non-null int64\n",
      "CRÉDITOS MATRICULADOS       240 non-null int64\n",
      "CRÉD. MATRI. 1ª VEZ         240 non-null int64\n",
      "CRÉD. MATRI. 2ª VEZ         240 non-null int64\n",
      "CRÉD. MATRI. 3ª VEZ         240 non-null int64\n",
      "CRÉDITOS PRESENTADOS        240 non-null int64\n",
      "CRÉDITOS SUPERADOS          240 non-null int64\n",
      "CRÉDITOS RECONOCIDOS        240 non-null int64\n",
      "TASA EVALUACIÓN             157 non-null float64\n",
      "VAR. % TASA EVAL.           157 non-null float64\n",
      "TASA ÉXITO                  157 non-null float64\n",
      "VAR. % TASA ÉXIT.           157 non-null float64\n",
      "TASA ÉXITO EXÁM. REALIZ.    157 non-null float64\n",
      "VAR. % ÉXITO EXÁM.          157 non-null float64\n",
      "TASA RENDIMIENTO            157 non-null float64\n",
      "VAR. % TASA REND.           157 non-null float64\n",
      "TASA RECONCIMIENTO          157 non-null float64\n",
      "NOTA MEDIA                  157 non-null float64\n",
      "% SUSPENSOS                 157 non-null float64\n",
      "% APROBADOS                 157 non-null float64\n",
      "% NOTABLES                  157 non-null float64\n",
      "% SOBRESALIENTES            157 non-null float64\n",
      "% MATRÍCULAS H.             157 non-null float64\n",
      "Nº EXÁM. REALIZADOS         190 non-null float64\n",
      "Nº EXÁM. APTOS              190 non-null float64\n",
      "% ESTUD. 0 EXÁM.            190 non-null float64\n",
      "% ESTUD. 1 EXÁM.            190 non-null float64\n",
      "% ESTUD. 2 EXÁM.            190 non-null float64\n",
      "% ESTUD. 3 EXÁM.            190 non-null float64\n",
      "% ESTUD. 4 EXÁM.            190 non-null float64\n",
      "% ESTUD. 5 EXÁM.            190 non-null float64\n",
      "Nº EXÁM. REALIZADOS 1PPF    190 non-null float64\n",
      "Nº EXÁM. APTOS 1PPF         190 non-null float64\n",
      "Nº EXÁM. REALIZADOS 2PPJ    190 non-null float64\n",
      "Nº EXÁM. APTOS 2PPJ         190 non-null float64\n",
      "Nº EXÁM. REALIZADOS 1PPS    190 non-null float64\n",
      "Nº EXÁM. APTOS 1PPS         190 non-null float64\n",
      "Nº EXÁM. REALIZADOS 2PPS    190 non-null float64\n",
      "Nº EXÁM. APTOS 2PPS         190 non-null float64\n",
      "Nº EXÁM. REALIZADOS DIC     190 non-null float64\n",
      "Nº EXÁM. APTOS DIC          190 non-null float64\n",
      "% ÉXITO 1PPF                78 non-null float64\n",
      "% ÉXITO 2PPJ                79 non-null float64\n",
      "% ÉXITO 1PPS                75 non-null float64\n",
      "% ÉXITO 2PPS                79 non-null float64\n",
      "% ÉXITO DIC.                2 non-null float64\n",
      "RATIO EXÁM. ESTUD.          157 non-null float64\n",
      "FECHA DESCARGA EXCEL        240 non-null object\n",
      "Unnamed: 54                 0 non-null float64\n",
      "dtypes: float64(40), int64(11), object(4)\n",
      "memory usage: 105.0+ KB\n"
     ]
    }
   ],
   "source": [
    "data.info()"
   ]
  },
  {
   "cell_type": "markdown",
   "metadata": {},
   "source": [
    "Podemos ver que algunas columnas no tienen todos los datos. Esto se debe a que hay años en los que las asignaturas no han sido ofertadas o no han tenido estudiantes. Eliminaremos estas filas del dataframe así como las que no nos interesen o sean redundantes."
   ]
  },
  {
   "cell_type": "code",
   "execution_count": 5,
   "metadata": {
    "collapsed": false
   },
   "outputs": [],
   "source": [
    "# Deleting columns with no students data\n",
    "mask = data['ESTUD. MATRICULADOS'] == 0\n",
    "\n",
    "# Deleting non interesting columns\n",
    "data = data[~mask]\n",
    "columns_to_drop = [\n",
    "    'COD. TITULACIÓN',\n",
    "    '% ÉXITO 1PPF',\n",
    "    '% ÉXITO 2PPJ',\n",
    "    '% ÉXITO 1PPS',\n",
    "    '% ÉXITO 2PPS',\n",
    "    '% ÉXITO DIC.',\n",
    "    'FECHA DESCARGA EXCEL',\n",
    "    'Unnamed: 54',\n",
    "    'Nº EXÁM. REALIZADOS 1PPF',\n",
    "    'Nº EXÁM. REALIZADOS 2PPJ',\n",
    "    'Nº EXÁM. REALIZADOS 1PPS',\n",
    "    'Nº EXÁM. REALIZADOS 2PPS',\n",
    "    'Nº EXÁM. APTOS 1PPF',\n",
    "    'Nº EXÁM. APTOS 2PPJ',\n",
    "    'Nº EXÁM. APTOS 1PPS',\n",
    "    'Nº EXÁM. APTOS 2PPS',\n",
    "    'Nº EXÁM. REALIZADOS DIC',\n",
    "    'Nº EXÁM. APTOS DIC',\n",
    "    'TASA RECONCIMIENTO',\n",
    "    'CRÉDITOS RECONOCIDOS',\n",
    "    'VAR. % TASA EVAL.',\n",
    "    'VAR. % TASA ÉXIT.',\n",
    "    'VAR. % ÉXITO EXÁM.',\n",
    "    'VAR. % TASA REND.',\n",
    "    'TASA EVALUACIÓN',\n",
    "    'TASA RENDIMIENTO',\n",
    "    '% ESTUD. 3 EXÁM.',\n",
    "    '% ESTUD. 4 EXÁM.',\n",
    "    '% ESTUD. 5 EXÁM.',\n",
    "    'TASA ÉXITO EXÁM. REALIZ.'\n",
    "]\n",
    "data.drop(columns_to_drop, axis=1, inplace=True)"
   ]
  },
  {
   "cell_type": "markdown",
   "metadata": {},
   "source": [
    "Creamos columnas para obtener una mayor precisión, puesto que los datos que vienen en el archivo csv estan truncados para 2 decimales y podemos calcular fácilmente algunos de ellos con los datos que nos dan. Después borramos algunos datos más que no necesitamos. "
   ]
  },
  {
   "cell_type": "code",
   "execution_count": 6,
   "metadata": {
    "collapsed": false
   },
   "outputs": [],
   "source": [
    "data['Tasa exito examen'] = data['Nº EXÁM. APTOS']/data['Nº EXÁM. REALIZADOS']\n",
    "data['% creditos matric. 1 vez'] = data['CRÉD. MATRI. 1ª VEZ']/data['CRÉDITOS MATRICULADOS']\n",
    "data['% creditos matric. 2 vez'] = data['CRÉD. MATRI. 2ª VEZ']/data['CRÉDITOS MATRICULADOS']\n",
    "data['% creditos matric. 3 vez'] = data['CRÉD. MATRI. 3ª VEZ']/data['CRÉDITOS MATRICULADOS']\n",
    "data['Tasa exito'] = data['CRÉDITOS SUPERADOS']/data['CRÉDITOS PRESENTADOS']\n",
    "data['Ratio tasas de exito'] = data['Tasa exito examen'] / data['Tasa exito']\n",
    "columns_to_drop = [\n",
    "    'CRÉD. MATRI. 1ª VEZ',\n",
    "    'CRÉD. MATRI. 2ª VEZ',\n",
    "    'CRÉD. MATRI. 3ª VEZ',\n",
    "    'Nº EXÁM. APTOS',\n",
    "    'Nº EXÁM. REALIZADOS'\n",
    "]\n",
    "data.drop(columns_to_drop, axis=1, inplace=True)"
   ]
  },
  {
   "cell_type": "code",
   "execution_count": 7,
   "metadata": {
    "collapsed": false
   },
   "outputs": [
    {
     "name": "stdout",
     "output_type": "stream",
     "text": [
      "<class 'pandas.core.frame.DataFrame'>\n",
      "Int64Index: 157 entries, 0 to 49\n",
      "Data columns (total 26 columns):\n",
      "CURSO                       157 non-null int64\n",
      "TITULACIÓN                  157 non-null object\n",
      "ID                          157 non-null object\n",
      "ASIGNATURA                  157 non-null object\n",
      "ESTUD. MATRICULADOS         157 non-null int64\n",
      "CRÉDITOS ASIG.              157 non-null int64\n",
      "CRÉDITOS MATRICULADOS       157 non-null int64\n",
      "CRÉDITOS PRESENTADOS        157 non-null int64\n",
      "CRÉDITOS SUPERADOS          157 non-null int64\n",
      "TASA ÉXITO                  157 non-null float64\n",
      "NOTA MEDIA                  157 non-null float64\n",
      "% SUSPENSOS                 157 non-null float64\n",
      "% APROBADOS                 157 non-null float64\n",
      "% NOTABLES                  157 non-null float64\n",
      "% SOBRESALIENTES            157 non-null float64\n",
      "% MATRÍCULAS H.             157 non-null float64\n",
      "% ESTUD. 0 EXÁM.            157 non-null float64\n",
      "% ESTUD. 1 EXÁM.            157 non-null float64\n",
      "% ESTUD. 2 EXÁM.            157 non-null float64\n",
      "RATIO EXÁM. ESTUD.          157 non-null float64\n",
      "Tasa exito examen           157 non-null float64\n",
      "% creditos matric. 1 vez    157 non-null float64\n",
      "% creditos matric. 2 vez    157 non-null float64\n",
      "% creditos matric. 3 vez    157 non-null float64\n",
      "Tasa exito                  157 non-null float64\n",
      "Ratio tasas de exito        157 non-null float64\n",
      "dtypes: float64(17), int64(6), object(3)\n",
      "memory usage: 33.1+ KB\n"
     ]
    }
   ],
   "source": [
    "data.info()"
   ]
  },
  {
   "cell_type": "markdown",
   "metadata": {},
   "source": [
    "Creamos un indice jerarquico para después agrupar por asignaturas y años."
   ]
  },
  {
   "cell_type": "code",
   "execution_count": 8,
   "metadata": {
    "collapsed": false
   },
   "outputs": [],
   "source": [
    "df = data.set_index(['ID', 'CURSO'])"
   ]
  },
  {
   "cell_type": "markdown",
   "metadata": {},
   "source": [
    "Agrupamos por asignatura calculando las medias de los años anteriores. No todas las asignaturas tienen la misma cantidad de datos."
   ]
  },
  {
   "cell_type": "code",
   "execution_count": 9,
   "metadata": {
    "collapsed": false
   },
   "outputs": [],
   "source": [
    "medias = df.mean(level='ID')\n",
    "varianzas = df.var(level='ID')\n",
    "medias['Asignatura'] = pd.Series([subject_name(i) for i in medias.index.values], index=medias.index)\n",
    "medias['Curso'] = pd.Series([curso_subject(i) for i in medias.index.values], index=medias.index)"
   ]
  },
  {
   "cell_type": "markdown",
   "metadata": {
    "collapsed": false
   },
   "source": [
    "Dibujamos la grafica para la <a id='TDEE'>Tasa media de exito de examenes realizados</a> ordenando previamente el dataframe de menor a mayor."
   ]
  },
  {
   "cell_type": "code",
   "execution_count": 10,
   "metadata": {
    "collapsed": false
   },
   "outputs": [
    {
     "data": {
      "text/html": [
       "<div id=\"73cb43f9-6ea6-4799-9bd4-61dbb8b16b68\" style=\"height: 1000px; width: 100%;\" class=\"plotly-graph-div\"></div><script type=\"text/javascript\">require([\"plotly\"], function(Plotly) { window.PLOTLYENV=window.PLOTLYENV || {};window.PLOTLYENV.BASE_URL=\"https://plot.ly\";Plotly.newPlot(\"73cb43f9-6ea6-4799-9bd4-61dbb8b16b68\", [{\"type\": \"bar\", \"x\": [1.0, 0.9170653907496013, 0.9166666666666666, 0.8972531566566242, 0.883028083028083, 0.8770833333333333, 0.8666666666666667, 0.8279375696767001, 0.8267045454545454, 0.822822105430801, 0.8153198653198653, 0.8148148148148149, 0.8125, 0.7986111111111112, 0.7788461538461539, 0.7670250896057347, 0.7459856154877733, 0.7432396850237226, 0.713903743315508, 0.7122310639552017, 0.6805555555555556, 0.6563237657272958, 0.6484567901234567, 0.6462293673340517, 0.6433294204276614, 0.6393530997304583, 0.6373847486029602, 0.6203657253148958, 0.6036925245421608, 0.5961034826141874, 0.5923076923076923, 0.5833333333333333, 0.58187564499484, 0.5648926237161532, 0.5612255679482799, 0.5473145780051151, 0.5394736842105263, 0.5390151410891024, 0.5308978931378376, 0.5222681451612904, 0.4923503394466616, 0.4916666666666667, 0.4688908790011731, 0.4478777336437931, 0.42178265221743483, 0.3984848484848485, 0.3919758342767551, 0.329860448563597, 0.16346153846153846], \"y\": [\"TRABAJO FIN DE GRADO (MATEM\\u00c1TICAS)\", \"AN\\u00c1LISIS DE FOURIER Y ECUACIONES EN DERIVADAS PARCIALES\", \"SISTEMAS DIN\\u00c1MICOS\", \"FUNCIONES DE VARIAS VARIABLES II\", \"INTRODUCCI\\u00d3N A LAS ECUACIONES DIFERENCIALES\", \"INTRODUCCI\\u00d3N A LA ASTRONOM\\u00cdA\", \"GEOMETR\\u00cdA DIFERENCIAL\", \"MODELIZACI\\u00d3N\", \"HISTORIA DE LAS MATEM\\u00c1TICAS\", \"CAMPOS Y FORMAS\", \"RESOLUCI\\u00d3N NUM\\u00c9RICA DE ECUACIONES\", \"INTEGRAL DE LEBESGUE\", \"TEOR\\u00cdA DE MUESTRAS\", \"AMPLIACI\\u00d3N DE TOPOLOG\\u00cdA\", \"INGL\\u00c9S CIENT\\u00cdFICO\", \"TEOR\\u00cdA DE JUEGOS (MATEM\\u00c1TICAS)\", \"LENGUAJES DE PROGRAMACI\\u00d3N\", \"HERRAMIENTAS INFORM\\u00c1TICAS PARA MATEM\\u00c1TICAS\", \"AMPLIACI\\u00d3N DE VARIABLE COMPLEJA\", \"TOPOLOG\\u00cdA\", \"ASTROF\\u00cdSICA GENERAL\", \"AN\\u00c1LISIS NUM\\u00c9RICO MATRICIAL E INTERPOLACI\\u00d3N\", \"GEOMETR\\u00cdA DIFERENCIAL DE CURVAS Y SUPERFICIES\", \"FUNCIONES DE VARIAS VARIABLES I\", \"ESTAD\\u00cdSTICA B\\u00c1SICA\", \"INTRODUCCI\\u00d3N A LOS ESPACIOS DE HILBERT\", \"PROGRAMACI\\u00d3N LINEAL Y ENTERA\", \"FUNCIONES DE UNA VARIABLE I\", \"GEOMETR\\u00cdA B\\u00c1SICA\", \"\\u00c1LGEBRA (MATEM\\u00c1TICAS)\", \"AN\\u00c1LISIS MULTIVARIANTE (MATEM\\u00c1TICAS)\", \"F\\u00cdSICA MATEM\\u00c1TICA\", \"VARIABLE COMPLEJA\", \"INFERENCIA ESTAD\\u00cdSTICA (MATEM\\u00c1TICAS)\", \"MATEM\\u00c1TICA DISCRETA\", \"MODELOS DE REGRESI\\u00d3N\", \"ESPACIOS NORMADOS\", \"LENGUAJE MATEM\\u00c1TICO, CONJUNTOS Y N\\u00daMEROS\", \"ESTRUCTURAS ALGEBRAICAS\", \"GEOMETR\\u00cdAS LINEALES\", \"\\u00c1LGEBRA LINEAL I\", \"PROCESOS ESTOC\\u00c1STICOS\", \"FUNCIONES DE UNA VARIABLE II\", \"\\u00c1LGEBRA LINEAL II\", \"C\\u00c1LCULO DE PROBABILIDADES II\", \"TEOR\\u00cdA DE LA DECISI\\u00d3N\", \"F\\u00cdSICA\", \"C\\u00c1LCULO DE PROBABILIDADES I\", \"MODELOS ESTOC\\u00c1STICOS\"], \"text\": [49, 48, 47, 46, 45, 44, 43, 42, 41, 40, 39, 38, 37, 36, 35, 34, 33, 32, 31, 30, 29, 28, 27, 26, 25, 24, 23, 22, 21, 20, 19, 18, 17, 16, 15, 14, 13, 12, 11, 10, 9, 8, 7, 6, 5, 4, 3, 2, 1], \"orientation\": \"h\"}], {\"title\": \"Tasa media de \\u00e9xito en ex\\u00e1menes realizados\", \"margin\": {\"l\": 300}, \"height\": 1000, \"font\": {\"size\": 12}}, {\"showLink\": true, \"linkText\": \"Export to plot.ly\"})});</script>"
      ],
      "text/plain": [
       "<IPython.core.display.HTML object>"
      ]
     },
     "metadata": {},
     "output_type": "display_data"
    }
   ],
   "source": [
    "medias.sort_values(by='Tasa exito examen', ascending=False, inplace=True)\n",
    "trace = go.Bar(\n",
    "    x = medias['Tasa exito examen'].values,\n",
    "    y = medias['Asignatura'].values,\n",
    "    text = np.arange(medias['Asignatura'].size, 0, -1),\n",
    "    orientation='h'\n",
    ")\n",
    "d = [trace]\n",
    "layout = go.Layout(\n",
    "    title = 'Tasa media de éxito en exámenes realizados',\n",
    "    margin = go.Margin(l=300),\n",
    "    height = 1000,\n",
    "    font = dict(size=12)\n",
    ")\n",
    "fig = go.Figure(data=d, layout=layout)\n",
    "py.iplot(fig)"
   ]
  },
  {
   "cell_type": "markdown",
   "metadata": {},
   "source": [
    "Personalmente, esta es la forma en la que siempre compruebo la dificultad de las asignaturas, puesto que muy frecuentemente no realizo las pruebas no presenciales y la nota que saco en el examen es mi nota definitiva."
   ]
  },
  {
   "cell_type": "markdown",
   "metadata": {},
   "source": [
    "Para ver rápidamente las asignaturas más dificiles de cada curso, podemos dibujar la gráfica <a id='TDEEC'>por grupos</a>."
   ]
  },
  {
   "cell_type": "code",
   "execution_count": 11,
   "metadata": {
    "collapsed": false
   },
   "outputs": [
    {
     "data": {
      "text/html": [
       "<div id=\"df261e60-a0f0-432d-8eb3-0a67f4fa33e5\" style=\"height: 700px; width: 100%;\" class=\"plotly-graph-div\"></div><script type=\"text/javascript\">require([\"plotly\"], function(Plotly) { window.PLOTLYENV=window.PLOTLYENV || {};window.PLOTLYENV.BASE_URL=\"https://plot.ly\";Plotly.newPlot(\"df261e60-a0f0-432d-8eb3-0a67f4fa33e5\", [{\"type\": \"bar\", \"y\": [0.3919758342767551, 0.4478777336437931, 0.4688908790011731, 0.4923503394466616, 0.5390151410891024, 0.5612255679482799, 0.6036925245421608, 0.6203657253148958, 0.6433294204276614, 0.6462293673340517], \"x\": [\"F\\u00cdSICA\", \"\\u00c1LGEBRA LINEAL II\", \"FUNCIONES DE UNA VARIABLE II\", \"\\u00c1LGEBRA LINEAL I\", \"LENGUAJE MATEM\\u00c1TICO, CONJUNTOS Y N\\u00daMEROS\", \"MATEM\\u00c1TICA DISCRETA\", \"GEOMETR\\u00cdA B\\u00c1SICA\", \"FUNCIONES DE UNA VARIABLE I\", \"ESTAD\\u00cdSTICA B\\u00c1SICA\", \"FUNCIONES DE VARIAS VARIABLES I\"], \"text\": [1, 2, 3, 4, 5, 6, 7, 8, 9, 10], \"name\": \"1\\u00ba\"}, {\"type\": \"bar\", \"y\": [0.329860448563597, 0.5222681451612904, 0.5308978931378376, 0.58187564499484, 0.5961034826141874, 0.6373847486029602, 0.6563237657272958, 0.7432396850237226, 0.7459856154877733, 0.8972531566566242], \"x\": [\"C\\u00c1LCULO DE PROBABILIDADES I\", \"GEOMETR\\u00cdAS LINEALES\", \"ESTRUCTURAS ALGEBRAICAS\", \"VARIABLE COMPLEJA\", \"\\u00c1LGEBRA (MATEM\\u00c1TICAS)\", \"PROGRAMACI\\u00d3N LINEAL Y ENTERA\", \"AN\\u00c1LISIS NUM\\u00c9RICO MATRICIAL E INTERPOLACI\\u00d3N\", \"HERRAMIENTAS INFORM\\u00c1TICAS PARA MATEM\\u00c1TICAS\", \"LENGUAJES DE PROGRAMACI\\u00d3N\", \"FUNCIONES DE VARIAS VARIABLES II\"], \"text\": [1, 2, 3, 4, 5, 6, 7, 8, 9, 10], \"name\": \"2\\u00ba\"}, {\"type\": \"bar\", \"y\": [0.42178265221743483, 0.5648926237161532, 0.6393530997304583, 0.6484567901234567, 0.7122310639552017, 0.8153198653198653, 0.822822105430801, 0.8279375696767001, 0.883028083028083, 0.9170653907496013], \"x\": [\"C\\u00c1LCULO DE PROBABILIDADES II\", \"INFERENCIA ESTAD\\u00cdSTICA (MATEM\\u00c1TICAS)\", \"INTRODUCCI\\u00d3N A LOS ESPACIOS DE HILBERT\", \"GEOMETR\\u00cdA DIFERENCIAL DE CURVAS Y SUPERFICIES\", \"TOPOLOG\\u00cdA\", \"RESOLUCI\\u00d3N NUM\\u00c9RICA DE ECUACIONES\", \"CAMPOS Y FORMAS\", \"MODELIZACI\\u00d3N\", \"INTRODUCCI\\u00d3N A LAS ECUACIONES DIFERENCIALES\", \"AN\\u00c1LISIS DE FOURIER Y ECUACIONES EN DERIVADAS PARCIALES\"], \"text\": [1, 2, 3, 4, 5, 6, 7, 8, 9, 10], \"name\": \"3\\u00ba\"}, {\"type\": \"bar\", \"y\": [0.16346153846153846, 0.3984848484848485, 0.4916666666666667, 0.5394736842105263, 0.5473145780051151, 0.5833333333333333, 0.5923076923076923, 0.6805555555555556, 0.713903743315508, 0.7670250896057347, 0.7788461538461539, 0.7986111111111112, 0.8125, 0.8148148148148149, 0.8267045454545454, 0.8666666666666667, 0.8770833333333333, 0.9166666666666666, 1.0], \"x\": [\"MODELOS ESTOC\\u00c1STICOS\", \"TEOR\\u00cdA DE LA DECISI\\u00d3N\", \"PROCESOS ESTOC\\u00c1STICOS\", \"ESPACIOS NORMADOS\", \"MODELOS DE REGRESI\\u00d3N\", \"F\\u00cdSICA MATEM\\u00c1TICA\", \"AN\\u00c1LISIS MULTIVARIANTE (MATEM\\u00c1TICAS)\", \"ASTROF\\u00cdSICA GENERAL\", \"AMPLIACI\\u00d3N DE VARIABLE COMPLEJA\", \"TEOR\\u00cdA DE JUEGOS (MATEM\\u00c1TICAS)\", \"INGL\\u00c9S CIENT\\u00cdFICO\", \"AMPLIACI\\u00d3N DE TOPOLOG\\u00cdA\", \"TEOR\\u00cdA DE MUESTRAS\", \"INTEGRAL DE LEBESGUE\", \"HISTORIA DE LAS MATEM\\u00c1TICAS\", \"GEOMETR\\u00cdA DIFERENCIAL\", \"INTRODUCCI\\u00d3N A LA ASTRONOM\\u00cdA\", \"SISTEMAS DIN\\u00c1MICOS\", \"TRABAJO FIN DE GRADO (MATEM\\u00c1TICAS)\"], \"text\": [1, 2, 3, 4, 5, 6, 7, 8, 9, 10, 11, 12, 13, 14, 15, 16, 17, 18, 19], \"name\": \"4\\u00ba\"}], {\"title\": \"Tasa media de \\u00e9xito en ex\\u00e1menes realizados por curso\", \"margin\": {\"b\": 200, \"t\": 20}, \"height\": 700, \"font\": {\"size\": 8}, \"barmode\": \"group\"}, {\"showLink\": true, \"linkText\": \"Export to plot.ly\"})});</script>"
      ],
      "text/plain": [
       "<IPython.core.display.HTML object>"
      ]
     },
     "metadata": {},
     "output_type": "display_data"
    }
   ],
   "source": [
    "medias.sort_values(by='Tasa exito examen', inplace=True)\n",
    "traces = []\n",
    "for curso in range(1,5):\n",
    "    t = go.Bar(\n",
    "        y = medias.loc[medias['Curso'] == str(curso), 'Tasa exito examen'].values,\n",
    "        x = medias.loc[medias['Curso'] == str(curso), 'Asignatura'].values,\n",
    "        text = np.arange(1, medias.loc[medias['Curso'] == str(curso), 'Asignatura'].size + 1),\n",
    "        name = str(curso) + 'º'\n",
    "    )\n",
    "    traces.append(t)\n",
    "\n",
    "d = [traces]\n",
    "layout = go.Layout(\n",
    "    title = 'Tasa media de éxito en exámenes realizados por curso',\n",
    "    margin = go.Margin(b=200, t=20),\n",
    "    height = 700,\n",
    "    font = dict(size=8),\n",
    "    barmode = 'group'\n",
    ")\n",
    "fig = go.Figure(data=traces, layout=layout)\n",
    "py.iplot(fig)"
   ]
  },
  {
   "cell_type": "markdown",
   "metadata": {
    "collapsed": false
   },
   "source": [
    "La *Tasa de exito*(TDE) y la *Tasa de exito en exámenes*(TDEE) son diferentes, ya que no todos los alumnos que suspenden el examen suspenden la asignatura, pero todos los alumnos que suspenden la asignatura habrán suspendido también el examen. Por lo tanto, la TDE siempre será mayor que la TDEE.\n",
    "\n",
    "Esto puede dar lugar a que el examen, como medida de dificultad, sea en unas asignaturas más importante que en otras. **Las asignaturas que tengan un ratio TDEE:TDE bajo serán en las que más alumnos hayan aprobado sin haber aprobado el examen**, por lo tanto, serán asignaturas en las que los trabajos \"extra\", como por ejemplo las Pruebas no presenciales, han sido de más ayuda.\n",
    "\n",
    "A continuación ordenamos el dataframe segun este ratio y dibujamos la gráfica para saber en cuales asignaturas la las pruebas no presenciales han sido cruciales."
   ]
  },
  {
   "cell_type": "code",
   "execution_count": 12,
   "metadata": {
    "collapsed": false
   },
   "outputs": [
    {
     "data": {
      "text/html": [
       "<div id=\"00d14b67-3502-420b-99d3-29f22b41862b\" style=\"height: 700px; width: 100%;\" class=\"plotly-graph-div\"></div><script type=\"text/javascript\">require([\"plotly\"], function(Plotly) { window.PLOTLYENV=window.PLOTLYENV || {};window.PLOTLYENV.BASE_URL=\"https://plot.ly\";Plotly.newPlot(\"00d14b67-3502-420b-99d3-29f22b41862b\", [{\"type\": \"bar\", \"y\": [0.5493198476519316, 0.5816089700483124, 0.6121212121212121, 0.6144481475662621, 0.6385336664165816, 0.641025641025641, 0.6508494519364084, 0.6603490822630905, 0.6645799470423149, 0.6723588709677419, 0.6763261479805597, 0.6790281329923273, 0.6791804969340102, 0.6921052631578948, 0.7238490342182596, 0.7266412004470912, 0.7333333333333334, 0.7413746630727763, 0.7461538461538462, 0.7468453323659091, 0.751941971757587, 0.7551155257424607, 0.7561728395061729, 0.7593582887700534, 0.7614444894846789, 0.768645721628071, 0.769897562104289, 0.7784780578898226, 0.7909910077750454, 0.7919834954317713, 0.8251663032515296, 0.8263888888888888, 0.8333333333333333, 0.8454301075268817, 0.8541666666666666, 0.8564814814814814, 0.8626893939393939, 0.866911928651059, 0.8703703703703705, 0.8708791208791209, 0.8764293677337155, 0.8846801346801346, 0.8896947496947497, 0.9166666666666666, 0.9183333333333333, 0.9322169059011164, 0.9386598006198359, 0.9666666666666666, 1.0], \"x\": [\"C\\u00c1LCULO DE PROBABILIDADES I\", \"F\\u00cdSICA\", \"TEOR\\u00cdA DE LA DECISI\\u00d3N\", \"\\u00c1LGEBRA LINEAL I\", \"\\u00c1LGEBRA LINEAL II\", \"MODELOS ESTOC\\u00c1STICOS\", \"C\\u00c1LCULO DE PROBABILIDADES II\", \"ESTRUCTURAS ALGEBRAICAS\", \"MATEM\\u00c1TICA DISCRETA\", \"GEOMETR\\u00cdAS LINEALES\", \"FUNCIONES DE UNA VARIABLE II\", \"MODELOS DE REGRESI\\u00d3N\", \"LENGUAJE MATEM\\u00c1TICO, CONJUNTOS Y N\\u00daMEROS\", \"ESPACIOS NORMADOS\", \"FUNCIONES DE UNA VARIABLE I\", \"\\u00c1LGEBRA (MATEM\\u00c1TICAS)\", \"PROCESOS ESTOC\\u00c1STICOS\", \"INTRODUCCI\\u00d3N A LOS ESPACIOS DE HILBERT\", \"AN\\u00c1LISIS MULTIVARIANTE (MATEM\\u00c1TICAS)\", \"GEOMETR\\u00cdA B\\u00c1SICA\", \"ESTAD\\u00cdSTICA B\\u00c1SICA\", \"VARIABLE COMPLEJA\", \"GEOMETR\\u00cdA DIFERENCIAL DE CURVAS Y SUPERFICIES\", \"AMPLIACI\\u00d3N DE VARIABLE COMPLEJA\", \"FUNCIONES DE VARIAS VARIABLES I\", \"AN\\u00c1LISIS NUM\\u00c9RICO MATRICIAL E INTERPOLACI\\u00d3N\", \"PROGRAMACI\\u00d3N LINEAL Y ENTERA\", \"INFERENCIA ESTAD\\u00cdSTICA (MATEM\\u00c1TICAS)\", \"HERRAMIENTAS INFORM\\u00c1TICAS PARA MATEM\\u00c1TICAS\", \"TOPOLOG\\u00cdA\", \"LENGUAJES DE PROGRAMACI\\u00d3N\", \"AMPLIACI\\u00d3N DE TOPOLOG\\u00cdA\", \"F\\u00cdSICA MATEM\\u00c1TICA\", \"TEOR\\u00cdA DE JUEGOS (MATEM\\u00c1TICAS)\", \"TEOR\\u00cdA DE MUESTRAS\", \"ASTROF\\u00cdSICA GENERAL\", \"HISTORIA DE LAS MATEM\\u00c1TICAS\", \"MODELIZACI\\u00d3N\", \"INTEGRAL DE LEBESGUE\", \"INGL\\u00c9S CIENT\\u00cdFICO\", \"CAMPOS Y FORMAS\", \"RESOLUCI\\u00d3N NUM\\u00c9RICA DE ECUACIONES\", \"INTRODUCCI\\u00d3N A LAS ECUACIONES DIFERENCIALES\", \"SISTEMAS DIN\\u00c1MICOS\", \"INTRODUCCI\\u00d3N A LA ASTRONOM\\u00cdA\", \"AN\\u00c1LISIS DE FOURIER Y ECUACIONES EN DERIVADAS PARCIALES\", \"FUNCIONES DE VARIAS VARIABLES II\", \"GEOMETR\\u00cdA DIFERENCIAL\", \"TRABAJO FIN DE GRADO (MATEM\\u00c1TICAS)\"], \"text\": [1, 2, 3, 4, 5, 6, 7, 8, 9, 10, 11, 12, 13, 14, 15, 16, 17, 18, 19, 20, 21, 22, 23, 24, 25, 26, 27, 28, 29, 30, 31, 32, 33, 34, 35, 36, 37, 38, 39, 40, 41, 42, 43, 44, 45, 46, 47, 48, 49]}], {\"title\": \"Ratio 'Tasa de exito examen' / 'Tasa de exito'\", \"margin\": {\"b\": 300, \"t\": 20}, \"height\": 700, \"font\": {\"size\": 8}}, {\"showLink\": true, \"linkText\": \"Export to plot.ly\"})});</script>"
      ],
      "text/plain": [
       "<IPython.core.display.HTML object>"
      ]
     },
     "metadata": {},
     "output_type": "display_data"
    }
   ],
   "source": [
    "medias.sort_values(by='Ratio tasas de exito', inplace=True)\n",
    "trace = go.Bar(\n",
    "    y = medias['Ratio tasas de exito'].values,\n",
    "    x = medias['Asignatura'].values,\n",
    "    text = np.arange(1,medias['Asignatura'].size + 1)\n",
    ")\n",
    "d = [trace]\n",
    "layout = go.Layout(\n",
    "    title = \"Ratio 'Tasa de exito examen' / 'Tasa de exito'\",\n",
    "    margin = go.Margin(b=300, t=20),\n",
    "    height = 700,\n",
    "    font = dict(size=8)\n",
    ")\n",
    "fig = go.Figure(data=d, layout=layout)\n",
    "py.iplot(fig)"
   ]
  },
  {
   "cell_type": "markdown",
   "metadata": {},
   "source": [
    "Porcentaje de alumnos que <a id='P2E'>realizan 2 exámenes</a>"
   ]
  },
  {
   "cell_type": "code",
   "execution_count": 13,
   "metadata": {
    "collapsed": false
   },
   "outputs": [
    {
     "data": {
      "text/html": [
       "<div id=\"d3f1a0f4-df29-401e-9a11-9cbcb700f1b9\" style=\"height: 700px; width: 100%;\" class=\"plotly-graph-div\"></div><script type=\"text/javascript\">require([\"plotly\"], function(Plotly) { window.PLOTLYENV=window.PLOTLYENV || {};window.PLOTLYENV.BASE_URL=\"https://plot.ly\";Plotly.newPlot(\"d3f1a0f4-df29-401e-9a11-9cbcb700f1b9\", [{\"type\": \"bar\", \"y\": [0.0, 0.0, 0.0, 0.8533333333333334, 1.975, 3.364, 3.8560000000000003, 4.076666666666667, 4.21, 4.244000000000001, 4.875, 4.9350000000000005, 5.18, 5.183333333333333, 5.2225, 5.25, 5.294, 5.42, 6.0325, 6.077999999999999, 6.163333333333333, 6.2459999999999996, 6.268000000000001, 6.81, 6.8325, 7.035, 7.135, 7.155, 7.302, 7.319999999999999, 7.404999999999999, 7.5, 7.543333333333333, 7.649999999999999, 7.970000000000001, 8.26, 8.335, 8.76, 9.25, 9.275, 9.415000000000001, 10.893333333333333, 12.5, 13.705000000000002, 13.709999999999999, 13.95, 14.7, 15.495000000000001, 21.424999999999997], \"x\": [\"SISTEMAS DIN\\u00c1MICOS\", \"GEOMETR\\u00cdA DIFERENCIAL\", \"F\\u00cdSICA MATEM\\u00c1TICA\", \"AN\\u00c1LISIS DE FOURIER Y ECUACIONES EN DERIVADAS PARCIALES\", \"FUNCIONES DE VARIAS VARIABLES II\", \"FUNCIONES DE UNA VARIABLE I\", \"GEOMETR\\u00cdA B\\u00c1SICA\", \"TOPOLOG\\u00cdA\", \"INTRODUCCI\\u00d3N A LAS ECUACIONES DIFERENCIALES\", \"ESTAD\\u00cdSTICA B\\u00c1SICA\", \"INTRODUCCI\\u00d3N A LA ASTRONOM\\u00cdA\", \"HISTORIA DE LAS MATEM\\u00c1TICAS\", \"CAMPOS Y FORMAS\", \"MODELIZACI\\u00d3N\", \"LENGUAJES DE PROGRAMACI\\u00d3N\", \"HERRAMIENTAS INFORM\\u00c1TICAS PARA MATEM\\u00c1TICAS\", \"LENGUAJE MATEM\\u00c1TICO, CONJUNTOS Y N\\u00daMEROS\", \"AMPLIACI\\u00d3N DE VARIABLE COMPLEJA\", \"PROGRAMACI\\u00d3N LINEAL Y ENTERA\", \"F\\u00cdSICA\", \"RESOLUCI\\u00d3N NUM\\u00c9RICA DE ECUACIONES\", \"FUNCIONES DE UNA VARIABLE II\", \"\\u00c1LGEBRA LINEAL I\", \"FUNCIONES DE VARIAS VARIABLES I\", \"\\u00c1LGEBRA (MATEM\\u00c1TICAS)\", \"INGL\\u00c9S CIENT\\u00cdFICO\", \"VARIABLE COMPLEJA\", \"TEOR\\u00cdA DE MUESTRAS\", \"MATEM\\u00c1TICA DISCRETA\", \"AN\\u00c1LISIS NUM\\u00c9RICO MATRICIAL E INTERPOLACI\\u00d3N\", \"AN\\u00c1LISIS MULTIVARIANTE (MATEM\\u00c1TICAS)\", \"TEOR\\u00cdA DE JUEGOS (MATEM\\u00c1TICAS)\", \"GEOMETR\\u00cdA DIFERENCIAL DE CURVAS Y SUPERFICIES\", \"INFERENCIA ESTAD\\u00cdSTICA (MATEM\\u00c1TICAS)\", \"\\u00c1LGEBRA LINEAL II\", \"ASTROF\\u00cdSICA GENERAL\", \"INTEGRAL DE LEBESGUE\", \"PROCESOS ESTOC\\u00c1STICOS\", \"GEOMETR\\u00cdAS LINEALES\", \"ESTRUCTURAS ALGEBRAICAS\", \"AMPLIACI\\u00d3N DE TOPOLOG\\u00cdA\", \"INTRODUCCI\\u00d3N A LOS ESPACIOS DE HILBERT\", \"ESPACIOS NORMADOS\", \"C\\u00c1LCULO DE PROBABILIDADES I\", \"C\\u00c1LCULO DE PROBABILIDADES II\", \"TEOR\\u00cdA DE LA DECISI\\u00d3N\", \"MODELOS DE REGRESI\\u00d3N\", \"TRABAJO FIN DE GRADO (MATEM\\u00c1TICAS)\", \"MODELOS ESTOC\\u00c1STICOS\"], \"text\": [1, 2, 3, 4, 5, 6, 7, 8, 9, 10, 11, 12, 13, 14, 15, 16, 17, 18, 19, 20, 21, 22, 23, 24, 25, 26, 27, 28, 29, 30, 31, 32, 33, 34, 35, 36, 37, 38, 39, 40, 41, 42, 43, 44, 45, 46, 47, 48, 49]}], {\"title\": \"Porcentaje de alumnos que realizan 2 ex\\u00e1menes\", \"margin\": {\"b\": 300, \"t\": 20}, \"height\": 700, \"font\": {\"size\": 8}}, {\"showLink\": true, \"linkText\": \"Export to plot.ly\"})});</script>"
      ],
      "text/plain": [
       "<IPython.core.display.HTML object>"
      ]
     },
     "metadata": {},
     "output_type": "display_data"
    }
   ],
   "source": [
    "medias.sort_values(by='% ESTUD. 2 EXÁM.', inplace=True)\n",
    "trace = go.Bar(\n",
    "    y = medias['% ESTUD. 2 EXÁM.'].values,\n",
    "    x = medias['Asignatura'].values,\n",
    "    text = np.arange(1,medias['Asignatura'].size + 1)\n",
    ")\n",
    "d = [trace]\n",
    "layout = go.Layout(\n",
    "    title = \"Porcentaje de alumnos que realizan 2 exámenes\",\n",
    "    margin = go.Margin(b=300, t=20),\n",
    "    height = 700,\n",
    "    font = dict(size=8)\n",
    ")\n",
    "fig = go.Figure(data=d, layout=layout)\n",
    "py.iplot(fig)"
   ]
  },
  {
   "cell_type": "markdown",
   "metadata": {},
   "source": [
    "Porcentaje medio de alumnos que <a id='M3'>se matriculan por 3ª vez</a>."
   ]
  },
  {
   "cell_type": "code",
   "execution_count": 14,
   "metadata": {
    "collapsed": false
   },
   "outputs": [
    {
     "data": {
      "text/html": [
       "<div id=\"3d65564f-358d-4af6-b4af-fd6d9fe6a137\" style=\"height: 700px; width: 100%;\" class=\"plotly-graph-div\"></div><script type=\"text/javascript\">require([\"plotly\"], function(Plotly) { window.PLOTLYENV=window.PLOTLYENV || {};window.PLOTLYENV.BASE_URL=\"https://plot.ly\";Plotly.newPlot(\"3d65564f-358d-4af6-b4af-fd6d9fe6a137\", [{\"type\": \"bar\", \"y\": [0.0, 0.0, 0.0, 0.0, 0.0, 0.0, 0.0, 0.0, 0.0, 0.0, 0.0, 0.0, 0.0, 0.0, 0.0, 0.0, 0.0, 0.0, 0.0, 0.0, 0.006060606060606061, 0.012345679012345678, 0.012499999999999999, 0.015239783856805134, 0.016460905349794237, 0.0182648401826484, 0.018518518518518517, 0.022222222222222223, 0.023004542504866967, 0.02588996763754045, 0.026217228464419474, 0.027871952766438342, 0.02828514263585904, 0.029064426789995018, 0.030047822092393227, 0.03331438207440022, 0.03344741514954281, 0.03580729166666667, 0.0378122806354233, 0.03825287810981931, 0.039877418563261845, 0.04007998783099119, 0.04178122711181409, 0.041861585030269675, 0.04313875598086124, 0.04516422251848261, 0.046207194549367434, 0.04718983514087169, 0.049906176157160725], \"x\": [\"SISTEMAS DIN\\u00c1MICOS\", \"MODELOS DE REGRESI\\u00d3N\", \"TEOR\\u00cdA DE LA DECISI\\u00d3N\", \"ESPACIOS NORMADOS\", \"AMPLIACI\\u00d3N DE TOPOLOG\\u00cdA\", \"PROCESOS ESTOC\\u00c1STICOS\", \"INTEGRAL DE LEBESGUE\", \"ASTROF\\u00cdSICA GENERAL\", \"TEOR\\u00cdA DE JUEGOS (MATEM\\u00c1TICAS)\", \"AN\\u00c1LISIS MULTIVARIANTE (MATEM\\u00c1TICAS)\", \"TEOR\\u00cdA DE MUESTRAS\", \"INGL\\u00c9S CIENT\\u00cdFICO\", \"TRABAJO FIN DE GRADO (MATEM\\u00c1TICAS)\", \"AMPLIACI\\u00d3N DE VARIABLE COMPLEJA\", \"MODELOS ESTOC\\u00c1STICOS\", \"GEOMETR\\u00cdA DIFERENCIAL\", \"MODELIZACI\\u00d3N\", \"F\\u00cdSICA MATEM\\u00c1TICA\", \"INTRODUCCI\\u00d3N A LA ASTRONOM\\u00cdA\", \"HISTORIA DE LAS MATEM\\u00c1TICAS\", \"RESOLUCI\\u00d3N NUM\\u00c9RICA DE ECUACIONES\", \"CAMPOS Y FORMAS\", \"INTRODUCCI\\u00d3N A LOS ESPACIOS DE HILBERT\", \"HERRAMIENTAS INFORM\\u00c1TICAS PARA MATEM\\u00c1TICAS\", \"INTRODUCCI\\u00d3N A LAS ECUACIONES DIFERENCIALES\", \"AN\\u00c1LISIS DE FOURIER Y ECUACIONES EN DERIVADAS PARCIALES\", \"GEOMETR\\u00cdA DIFERENCIAL DE CURVAS Y SUPERFICIES\", \"INFERENCIA ESTAD\\u00cdSTICA (MATEM\\u00c1TICAS)\", \"FUNCIONES DE VARIAS VARIABLES II\", \"C\\u00c1LCULO DE PROBABILIDADES II\", \"TOPOLOG\\u00cdA\", \"FUNCIONES DE VARIAS VARIABLES I\", \"LENGUAJES DE PROGRAMACI\\u00d3N\", \"\\u00c1LGEBRA LINEAL I\", \"VARIABLE COMPLEJA\", \"MATEM\\u00c1TICA DISCRETA\", \"GEOMETR\\u00cdA B\\u00c1SICA\", \"AN\\u00c1LISIS NUM\\u00c9RICO MATRICIAL E INTERPOLACI\\u00d3N\", \"LENGUAJE MATEM\\u00c1TICO, CONJUNTOS Y N\\u00daMEROS\", \"FUNCIONES DE UNA VARIABLE I\", \"FUNCIONES DE UNA VARIABLE II\", \"\\u00c1LGEBRA LINEAL II\", \"ESTAD\\u00cdSTICA B\\u00c1SICA\", \"GEOMETR\\u00cdAS LINEALES\", \"PROGRAMACI\\u00d3N LINEAL Y ENTERA\", \"ESTRUCTURAS ALGEBRAICAS\", \"F\\u00cdSICA\", \"\\u00c1LGEBRA (MATEM\\u00c1TICAS)\", \"C\\u00c1LCULO DE PROBABILIDADES I\"], \"text\": [1, 2, 3, 4, 5, 6, 7, 8, 9, 10, 11, 12, 13, 14, 15, 16, 17, 18, 19, 20, 21, 22, 23, 24, 25, 26, 27, 28, 29, 30, 31, 32, 33, 34, 35, 36, 37, 38, 39, 40, 41, 42, 43, 44, 45, 46, 47, 48, 49]}], {\"title\": \"Porcentaje de alumnos que se matriculan por 3\\u00aa vez\", \"margin\": {\"b\": 300, \"t\": 20}, \"height\": 700, \"font\": {\"size\": 8}}, {\"showLink\": true, \"linkText\": \"Export to plot.ly\"})});</script>"
      ],
      "text/plain": [
       "<IPython.core.display.HTML object>"
      ]
     },
     "metadata": {},
     "output_type": "display_data"
    }
   ],
   "source": [
    "medias.sort_values(by='% creditos matric. 3 vez', inplace=True)\n",
    "trace = go.Bar(\n",
    "    y = medias['% creditos matric. 3 vez'].values,\n",
    "    x = medias['Asignatura'].values,\n",
    "    text = np.arange(1,medias['Asignatura'].size + 1)\n",
    ")\n",
    "d = [trace]\n",
    "layout = go.Layout(\n",
    "    title = \"Porcentaje de alumnos que se matriculan por 3ª vez\",\n",
    "    margin = go.Margin(b=300, t=20),\n",
    "    height = 700,\n",
    "    font = dict(size=8)\n",
    ")\n",
    "fig = go.Figure(data=d, layout=layout)\n",
    "py.iplot(fig)"
   ]
  },
  {
   "cell_type": "markdown",
   "metadata": {},
   "source": [
    "<a id='box'>Gráfico de cajas</a>\n",
    "\n",
    "Esta probablemente es la gráfica más justa. Puesto que podemos ver la mínima y máxima tasa de exito en exámenes a lo largo de los años que hayan habido estudiantes matriculados en la asignatura. En las anteriores gráficas usamos la media, que en algunos casos varía mucho de unos años a otros, como podemos ver aquí.\n",
    "\n",
    "Cada caja incluye el máximo, el mínimo, la mediana y "
   ]
  },
  {
   "cell_type": "code",
   "execution_count": 15,
   "metadata": {
    "collapsed": false
   },
   "outputs": [
    {
     "data": {
      "text/html": [
       "<div id=\"e874d5b8-8347-462f-8a07-933a56a617a9\" style=\"height: 700px; width: 100%;\" class=\"plotly-graph-div\"></div><script type=\"text/javascript\">require([\"plotly\"], function(Plotly) { window.PLOTLYENV=window.PLOTLYENV || {};window.PLOTLYENV.BASE_URL=\"https://plot.ly\";Plotly.newPlot(\"e874d5b8-8347-462f-8a07-933a56a617a9\", [{\"type\": \"box\", \"y\": [0.5128205128205128, 0.5054945054945055, 0.5706521739130435, 0.4873096446700508, 0.3854748603351955], \"name\": \"\\u00c1LGEBRA LINEAL I\"}, {\"type\": \"box\", \"y\": [0.4583333333333333, 0.37714285714285717, 0.465, 0.4489795918367347, 0.4899328859060403], \"name\": \"\\u00c1LGEBRA LINEAL II\"}, {\"type\": \"box\", \"y\": [0.5897435897435898, 0.5074626865671642, 0.45588235294117646, 0.8313253012048193], \"name\": \"\\u00c1LGEBRA (MATEM\\u00c1TICAS)\"}, {\"type\": \"box\", \"y\": [0.7222222222222222, 0.875], \"name\": \"AMPLIACI\\u00d3N DE TOPOLOG\\u00cdA\"}, {\"type\": \"box\", \"y\": [0.8421052631578947, 0.9090909090909091, 1.0], \"name\": \"AN\\u00c1LISIS DE FOURIER Y ECUACIONES EN DERIVADAS PARCIALES\"}, {\"type\": \"box\", \"y\": [0.6904761904761905, 0.6451612903225806, 0.6415094339622641, 0.6481481481481481], \"name\": \"AN\\u00c1LISIS NUM\\u00c9RICO MATRICIAL E INTERPOLACI\\u00d3N\"}, {\"type\": \"box\", \"y\": [0.5833333333333334, 0.7777777777777778], \"name\": \"ASTROF\\u00cdSICA GENERAL\"}, {\"type\": \"box\", \"y\": [0.36231884057971014, 0.3879310344827586, 0.2803030303030303, 0.28888888888888886], \"name\": \"C\\u00c1LCULO DE PROBABILIDADES I\"}, {\"type\": \"box\", \"y\": [0.4782608695652174, 0.4222222222222222, 0.36486486486486486], \"name\": \"C\\u00c1LCULO DE PROBABILIDADES II\"}, {\"type\": \"box\", \"y\": [0.5, 0.5789473684210527], \"name\": \"ESPACIOS NORMADOS\"}, {\"type\": \"box\", \"y\": [0.6302521008403361, 0.6028368794326241, 0.6096256684491979, 0.6708074534161491, 0.703125], \"name\": \"ESTAD\\u00cdSTICA B\\u00c1SICA\"}, {\"type\": \"box\", \"y\": [0.6, 0.41836734693877553, 0.580952380952381, 0.5242718446601942], \"name\": \"ESTRUCTURAS ALGEBRAICAS\"}, {\"type\": \"box\", \"y\": [0.3614457831325301, 0.4673913043478261, 0.28448275862068967, 0.4954954954954955, 0.35106382978723405], \"name\": \"F\\u00cdSICA\"}, {\"type\": \"box\", \"y\": [0.5, 0.6666666666666666], \"name\": \"F\\u00cdSICA MATEM\\u00c1TICA\"}, {\"type\": \"box\", \"y\": [0.7043478260869566, 0.5934959349593496, 0.5584415584415584, 0.592, 0.6535433070866141], \"name\": \"FUNCIONES DE UNA VARIABLE I\"}, {\"type\": \"box\", \"y\": [0.4519230769230769, 0.4444444444444444, 0.515625, 0.48148148148148145, 0.45098039215686275], \"name\": \"FUNCIONES DE UNA VARIABLE II\"}, {\"type\": \"box\", \"y\": [0.7064220183486238, 0.704, 0.5539568345323741, 0.6524822695035462, 0.6142857142857143], \"name\": \"FUNCIONES DE VARIAS VARIABLES I\"}, {\"type\": \"box\", \"y\": [0.8108108108108109, 0.927710843373494, 0.948051948051948, 0.9024390243902439], \"name\": \"FUNCIONES DE VARIAS VARIABLES II\"}, {\"type\": \"box\", \"y\": [0.5648854961832062, 0.5675675675675675, 0.5906040268456376, 0.6814814814814815, 0.6139240506329114], \"name\": \"GEOMETR\\u00cdA B\\u00c1SICA\"}, {\"type\": \"box\", \"y\": [0.5925925925925926, 0.7777777777777778, 0.575], \"name\": \"GEOMETR\\u00cdA DIFERENCIAL DE CURVAS Y SUPERFICIES\"}, {\"type\": \"box\", \"y\": [0.65625, 0.4791666666666667, 0.6236559139784946, 0.33], \"name\": \"GEOMETR\\u00cdAS LINEALES\"}, {\"type\": \"box\", \"y\": [0.7323943661971831, 0.7283950617283951, 0.7407407407407407, 0.7714285714285715], \"name\": \"HERRAMIENTAS INFORM\\u00c1TICAS PARA MATEM\\u00c1TICAS\"}, {\"type\": \"box\", \"y\": [0.8958333333333334, 0.7575757575757576], \"name\": \"HISTORIA DE LAS MATEM\\u00c1TICAS\"}, {\"type\": \"box\", \"y\": [0.5, 0.5476190476190477, 0.6470588235294118], \"name\": \"INFERENCIA ESTAD\\u00cdSTICA (MATEM\\u00c1TICAS)\"}, {\"type\": \"box\", \"y\": [0.8076923076923077, 0.75], \"name\": \"INGL\\u00c9S CIENT\\u00cdFICO\"}, {\"type\": \"box\", \"y\": [0.8541666666666666, 0.9], \"name\": \"INTRODUCCI\\u00d3N A LA ASTRONOM\\u00cdA\"}, {\"type\": \"box\", \"y\": [0.8205128205128205, 0.9285714285714286, 0.9], \"name\": \"INTRODUCCI\\u00d3N A LAS ECUACIONES DIFERENCIALES\"}, {\"type\": \"box\", \"y\": [0.8, 0.5142857142857142, 0.6037735849056604], \"name\": \"INTRODUCCI\\u00d3N A LOS ESPACIOS DE HILBERT\"}, {\"type\": \"box\", \"y\": [0.7132867132867133, 0.4584837545126354, 0.5719844357976653, 0.4811715481171548, 0.4701492537313433], \"name\": \"LENGUAJE MATEM\\u00c1TICO, CONJUNTOS Y N\\u00daMEROS\"}, {\"type\": \"box\", \"y\": [0.7843137254901961, 0.8082191780821918, 0.7017543859649122, 0.6896551724137931], \"name\": \"LENGUAJES DE PROGRAMACI\\u00d3N\"}, {\"type\": \"box\", \"y\": [], \"name\": \"L\\u00d3GICA MATEM\\u00c1TICA\"}, {\"type\": \"box\", \"y\": [0.5368421052631579, 0.5021834061135371, 0.49107142857142855, 0.6881188118811881, 0.5879120879120879], \"name\": \"MATEM\\u00c1TICA DISCRETA\"}, {\"type\": \"box\", \"y\": [0.9130434782608695, 0.84, 0.7307692307692307], \"name\": \"MODELIZACI\\u00d3N\"}, {\"type\": \"box\", \"y\": [0.5294117647058824, 0.5652173913043478], \"name\": \"MODELOS DE REGRESI\\u00d3N\"}, {\"type\": \"box\", \"y\": [0.3333333333333333, 0.65], \"name\": \"PROCESOS ESTOC\\u00c1STICOS\"}, {\"type\": \"box\", \"y\": [0.6444444444444445, 0.7075471698113207, 0.6410256410256411, 0.5565217391304348], \"name\": \"PROGRAMACI\\u00d3N LINEAL Y ENTERA\"}, {\"type\": \"box\", \"y\": [0.85, 0.7777777777777778, 0.8181818181818182], \"name\": \"RESOLUCI\\u00d3N NUM\\u00c9RICA DE ECUACIONES\"}, {\"type\": \"box\", \"y\": [0.9166666666666666], \"name\": \"SISTEMAS DIN\\u00c1MICOS\"}, {\"type\": \"box\", \"y\": [0.6451612903225806, 0.8888888888888888], \"name\": \"TEOR\\u00cdA DE JUEGOS (MATEM\\u00c1TICAS)\"}, {\"type\": \"box\", \"y\": [0.36363636363636365, 0.43333333333333335], \"name\": \"TEOR\\u00cdA DE LA DECISI\\u00d3N\"}, {\"type\": \"box\", \"y\": [0.875, 0.75], \"name\": \"TEOR\\u00cdA DE MUESTRAS\"}, {\"type\": \"box\", \"y\": [0.7931034482758621, 0.7666666666666667, 0.5769230769230769], \"name\": \"TOPOLOG\\u00cdA\"}, {\"type\": \"box\", \"y\": [0.5, 0.7529411764705882, 0.40789473684210525, 0.6666666666666666], \"name\": \"VARIABLE COMPLEJA\"}, {\"type\": \"box\", \"y\": [0.8823529411764706, 0.5454545454545454], \"name\": \"AMPLIACI\\u00d3N DE VARIABLE COMPLEJA\"}, {\"type\": \"box\", \"y\": [0.38461538461538464, 0.8], \"name\": \"AN\\u00c1LISIS MULTIVARIANTE (MATEM\\u00c1TICAS)\"}, {\"type\": \"box\", \"y\": [0.7142857142857143, 0.8695652173913043, 0.8846153846153846], \"name\": \"CAMPOS Y FORMAS\"}, {\"type\": \"box\", \"y\": [1.0, 0.7333333333333333], \"name\": \"GEOMETR\\u00cdA DIFERENCIAL\"}, {\"type\": \"box\", \"y\": [0.6296296296296297, 1.0], \"name\": \"INTEGRAL DE LEBESGUE\"}, {\"type\": \"box\", \"y\": [0.07692307692307693, 0.25], \"name\": \"MODELOS ESTOC\\u00c1STICOS\"}, {\"type\": \"box\", \"y\": [1.0, 1.0], \"name\": \"TRABAJO FIN DE GRADO (MATEM\\u00c1TICAS)\"}], {\"title\": \"Tasa \\u00e9xito en ex\\u00e1menes realizados\", \"margin\": {\"b\": 200, \"t\": 50}, \"height\": 700, \"showlegend\": false, \"font\": {\"size\": 8}}, {\"showLink\": true, \"linkText\": \"Export to plot.ly\"})});</script>"
      ],
      "text/plain": [
       "<IPython.core.display.HTML object>"
      ]
     },
     "metadata": {},
     "output_type": "display_data"
    }
   ],
   "source": [
    "traces = []\n",
    "for i in identifiers:\n",
    "    trace = go.Box(\n",
    "        y = data.loc[data['ID'] == i, 'Tasa exito examen'],\n",
    "        name = subject_name(i)\n",
    "    )\n",
    "    traces.append(trace)\n",
    "\n",
    "layout = go.Layout(\n",
    "    title = \"Tasa éxito en exámenes realizados\",\n",
    "    margin = go.Margin(b=200, t=50),\n",
    "    height = 700,\n",
    "    showlegend=False,\n",
    "    font = dict(size=8)\n",
    ")\n",
    "\n",
    "fig = go.Figure(data=traces, layout=layout)\n",
    "py.iplot(fig)"
   ]
  },
  {
   "cell_type": "markdown",
   "metadata": {},
   "source": [
    "Ahora la misma gráfica pero <a id='boxcursos'>por cursos</a>."
   ]
  },
  {
   "cell_type": "code",
   "execution_count": 16,
   "metadata": {
    "collapsed": false,
    "scrolled": false
   },
   "outputs": [
    {
     "data": {
      "text/html": [
       "<div id=\"bf731bf6-8a7b-4fee-8f4b-5d64d5f45672\" style=\"height: 525px; width: 100%;\" class=\"plotly-graph-div\"></div><script type=\"text/javascript\">require([\"plotly\"], function(Plotly) { window.PLOTLYENV=window.PLOTLYENV || {};window.PLOTLYENV.BASE_URL=\"https://plot.ly\";Plotly.newPlot(\"bf731bf6-8a7b-4fee-8f4b-5d64d5f45672\", [{\"type\": \"box\", \"y\": [0.5128205128205128, 0.5054945054945055, 0.5706521739130435, 0.4873096446700508, 0.3854748603351955], \"name\": \"\\u00c1LGEBRA LINEAL I\"}, {\"type\": \"box\", \"y\": [0.4583333333333333, 0.37714285714285717, 0.465, 0.4489795918367347, 0.4899328859060403], \"name\": \"\\u00c1LGEBRA LINEAL II\"}, {\"type\": \"box\", \"y\": [0.6302521008403361, 0.6028368794326241, 0.6096256684491979, 0.6708074534161491, 0.703125], \"name\": \"ESTAD\\u00cdSTICA B\\u00c1SICA\"}, {\"type\": \"box\", \"y\": [0.3614457831325301, 0.4673913043478261, 0.28448275862068967, 0.4954954954954955, 0.35106382978723405], \"name\": \"F\\u00cdSICA\"}, {\"type\": \"box\", \"y\": [0.7043478260869566, 0.5934959349593496, 0.5584415584415584, 0.592, 0.6535433070866141], \"name\": \"FUNCIONES DE UNA VARIABLE I\"}, {\"type\": \"box\", \"y\": [0.4519230769230769, 0.4444444444444444, 0.515625, 0.48148148148148145, 0.45098039215686275], \"name\": \"FUNCIONES DE UNA VARIABLE II\"}, {\"type\": \"box\", \"y\": [0.7064220183486238, 0.704, 0.5539568345323741, 0.6524822695035462, 0.6142857142857143], \"name\": \"FUNCIONES DE VARIAS VARIABLES I\"}, {\"type\": \"box\", \"y\": [0.5648854961832062, 0.5675675675675675, 0.5906040268456376, 0.6814814814814815, 0.6139240506329114], \"name\": \"GEOMETR\\u00cdA B\\u00c1SICA\"}, {\"type\": \"box\", \"y\": [0.7132867132867133, 0.4584837545126354, 0.5719844357976653, 0.4811715481171548, 0.4701492537313433], \"name\": \"LENGUAJE MATEM\\u00c1TICO, CONJUNTOS Y N\\u00daMEROS\"}, {\"type\": \"box\", \"y\": [0.5368421052631579, 0.5021834061135371, 0.49107142857142855, 0.6881188118811881, 0.5879120879120879], \"name\": \"MATEM\\u00c1TICA DISCRETA\"}], {\"showlegend\": false, \"font\": {\"size\": 8}, \"title\": \"Tasa \\u00e9xito en ex\\u00e1menes realizados - Curso 1\"}, {\"showLink\": true, \"linkText\": \"Export to plot.ly\"})});</script>"
      ],
      "text/plain": [
       "<IPython.core.display.HTML object>"
      ]
     },
     "metadata": {},
     "output_type": "display_data"
    },
    {
     "data": {
      "text/html": [
       "<div id=\"6ad76eab-47b6-4df7-b2f5-f847da24ca9f\" style=\"height: 525px; width: 100%;\" class=\"plotly-graph-div\"></div><script type=\"text/javascript\">require([\"plotly\"], function(Plotly) { window.PLOTLYENV=window.PLOTLYENV || {};window.PLOTLYENV.BASE_URL=\"https://plot.ly\";Plotly.newPlot(\"6ad76eab-47b6-4df7-b2f5-f847da24ca9f\", [{\"type\": \"box\", \"y\": [0.5897435897435898, 0.5074626865671642, 0.45588235294117646, 0.8313253012048193], \"name\": \"\\u00c1LGEBRA (MATEM\\u00c1TICAS)\"}, {\"type\": \"box\", \"y\": [0.6904761904761905, 0.6451612903225806, 0.6415094339622641, 0.6481481481481481], \"name\": \"AN\\u00c1LISIS NUM\\u00c9RICO MATRICIAL E INTERPOLACI\\u00d3N\"}, {\"type\": \"box\", \"y\": [0.36231884057971014, 0.3879310344827586, 0.2803030303030303, 0.28888888888888886], \"name\": \"C\\u00c1LCULO DE PROBABILIDADES I\"}, {\"type\": \"box\", \"y\": [0.6, 0.41836734693877553, 0.580952380952381, 0.5242718446601942], \"name\": \"ESTRUCTURAS ALGEBRAICAS\"}, {\"type\": \"box\", \"y\": [0.8108108108108109, 0.927710843373494, 0.948051948051948, 0.9024390243902439], \"name\": \"FUNCIONES DE VARIAS VARIABLES II\"}, {\"type\": \"box\", \"y\": [0.65625, 0.4791666666666667, 0.6236559139784946, 0.33], \"name\": \"GEOMETR\\u00cdAS LINEALES\"}, {\"type\": \"box\", \"y\": [0.7323943661971831, 0.7283950617283951, 0.7407407407407407, 0.7714285714285715], \"name\": \"HERRAMIENTAS INFORM\\u00c1TICAS PARA MATEM\\u00c1TICAS\"}, {\"type\": \"box\", \"y\": [0.7843137254901961, 0.8082191780821918, 0.7017543859649122, 0.6896551724137931], \"name\": \"LENGUAJES DE PROGRAMACI\\u00d3N\"}, {\"type\": \"box\", \"y\": [0.6444444444444445, 0.7075471698113207, 0.6410256410256411, 0.5565217391304348], \"name\": \"PROGRAMACI\\u00d3N LINEAL Y ENTERA\"}, {\"type\": \"box\", \"y\": [0.5, 0.7529411764705882, 0.40789473684210525, 0.6666666666666666], \"name\": \"VARIABLE COMPLEJA\"}], {\"showlegend\": false, \"font\": {\"size\": 8}, \"title\": \"Tasa \\u00e9xito en ex\\u00e1menes realizados - Curso 2\"}, {\"showLink\": true, \"linkText\": \"Export to plot.ly\"})});</script>"
      ],
      "text/plain": [
       "<IPython.core.display.HTML object>"
      ]
     },
     "metadata": {},
     "output_type": "display_data"
    },
    {
     "data": {
      "text/html": [
       "<div id=\"3f367088-409d-4263-88f5-d81e809f1806\" style=\"height: 525px; width: 100%;\" class=\"plotly-graph-div\"></div><script type=\"text/javascript\">require([\"plotly\"], function(Plotly) { window.PLOTLYENV=window.PLOTLYENV || {};window.PLOTLYENV.BASE_URL=\"https://plot.ly\";Plotly.newPlot(\"3f367088-409d-4263-88f5-d81e809f1806\", [{\"type\": \"box\", \"y\": [0.8421052631578947, 0.9090909090909091, 1.0], \"name\": \"AN\\u00c1LISIS DE FOURIER Y ECUACIONES EN DERIVADAS PARCIALES\"}, {\"type\": \"box\", \"y\": [0.4782608695652174, 0.4222222222222222, 0.36486486486486486], \"name\": \"C\\u00c1LCULO DE PROBABILIDADES II\"}, {\"type\": \"box\", \"y\": [0.5925925925925926, 0.7777777777777778, 0.575], \"name\": \"GEOMETR\\u00cdA DIFERENCIAL DE CURVAS Y SUPERFICIES\"}, {\"type\": \"box\", \"y\": [0.5, 0.5476190476190477, 0.6470588235294118], \"name\": \"INFERENCIA ESTAD\\u00cdSTICA (MATEM\\u00c1TICAS)\"}, {\"type\": \"box\", \"y\": [0.8205128205128205, 0.9285714285714286, 0.9], \"name\": \"INTRODUCCI\\u00d3N A LAS ECUACIONES DIFERENCIALES\"}, {\"type\": \"box\", \"y\": [0.8, 0.5142857142857142, 0.6037735849056604], \"name\": \"INTRODUCCI\\u00d3N A LOS ESPACIOS DE HILBERT\"}, {\"type\": \"box\", \"y\": [0.9130434782608695, 0.84, 0.7307692307692307], \"name\": \"MODELIZACI\\u00d3N\"}, {\"type\": \"box\", \"y\": [0.85, 0.7777777777777778, 0.8181818181818182], \"name\": \"RESOLUCI\\u00d3N NUM\\u00c9RICA DE ECUACIONES\"}, {\"type\": \"box\", \"y\": [0.7931034482758621, 0.7666666666666667, 0.5769230769230769], \"name\": \"TOPOLOG\\u00cdA\"}, {\"type\": \"box\", \"y\": [0.7142857142857143, 0.8695652173913043, 0.8846153846153846], \"name\": \"CAMPOS Y FORMAS\"}], {\"showlegend\": false, \"font\": {\"size\": 8}, \"title\": \"Tasa \\u00e9xito en ex\\u00e1menes realizados - Curso 3\"}, {\"showLink\": true, \"linkText\": \"Export to plot.ly\"})});</script>"
      ],
      "text/plain": [
       "<IPython.core.display.HTML object>"
      ]
     },
     "metadata": {},
     "output_type": "display_data"
    },
    {
     "data": {
      "text/html": [
       "<div id=\"5a28f516-fb7a-4513-922f-93f7f706499e\" style=\"height: 525px; width: 100%;\" class=\"plotly-graph-div\"></div><script type=\"text/javascript\">require([\"plotly\"], function(Plotly) { window.PLOTLYENV=window.PLOTLYENV || {};window.PLOTLYENV.BASE_URL=\"https://plot.ly\";Plotly.newPlot(\"5a28f516-fb7a-4513-922f-93f7f706499e\", [{\"type\": \"box\", \"y\": [0.7222222222222222, 0.875], \"name\": \"AMPLIACI\\u00d3N DE TOPOLOG\\u00cdA\"}, {\"type\": \"box\", \"y\": [0.5833333333333334, 0.7777777777777778], \"name\": \"ASTROF\\u00cdSICA GENERAL\"}, {\"type\": \"box\", \"y\": [0.5, 0.5789473684210527], \"name\": \"ESPACIOS NORMADOS\"}, {\"type\": \"box\", \"y\": [0.5, 0.6666666666666666], \"name\": \"F\\u00cdSICA MATEM\\u00c1TICA\"}, {\"type\": \"box\", \"y\": [0.8958333333333334, 0.7575757575757576], \"name\": \"HISTORIA DE LAS MATEM\\u00c1TICAS\"}, {\"type\": \"box\", \"y\": [0.8076923076923077, 0.75], \"name\": \"INGL\\u00c9S CIENT\\u00cdFICO\"}, {\"type\": \"box\", \"y\": [0.8541666666666666, 0.9], \"name\": \"INTRODUCCI\\u00d3N A LA ASTRONOM\\u00cdA\"}, {\"type\": \"box\", \"y\": [], \"name\": \"L\\u00d3GICA MATEM\\u00c1TICA\"}, {\"type\": \"box\", \"y\": [0.5294117647058824, 0.5652173913043478], \"name\": \"MODELOS DE REGRESI\\u00d3N\"}, {\"type\": \"box\", \"y\": [0.3333333333333333, 0.65], \"name\": \"PROCESOS ESTOC\\u00c1STICOS\"}, {\"type\": \"box\", \"y\": [0.9166666666666666], \"name\": \"SISTEMAS DIN\\u00c1MICOS\"}, {\"type\": \"box\", \"y\": [0.6451612903225806, 0.8888888888888888], \"name\": \"TEOR\\u00cdA DE JUEGOS (MATEM\\u00c1TICAS)\"}, {\"type\": \"box\", \"y\": [0.36363636363636365, 0.43333333333333335], \"name\": \"TEOR\\u00cdA DE LA DECISI\\u00d3N\"}, {\"type\": \"box\", \"y\": [0.875, 0.75], \"name\": \"TEOR\\u00cdA DE MUESTRAS\"}, {\"type\": \"box\", \"y\": [0.8823529411764706, 0.5454545454545454], \"name\": \"AMPLIACI\\u00d3N DE VARIABLE COMPLEJA\"}, {\"type\": \"box\", \"y\": [0.38461538461538464, 0.8], \"name\": \"AN\\u00c1LISIS MULTIVARIANTE (MATEM\\u00c1TICAS)\"}, {\"type\": \"box\", \"y\": [1.0, 0.7333333333333333], \"name\": \"GEOMETR\\u00cdA DIFERENCIAL\"}, {\"type\": \"box\", \"y\": [0.6296296296296297, 1.0], \"name\": \"INTEGRAL DE LEBESGUE\"}, {\"type\": \"box\", \"y\": [0.07692307692307693, 0.25], \"name\": \"MODELOS ESTOC\\u00c1STICOS\"}, {\"type\": \"box\", \"y\": [1.0, 1.0], \"name\": \"TRABAJO FIN DE GRADO (MATEM\\u00c1TICAS)\"}], {\"showlegend\": false, \"font\": {\"size\": 8}, \"title\": \"Tasa \\u00e9xito en ex\\u00e1menes realizados - Curso 4\"}, {\"showLink\": true, \"linkText\": \"Export to plot.ly\"})});</script>"
      ],
      "text/plain": [
       "<IPython.core.display.HTML object>"
      ]
     },
     "metadata": {},
     "output_type": "display_data"
    }
   ],
   "source": [
    "traces = []\n",
    "for curso in range(1,5):\n",
    "    for i in subjects_by_curso(curso):\n",
    "        trace = go.Box(\n",
    "            y = data.loc[data['ID'] == i, 'Tasa exito examen'],\n",
    "            name = subject_name(i)\n",
    "        )\n",
    "        traces.append(trace)\n",
    "    layout = go.Layout(\n",
    "        showlegend=False,\n",
    "        font = dict(size=8),\n",
    "        title = \"Tasa éxito en exámenes realizados - Curso \" + str(curso)\n",
    "    )\n",
    "    fig = go.Figure(data=traces, layout=layout)\n",
    "    py.iplot(fig)\n",
    "    traces = []"
   ]
  },
  {
   "cell_type": "markdown",
   "metadata": {},
   "source": [
    "Grafica de cajas de estudiantes <a id='matriculados'>matriculados</a> en cada optativa."
   ]
  },
  {
   "cell_type": "code",
   "execution_count": 17,
   "metadata": {
    "collapsed": false
   },
   "outputs": [
    {
     "data": {
      "text/html": [
       "<div id=\"347056ed-e113-48e7-a9a2-04e934e00b42\" style=\"height: 700px; width: 100%;\" class=\"plotly-graph-div\"></div><script type=\"text/javascript\">require([\"plotly\"], function(Plotly) { window.PLOTLYENV=window.PLOTLYENV || {};window.PLOTLYENV.BASE_URL=\"https://plot.ly\";Plotly.newPlot(\"347056ed-e113-48e7-a9a2-04e934e00b42\", [{\"type\": \"box\", \"y\": [26, 29], \"name\": \"AMPLIACI\\u00d3N DE TOPOLOG\\u00cdA\"}, {\"type\": \"box\", \"y\": [37, 40], \"name\": \"ASTROF\\u00cdSICA GENERAL\"}, {\"type\": \"box\", \"y\": [28, 28], \"name\": \"ESPACIOS NORMADOS\"}, {\"type\": \"box\", \"y\": [10, 22], \"name\": \"F\\u00cdSICA MATEM\\u00c1TICA\"}, {\"type\": \"box\", \"y\": [77, 70], \"name\": \"HISTORIA DE LAS MATEM\\u00c1TICAS\"}, {\"type\": \"box\", \"y\": [39, 47], \"name\": \"INGL\\u00c9S CIENT\\u00cdFICO\"}, {\"type\": \"box\", \"y\": [77, 70], \"name\": \"INTRODUCCI\\u00d3N A LA ASTRONOM\\u00cdA\"}, {\"type\": \"box\", \"y\": [], \"name\": \"L\\u00d3GICA MATEM\\u00c1TICA\"}, {\"type\": \"box\", \"y\": [26, 28], \"name\": \"MODELOS DE REGRESI\\u00d3N\"}, {\"type\": \"box\", \"y\": [23, 34], \"name\": \"PROCESOS ESTOC\\u00c1STICOS\"}, {\"type\": \"box\", \"y\": [24], \"name\": \"SISTEMAS DIN\\u00c1MICOS\"}, {\"type\": \"box\", \"y\": [35, 56], \"name\": \"TEOR\\u00cdA DE JUEGOS (MATEM\\u00c1TICAS)\"}, {\"type\": \"box\", \"y\": [31, 40], \"name\": \"TEOR\\u00cdA DE LA DECISI\\u00d3N\"}, {\"type\": \"box\", \"y\": [29, 27], \"name\": \"TEOR\\u00cdA DE MUESTRAS\"}, {\"type\": \"box\", \"y\": [24, 15], \"name\": \"AMPLIACI\\u00d3N DE VARIABLE COMPLEJA\"}, {\"type\": \"box\", \"y\": [18, 27], \"name\": \"AN\\u00c1LISIS MULTIVARIANTE (MATEM\\u00c1TICAS)\"}, {\"type\": \"box\", \"y\": [17, 27], \"name\": \"GEOMETR\\u00cdA DIFERENCIAL\"}, {\"type\": \"box\", \"y\": [30, 24], \"name\": \"INTEGRAL DE LEBESGUE\"}, {\"type\": \"box\", \"y\": [15, 21], \"name\": \"MODELOS ESTOC\\u00c1STICOS\"}, {\"type\": \"box\", \"y\": [43, 68], \"name\": \"TRABAJO FIN DE GRADO (MATEM\\u00c1TICAS)\"}], {\"title\": \"Estudiantes matriculados por optativa\", \"margin\": {\"b\": 200, \"t\": 50}, \"height\": 700, \"showlegend\": false, \"font\": {\"size\": 8}}, {\"showLink\": true, \"linkText\": \"Export to plot.ly\"})});</script>"
      ],
      "text/plain": [
       "<IPython.core.display.HTML object>"
      ]
     },
     "metadata": {},
     "output_type": "display_data"
    }
   ],
   "source": [
    "traces = []\n",
    "for i in subjects_by_curso(4):\n",
    "    trace = go.Box(\n",
    "        y = data.loc[data['ID'] == i, 'ESTUD. MATRICULADOS'],\n",
    "        name = subject_name(i)\n",
    "    )\n",
    "    traces.append(trace)\n",
    "\n",
    "layout = go.Layout(\n",
    "    title = \"Estudiantes matriculados por optativa\",\n",
    "    margin = go.Margin(b=200, t=50),\n",
    "    height = 700,\n",
    "    showlegend=False,\n",
    "    font = dict(size=8)\n",
    ")\n",
    "\n",
    "fig = go.Figure(data=traces, layout=layout)\n",
    "py.iplot(fig)"
   ]
  },
  {
   "cell_type": "code",
   "execution_count": 18,
   "metadata": {
    "collapsed": false
   },
   "outputs": [
    {
     "data": {
      "text/html": [
       "<div id=\"9fdf479f-b328-4533-9d4e-d607313106ef\" style=\"height: 525px; width: 100%;\" class=\"plotly-graph-div\"></div><script type=\"text/javascript\">require([\"plotly\"], function(Plotly) { window.PLOTLYENV=window.PLOTLYENV || {};window.PLOTLYENV.BASE_URL=\"https://plot.ly\";Plotly.newPlot(\"9fdf479f-b328-4533-9d4e-d607313106ef\", [{\"type\": \"scatter\", \"x\": [\"\\u00c1LGEBRA LINEAL I\", \"\\u00c1LGEBRA LINEAL II\", \"ESTAD\\u00cdSTICA B\\u00c1SICA\", \"F\\u00cdSICA\", \"FUNCIONES DE UNA VARIABLE I\", \"FUNCIONES DE UNA VARIABLE II\", \"FUNCIONES DE VARIAS VARIABLES I\", \"GEOMETR\\u00cdA B\\u00c1SICA\", \"LENGUAJE MATEM\\u00c1TICO, CONJUNTOS Y N\\u00daMEROS\", \"MATEM\\u00c1TICA DISCRETA\"], \"y\": [2011, 2011, 2011, 2011, 2011, 2011, 2011, 2011, 2011, 2011], \"mode\": \"markers\", \"text\": [0.4871794871794872, 0.5416666666666667, 0.3697478991596639, 0.6385542168674698, 0.29565217391304344, 0.5480769230769231, 0.29357798165137616, 0.43511450381679384, 0.28671328671328666, 0.4631578947368421], \"marker\": {\"symbol\": \"circle\", \"sizeref\": 0.045, \"size\": [0.4871794871794872, 0.5416666666666667, 0.3697478991596639, 0.6385542168674698, 0.29565217391304344, 0.5480769230769231, 0.29357798165137616, 0.43511450381679384, 0.28671328671328666, 0.4631578947368421], \"sizemode\": \"diameter\", \"color\": [0.4871794871794872, 0.5416666666666667, 0.3697478991596639, 0.6385542168674698, 0.29565217391304344, 0.5480769230769231, 0.29357798165137616, 0.43511450381679384, 0.28671328671328666, 0.4631578947368421], \"line\": {\"width\": 2}}}, {\"type\": \"scatter\", \"x\": [\"\\u00c1LGEBRA LINEAL I\", \"\\u00c1LGEBRA LINEAL II\", \"\\u00c1LGEBRA (MATEM\\u00c1TICAS)\", \"AN\\u00c1LISIS NUM\\u00c9RICO MATRICIAL E INTERPOLACI\\u00d3N\", \"C\\u00c1LCULO DE PROBABILIDADES I\", \"ESTAD\\u00cdSTICA B\\u00c1SICA\", \"ESTRUCTURAS ALGEBRAICAS\", \"F\\u00cdSICA\", \"FUNCIONES DE UNA VARIABLE I\", \"FUNCIONES DE UNA VARIABLE II\", \"FUNCIONES DE VARIAS VARIABLES I\", \"FUNCIONES DE VARIAS VARIABLES II\", \"GEOMETR\\u00cdA B\\u00c1SICA\", \"GEOMETR\\u00cdAS LINEALES\", \"HERRAMIENTAS INFORM\\u00c1TICAS PARA MATEM\\u00c1TICAS\", \"LENGUAJE MATEM\\u00c1TICO, CONJUNTOS Y N\\u00daMEROS\", \"LENGUAJES DE PROGRAMACI\\u00d3N\", \"MATEM\\u00c1TICA DISCRETA\", \"PROGRAMACI\\u00d3N LINEAL Y ENTERA\", \"VARIABLE COMPLEJA\"], \"y\": [2012, 2012, 2012, 2012, 2012, 2012, 2012, 2012, 2012, 2012, 2012, 2012, 2012, 2012, 2012, 2012, 2012, 2012, 2012, 2012], \"mode\": \"markers\", \"text\": [0.4945054945054945, 0.6228571428571428, 0.41025641025641024, 0.30952380952380953, 0.6376811594202898, 0.3971631205673759, 0.4, 0.5326086956521738, 0.4065040650406504, 0.5555555555555556, 0.29600000000000004, 0.18918918918918914, 0.43243243243243246, 0.34375, 0.2676056338028169, 0.5415162454873645, 0.21568627450980393, 0.49781659388646293, 0.3555555555555555, 0.5], \"marker\": {\"symbol\": \"circle\", \"sizeref\": 0.045, \"size\": [0.4945054945054945, 0.6228571428571428, 0.41025641025641024, 0.30952380952380953, 0.6376811594202898, 0.3971631205673759, 0.4, 0.5326086956521738, 0.4065040650406504, 0.5555555555555556, 0.29600000000000004, 0.18918918918918914, 0.43243243243243246, 0.34375, 0.2676056338028169, 0.5415162454873645, 0.21568627450980393, 0.49781659388646293, 0.3555555555555555, 0.5], \"sizemode\": \"diameter\", \"color\": [0.4945054945054945, 0.6228571428571428, 0.41025641025641024, 0.30952380952380953, 0.6376811594202898, 0.3971631205673759, 0.4, 0.5326086956521738, 0.4065040650406504, 0.5555555555555556, 0.29600000000000004, 0.18918918918918914, 0.43243243243243246, 0.34375, 0.2676056338028169, 0.5415162454873645, 0.21568627450980393, 0.49781659388646293, 0.3555555555555555, 0.5], \"line\": {\"width\": 2}}}, {\"type\": \"scatter\", \"x\": [\"\\u00c1LGEBRA LINEAL I\", \"\\u00c1LGEBRA LINEAL II\", \"\\u00c1LGEBRA (MATEM\\u00c1TICAS)\", \"AN\\u00c1LISIS DE FOURIER Y ECUACIONES EN DERIVADAS PARCIALES\", \"AN\\u00c1LISIS NUM\\u00c9RICO MATRICIAL E INTERPOLACI\\u00d3N\", \"C\\u00c1LCULO DE PROBABILIDADES I\", \"C\\u00c1LCULO DE PROBABILIDADES II\", \"CAMPOS Y FORMAS\", \"ESTAD\\u00cdSTICA B\\u00c1SICA\", \"ESTRUCTURAS ALGEBRAICAS\", \"F\\u00cdSICA\", \"FUNCIONES DE UNA VARIABLE I\", \"FUNCIONES DE UNA VARIABLE II\", \"FUNCIONES DE VARIAS VARIABLES I\", \"FUNCIONES DE VARIAS VARIABLES II\", \"GEOMETR\\u00cdA B\\u00c1SICA\", \"GEOMETR\\u00cdA DIFERENCIAL DE CURVAS Y SUPERFICIES\", \"GEOMETR\\u00cdAS LINEALES\", \"HERRAMIENTAS INFORM\\u00c1TICAS PARA MATEM\\u00c1TICAS\", \"INFERENCIA ESTAD\\u00cdSTICA (MATEM\\u00c1TICAS)\", \"INTRODUCCI\\u00d3N A LAS ECUACIONES DIFERENCIALES\", \"INTRODUCCI\\u00d3N A LOS ESPACIOS DE HILBERT\", \"LENGUAJE MATEM\\u00c1TICO, CONJUNTOS Y N\\u00daMEROS\", \"LENGUAJES DE PROGRAMACI\\u00d3N\", \"MATEM\\u00c1TICA DISCRETA\", \"MODELIZACI\\u00d3N\", \"PROGRAMACI\\u00d3N LINEAL Y ENTERA\", \"RESOLUCI\\u00d3N NUM\\u00c9RICA DE ECUACIONES\", \"TOPOLOG\\u00cdA\", \"VARIABLE COMPLEJA\"], \"y\": [2013, 2013, 2013, 2013, 2013, 2013, 2013, 2013, 2013, 2013, 2013, 2013, 2013, 2013, 2013, 2013, 2013, 2013, 2013, 2013, 2013, 2013, 2013, 2013, 2013, 2013, 2013, 2013, 2013, 2013], \"mode\": \"markers\", \"text\": [0.42934782608695654, 0.5349999999999999, 0.4925373134328358, 0.1578947368421053, 0.3548387096774194, 0.6120689655172413, 0.5217391304347826, 0.2857142857142857, 0.39037433155080214, 0.5816326530612245, 0.7155172413793103, 0.4415584415584416, 0.484375, 0.4460431654676259, 0.07228915662650603, 0.4093959731543624, 0.40740740740740744, 0.5208333333333333, 0.2716049382716049, 0.5, 0.17948717948717952, 0.19999999999999996, 0.42801556420233466, 0.1917808219178082, 0.5089285714285714, 0.08695652173913049, 0.2924528301886793, 0.15000000000000002, 0.2068965517241379, 0.24705882352941178], \"marker\": {\"symbol\": \"circle\", \"sizeref\": 0.045, \"size\": [0.42934782608695654, 0.5349999999999999, 0.4925373134328358, 0.1578947368421053, 0.3548387096774194, 0.6120689655172413, 0.5217391304347826, 0.2857142857142857, 0.39037433155080214, 0.5816326530612245, 0.7155172413793103, 0.4415584415584416, 0.484375, 0.4460431654676259, 0.07228915662650603, 0.4093959731543624, 0.40740740740740744, 0.5208333333333333, 0.2716049382716049, 0.5, 0.17948717948717952, 0.19999999999999996, 0.42801556420233466, 0.1917808219178082, 0.5089285714285714, 0.08695652173913049, 0.2924528301886793, 0.15000000000000002, 0.2068965517241379, 0.24705882352941178], \"sizemode\": \"diameter\", \"color\": [0.42934782608695654, 0.5349999999999999, 0.4925373134328358, 0.1578947368421053, 0.3548387096774194, 0.6120689655172413, 0.5217391304347826, 0.2857142857142857, 0.39037433155080214, 0.5816326530612245, 0.7155172413793103, 0.4415584415584416, 0.484375, 0.4460431654676259, 0.07228915662650603, 0.4093959731543624, 0.40740740740740744, 0.5208333333333333, 0.2716049382716049, 0.5, 0.17948717948717952, 0.19999999999999996, 0.42801556420233466, 0.1917808219178082, 0.5089285714285714, 0.08695652173913049, 0.2924528301886793, 0.15000000000000002, 0.2068965517241379, 0.24705882352941178], \"line\": {\"width\": 2}}}, {\"type\": \"scatter\", \"x\": [\"\\u00c1LGEBRA LINEAL I\", \"\\u00c1LGEBRA LINEAL II\", \"\\u00c1LGEBRA (MATEM\\u00c1TICAS)\", \"AMPLIACI\\u00d3N DE TOPOLOG\\u00cdA\", \"AMPLIACI\\u00d3N DE VARIABLE COMPLEJA\", \"AN\\u00c1LISIS DE FOURIER Y ECUACIONES EN DERIVADAS PARCIALES\", \"AN\\u00c1LISIS MULTIVARIANTE (MATEM\\u00c1TICAS)\", \"AN\\u00c1LISIS NUM\\u00c9RICO MATRICIAL E INTERPOLACI\\u00d3N\", \"ASTROF\\u00cdSICA GENERAL\", \"C\\u00c1LCULO DE PROBABILIDADES I\", \"C\\u00c1LCULO DE PROBABILIDADES II\", \"CAMPOS Y FORMAS\", \"ESPACIOS NORMADOS\", \"ESTAD\\u00cdSTICA B\\u00c1SICA\", \"ESTRUCTURAS ALGEBRAICAS\", \"F\\u00cdSICA\", \"F\\u00cdSICA MATEM\\u00c1TICA\", \"FUNCIONES DE UNA VARIABLE I\", \"FUNCIONES DE UNA VARIABLE II\", \"FUNCIONES DE VARIAS VARIABLES I\", \"FUNCIONES DE VARIAS VARIABLES II\", \"GEOMETR\\u00cdA B\\u00c1SICA\", \"GEOMETR\\u00cdA DIFERENCIAL\", \"GEOMETR\\u00cdA DIFERENCIAL DE CURVAS Y SUPERFICIES\", \"GEOMETR\\u00cdAS LINEALES\", \"HERRAMIENTAS INFORM\\u00c1TICAS PARA MATEM\\u00c1TICAS\", \"HISTORIA DE LAS MATEM\\u00c1TICAS\", \"INFERENCIA ESTAD\\u00cdSTICA (MATEM\\u00c1TICAS)\", \"INGL\\u00c9S CIENT\\u00cdFICO\", \"INTEGRAL DE LEBESGUE\", \"INTRODUCCI\\u00d3N A LA ASTRONOM\\u00cdA\", \"INTRODUCCI\\u00d3N A LAS ECUACIONES DIFERENCIALES\", \"INTRODUCCI\\u00d3N A LOS ESPACIOS DE HILBERT\", \"LENGUAJE MATEM\\u00c1TICO, CONJUNTOS Y N\\u00daMEROS\", \"LENGUAJES DE PROGRAMACI\\u00d3N\", \"MATEM\\u00c1TICA DISCRETA\", \"MODELIZACI\\u00d3N\", \"MODELOS DE REGRESI\\u00d3N\", \"MODELOS ESTOC\\u00c1STICOS\", \"PROCESOS ESTOC\\u00c1STICOS\", \"PROGRAMACI\\u00d3N LINEAL Y ENTERA\", \"RESOLUCI\\u00d3N NUM\\u00c9RICA DE ECUACIONES\", \"TEOR\\u00cdA DE JUEGOS (MATEM\\u00c1TICAS)\", \"TEOR\\u00cdA DE LA DECISI\\u00d3N\", \"TEOR\\u00cdA DE MUESTRAS\", \"TOPOLOG\\u00cdA\", \"TRABAJO FIN DE GRADO (MATEM\\u00c1TICAS)\", \"VARIABLE COMPLEJA\"], \"y\": [2014, 2014, 2014, 2014, 2014, 2014, 2014, 2014, 2014, 2014, 2014, 2014, 2014, 2014, 2014, 2014, 2014, 2014, 2014, 2014, 2014, 2014, 2014, 2014, 2014, 2014, 2014, 2014, 2014, 2014, 2014, 2014, 2014, 2014, 2014, 2014, 2014, 2014, 2014, 2014, 2014, 2014, 2014, 2014, 2014, 2014, 2014, 2014], \"mode\": \"markers\", \"text\": [0.5126903553299492, 0.5510204081632653, 0.5441176470588236, 0.2777777777777778, 0.11764705882352944, 0.09090909090909094, 0.6153846153846154, 0.3584905660377359, 0.41666666666666663, 0.7196969696969697, 0.5777777777777777, 0.13043478260869568, 0.5, 0.3291925465838509, 0.419047619047619, 0.5045045045045045, 0.5, 0.40800000000000003, 0.5185185185185186, 0.34751773049645385, 0.051948051948051965, 0.31851851851851853, 0.0, 0.2222222222222222, 0.3763440860215054, 0.2592592592592593, 0.10416666666666663, 0.45238095238095233, 0.1923076923076923, 0.37037037037037035, 0.14583333333333337, 0.0714285714285714, 0.48571428571428577, 0.5188284518828452, 0.29824561403508776, 0.31188118811881194, 0.16000000000000003, 0.47058823529411764, 0.9230769230769231, 0.6666666666666667, 0.3589743589743589, 0.2222222222222222, 0.3548387096774194, 0.6363636363636364, 0.125, 0.23333333333333328, 0.0, 0.5921052631578947], \"marker\": {\"symbol\": \"circle\", \"sizeref\": 0.045, \"size\": [0.5126903553299492, 0.5510204081632653, 0.5441176470588236, 0.2777777777777778, 0.11764705882352944, 0.09090909090909094, 0.6153846153846154, 0.3584905660377359, 0.41666666666666663, 0.7196969696969697, 0.5777777777777777, 0.13043478260869568, 0.5, 0.3291925465838509, 0.419047619047619, 0.5045045045045045, 0.5, 0.40800000000000003, 0.5185185185185186, 0.34751773049645385, 0.051948051948051965, 0.31851851851851853, 0.0, 0.2222222222222222, 0.3763440860215054, 0.2592592592592593, 0.10416666666666663, 0.45238095238095233, 0.1923076923076923, 0.37037037037037035, 0.14583333333333337, 0.0714285714285714, 0.48571428571428577, 0.5188284518828452, 0.29824561403508776, 0.31188118811881194, 0.16000000000000003, 0.47058823529411764, 0.9230769230769231, 0.6666666666666667, 0.3589743589743589, 0.2222222222222222, 0.3548387096774194, 0.6363636363636364, 0.125, 0.23333333333333328, 0.0, 0.5921052631578947], \"sizemode\": \"diameter\", \"color\": [0.5126903553299492, 0.5510204081632653, 0.5441176470588236, 0.2777777777777778, 0.11764705882352944, 0.09090909090909094, 0.6153846153846154, 0.3584905660377359, 0.41666666666666663, 0.7196969696969697, 0.5777777777777777, 0.13043478260869568, 0.5, 0.3291925465838509, 0.419047619047619, 0.5045045045045045, 0.5, 0.40800000000000003, 0.5185185185185186, 0.34751773049645385, 0.051948051948051965, 0.31851851851851853, 0.0, 0.2222222222222222, 0.3763440860215054, 0.2592592592592593, 0.10416666666666663, 0.45238095238095233, 0.1923076923076923, 0.37037037037037035, 0.14583333333333337, 0.0714285714285714, 0.48571428571428577, 0.5188284518828452, 0.29824561403508776, 0.31188118811881194, 0.16000000000000003, 0.47058823529411764, 0.9230769230769231, 0.6666666666666667, 0.3589743589743589, 0.2222222222222222, 0.3548387096774194, 0.6363636363636364, 0.125, 0.23333333333333328, 0.0, 0.5921052631578947], \"line\": {\"width\": 2}}}, {\"type\": \"scatter\", \"x\": [\"\\u00c1LGEBRA LINEAL I\", \"\\u00c1LGEBRA LINEAL II\", \"\\u00c1LGEBRA (MATEM\\u00c1TICAS)\", \"AMPLIACI\\u00d3N DE TOPOLOG\\u00cdA\", \"AMPLIACI\\u00d3N DE VARIABLE COMPLEJA\", \"AN\\u00c1LISIS DE FOURIER Y ECUACIONES EN DERIVADAS PARCIALES\", \"AN\\u00c1LISIS MULTIVARIANTE (MATEM\\u00c1TICAS)\", \"AN\\u00c1LISIS NUM\\u00c9RICO MATRICIAL E INTERPOLACI\\u00d3N\", \"ASTROF\\u00cdSICA GENERAL\", \"C\\u00c1LCULO DE PROBABILIDADES I\", \"C\\u00c1LCULO DE PROBABILIDADES II\", \"CAMPOS Y FORMAS\", \"ESPACIOS NORMADOS\", \"ESTAD\\u00cdSTICA B\\u00c1SICA\", \"ESTRUCTURAS ALGEBRAICAS\", \"F\\u00cdSICA\", \"F\\u00cdSICA MATEM\\u00c1TICA\", \"FUNCIONES DE UNA VARIABLE I\", \"FUNCIONES DE UNA VARIABLE II\", \"FUNCIONES DE VARIAS VARIABLES I\", \"FUNCIONES DE VARIAS VARIABLES II\", \"GEOMETR\\u00cdA B\\u00c1SICA\", \"GEOMETR\\u00cdA DIFERENCIAL\", \"GEOMETR\\u00cdA DIFERENCIAL DE CURVAS Y SUPERFICIES\", \"GEOMETR\\u00cdAS LINEALES\", \"HERRAMIENTAS INFORM\\u00c1TICAS PARA MATEM\\u00c1TICAS\", \"HISTORIA DE LAS MATEM\\u00c1TICAS\", \"INFERENCIA ESTAD\\u00cdSTICA (MATEM\\u00c1TICAS)\", \"INGL\\u00c9S CIENT\\u00cdFICO\", \"INTEGRAL DE LEBESGUE\", \"INTRODUCCI\\u00d3N A LA ASTRONOM\\u00cdA\", \"INTRODUCCI\\u00d3N A LAS ECUACIONES DIFERENCIALES\", \"INTRODUCCI\\u00d3N A LOS ESPACIOS DE HILBERT\", \"LENGUAJE MATEM\\u00c1TICO, CONJUNTOS Y N\\u00daMEROS\", \"LENGUAJES DE PROGRAMACI\\u00d3N\", \"MATEM\\u00c1TICA DISCRETA\", \"MODELIZACI\\u00d3N\", \"MODELOS DE REGRESI\\u00d3N\", \"MODELOS ESTOC\\u00c1STICOS\", \"PROCESOS ESTOC\\u00c1STICOS\", \"PROGRAMACI\\u00d3N LINEAL Y ENTERA\", \"RESOLUCI\\u00d3N NUM\\u00c9RICA DE ECUACIONES\", \"SISTEMAS DIN\\u00c1MICOS\", \"TEOR\\u00cdA DE JUEGOS (MATEM\\u00c1TICAS)\", \"TEOR\\u00cdA DE LA DECISI\\u00d3N\", \"TEOR\\u00cdA DE MUESTRAS\", \"TOPOLOG\\u00cdA\", \"TRABAJO FIN DE GRADO (MATEM\\u00c1TICAS)\", \"VARIABLE COMPLEJA\"], \"y\": [2015, 2015, 2015, 2015, 2015, 2015, 2015, 2015, 2015, 2015, 2015, 2015, 2015, 2015, 2015, 2015, 2015, 2015, 2015, 2015, 2015, 2015, 2015, 2015, 2015, 2015, 2015, 2015, 2015, 2015, 2015, 2015, 2015, 2015, 2015, 2015, 2015, 2015, 2015, 2015, 2015, 2015, 2015, 2015, 2015, 2015, 2015, 2015, 2015], \"mode\": \"markers\", \"text\": [0.6145251396648045, 0.5100671140939597, 0.1686746987951807, 0.125, 0.4545454545454546, 0.0, 0.19999999999999996, 0.35185185185185186, 0.2222222222222222, 0.7111111111111111, 0.6351351351351351, 0.11538461538461542, 0.42105263157894735, 0.296875, 0.47572815533980584, 0.648936170212766, 0.33333333333333337, 0.3464566929133859, 0.5490196078431373, 0.3857142857142857, 0.09756097560975607, 0.38607594936708856, 0.2666666666666667, 0.42500000000000004, 0.6699999999999999, 0.22857142857142854, 0.24242424242424243, 0.3529411764705882, 0.25, 0.0, 0.09999999999999998, 0.09999999999999998, 0.39622641509433965, 0.5298507462686567, 0.31034482758620685, 0.41208791208791207, 0.2692307692307693, 0.4347826086956522, 0.75, 0.35, 0.4434782608695652, 0.18181818181818177, 0.08333333333333337, 0.11111111111111116, 0.5666666666666667, 0.25, 0.42307692307692313, 0.0, 0.33333333333333337], \"marker\": {\"symbol\": \"circle\", \"sizeref\": 0.045, \"size\": [0.6145251396648045, 0.5100671140939597, 0.1686746987951807, 0.125, 0.4545454545454546, 0.0, 0.19999999999999996, 0.35185185185185186, 0.2222222222222222, 0.7111111111111111, 0.6351351351351351, 0.11538461538461542, 0.42105263157894735, 0.296875, 0.47572815533980584, 0.648936170212766, 0.33333333333333337, 0.3464566929133859, 0.5490196078431373, 0.3857142857142857, 0.09756097560975607, 0.38607594936708856, 0.2666666666666667, 0.42500000000000004, 0.6699999999999999, 0.22857142857142854, 0.24242424242424243, 0.3529411764705882, 0.25, 0.0, 0.09999999999999998, 0.09999999999999998, 0.39622641509433965, 0.5298507462686567, 0.31034482758620685, 0.41208791208791207, 0.2692307692307693, 0.4347826086956522, 0.75, 0.35, 0.4434782608695652, 0.18181818181818177, 0.08333333333333337, 0.11111111111111116, 0.5666666666666667, 0.25, 0.42307692307692313, 0.0, 0.33333333333333337], \"sizemode\": \"diameter\", \"color\": [0.6145251396648045, 0.5100671140939597, 0.1686746987951807, 0.125, 0.4545454545454546, 0.0, 0.19999999999999996, 0.35185185185185186, 0.2222222222222222, 0.7111111111111111, 0.6351351351351351, 0.11538461538461542, 0.42105263157894735, 0.296875, 0.47572815533980584, 0.648936170212766, 0.33333333333333337, 0.3464566929133859, 0.5490196078431373, 0.3857142857142857, 0.09756097560975607, 0.38607594936708856, 0.2666666666666667, 0.42500000000000004, 0.6699999999999999, 0.22857142857142854, 0.24242424242424243, 0.3529411764705882, 0.25, 0.0, 0.09999999999999998, 0.09999999999999998, 0.39622641509433965, 0.5298507462686567, 0.31034482758620685, 0.41208791208791207, 0.2692307692307693, 0.4347826086956522, 0.75, 0.35, 0.4434782608695652, 0.18181818181818177, 0.08333333333333337, 0.11111111111111116, 0.5666666666666667, 0.25, 0.42307692307692313, 0.0, 0.33333333333333337], \"line\": {\"width\": 2}}}], {\"title\": \"Tasa de fracaso en examen por a\\u00f1o en casa asignatura\", \"margin\": {\"b\": 200, \"t\": 50}, \"font\": {\"size\": 10}, \"hovermode\": \"closest\", \"showlegend\": false, \"yaxis\": {\"title\": \"A\\u00f1os\", \"autotick\": false, \"tick0\": 0, \"dtick\": 0}}, {\"showLink\": true, \"linkText\": \"Export to plot.ly\"})});</script>"
      ],
      "text/plain": [
       "<IPython.core.display.HTML object>"
      ]
     },
     "metadata": {},
     "output_type": "display_data"
    }
   ],
   "source": [
    "traces = []\n",
    "for year in range(2011, 2016):\n",
    "    trace = go.Scatter(\n",
    "        x = data.loc[data['CURSO'] == year, 'ASIGNATURA'],\n",
    "        y = np.repeat(year, data.loc[data['CURSO'] == year, 'ASIGNATURA'].size),\n",
    "        mode='markers',\n",
    "        text = 1-data.loc[data['CURSO'] == year, 'Tasa exito examen'],\n",
    "        marker=dict(\n",
    "            symbol='circle',\n",
    "            sizeref = 0.045,\n",
    "            size= 1-data.loc[data['CURSO'] == year, 'Tasa exito examen'],\n",
    "            sizemode='diameter',\n",
    "            color= 1-data.loc[data['CURSO'] == year, 'Tasa exito examen'],\n",
    "            line=dict(width=2)\n",
    "        )\n",
    "    )\n",
    "    traces.append(trace)\n",
    "\n",
    "layout = go.Layout(\n",
    "    title='Tasa de fracaso en examen por año en casa asignatura',\n",
    "    margin = go.Margin(b=200, t=50),\n",
    "    font=dict(size=10),\n",
    "    hovermode = 'closest',\n",
    "    showlegend=False,\n",
    "    yaxis=dict(\n",
    "        title='Años',\n",
    "        autotick=False,\n",
    "        tick0=0,\n",
    "        dtick=0\n",
    "    )\n",
    ")\n",
    "fig = go.Figure(data=traces, layout=layout)\n",
    "py.iplot(fig)"
   ]
  },
  {
   "cell_type": "markdown",
   "metadata": {},
   "source": [
    "<a id='summary'>El siguiente gráfico</a> tiene como finalidad no dar importancia a una sola medida, sino a una combinación de ellas. El color muestra el porcenaje de suspensos. Cuanto más rojo, mayor es el porcentaje de suspensos de acuerdo a la escala de color mostrada en la gráfica."
   ]
  },
  {
   "cell_type": "code",
   "execution_count": 19,
   "metadata": {
    "collapsed": false
   },
   "outputs": [
    {
     "data": {
      "text/html": [
       "<div id=\"d61eb737-729f-4bf3-accc-747fe1a3c3f2\" style=\"height: 525px; width: 100%;\" class=\"plotly-graph-div\"></div><script type=\"text/javascript\">require([\"plotly\"], function(Plotly) { window.PLOTLYENV=window.PLOTLYENV || {};window.PLOTLYENV.BASE_URL=\"https://plot.ly\";Plotly.newPlot(\"d61eb737-729f-4bf3-accc-747fe1a3c3f2\", [{\"type\": \"scatter\", \"x\": [15.495000000000001, 0.8533333333333334, 0.0, 1.975, 4.21, 4.875, 0.0, 5.183333333333333, 4.9350000000000005, 5.18, 6.163333333333333, 8.335, 7.155, 9.415000000000001, 7.035, 7.5, 5.2225, 5.25, 5.42, 4.076666666666667, 8.26, 7.319999999999999, 7.543333333333333, 6.81, 4.244000000000001, 10.893333333333333, 6.0325, 3.364, 3.8560000000000003, 6.8325, 7.404999999999999, 0.0, 7.135, 7.649999999999999, 7.302, 14.7, 12.5, 5.294, 9.275, 9.25, 6.268000000000001, 8.76, 6.2459999999999996, 7.970000000000001, 13.709999999999999, 13.95, 6.077999999999999, 13.705000000000002, 21.424999999999997], \"y\": [0.0, 0.0182648401826484, 0.0, 0.023004542504866967, 0.016460905349794237, 0.0, 0.0, 0.0, 0.0, 0.012345679012345678, 0.006060606060606061, 0.0, 0.0, 0.0, 0.0, 0.0, 0.02828514263585904, 0.015239783856805134, 0.0, 0.026217228464419474, 0.0, 0.03580729166666667, 0.018518518518518517, 0.027871952766438342, 0.04178122711181409, 0.012499999999999999, 0.04313875598086124, 0.03825287810981931, 0.03344741514954281, 0.04718983514087169, 0.0, 0.0, 0.030047822092393227, 0.022222222222222223, 0.03331438207440022, 0.0, 0.0, 0.0378122806354233, 0.04516422251848261, 0.041861585030269675, 0.029064426789995018, 0.0, 0.039877418563261845, 0.04007998783099119, 0.02588996763754045, 0.0, 0.046207194549367434, 0.049906176157160725, 0.0], \"mode\": \"markers\", \"text\": [\"TRABAJO FIN DE GRADO (MATEM\\u00c1TICAS)\", \"AN\\u00c1LISIS DE FOURIER Y ECUACIONES EN DERIVADAS PARCIALES\", \"SISTEMAS DIN\\u00c1MICOS\", \"FUNCIONES DE VARIAS VARIABLES II\", \"INTRODUCCI\\u00d3N A LAS ECUACIONES DIFERENCIALES\", \"INTRODUCCI\\u00d3N A LA ASTRONOM\\u00cdA\", \"GEOMETR\\u00cdA DIFERENCIAL\", \"MODELIZACI\\u00d3N\", \"HISTORIA DE LAS MATEM\\u00c1TICAS\", \"CAMPOS Y FORMAS\", \"RESOLUCI\\u00d3N NUM\\u00c9RICA DE ECUACIONES\", \"INTEGRAL DE LEBESGUE\", \"TEOR\\u00cdA DE MUESTRAS\", \"AMPLIACI\\u00d3N DE TOPOLOG\\u00cdA\", \"INGL\\u00c9S CIENT\\u00cdFICO\", \"TEOR\\u00cdA DE JUEGOS (MATEM\\u00c1TICAS)\", \"LENGUAJES DE PROGRAMACI\\u00d3N\", \"HERRAMIENTAS INFORM\\u00c1TICAS PARA MATEM\\u00c1TICAS\", \"AMPLIACI\\u00d3N DE VARIABLE COMPLEJA\", \"TOPOLOG\\u00cdA\", \"ASTROF\\u00cdSICA GENERAL\", \"AN\\u00c1LISIS NUM\\u00c9RICO MATRICIAL E INTERPOLACI\\u00d3N\", \"GEOMETR\\u00cdA DIFERENCIAL DE CURVAS Y SUPERFICIES\", \"FUNCIONES DE VARIAS VARIABLES I\", \"ESTAD\\u00cdSTICA B\\u00c1SICA\", \"INTRODUCCI\\u00d3N A LOS ESPACIOS DE HILBERT\", \"PROGRAMACI\\u00d3N LINEAL Y ENTERA\", \"FUNCIONES DE UNA VARIABLE I\", \"GEOMETR\\u00cdA B\\u00c1SICA\", \"\\u00c1LGEBRA (MATEM\\u00c1TICAS)\", \"AN\\u00c1LISIS MULTIVARIANTE (MATEM\\u00c1TICAS)\", \"F\\u00cdSICA MATEM\\u00c1TICA\", \"VARIABLE COMPLEJA\", \"INFERENCIA ESTAD\\u00cdSTICA (MATEM\\u00c1TICAS)\", \"MATEM\\u00c1TICA DISCRETA\", \"MODELOS DE REGRESI\\u00d3N\", \"ESPACIOS NORMADOS\", \"LENGUAJE MATEM\\u00c1TICO, CONJUNTOS Y N\\u00daMEROS\", \"ESTRUCTURAS ALGEBRAICAS\", \"GEOMETR\\u00cdAS LINEALES\", \"\\u00c1LGEBRA LINEAL I\", \"PROCESOS ESTOC\\u00c1STICOS\", \"FUNCIONES DE UNA VARIABLE II\", \"\\u00c1LGEBRA LINEAL II\", \"C\\u00c1LCULO DE PROBABILIDADES II\", \"TEOR\\u00cdA DE LA DECISI\\u00d3N\", \"F\\u00cdSICA\", \"C\\u00c1LCULO DE PROBABILIDADES I\", \"MODELOS ESTOC\\u00c1STICOS\"], \"marker\": {\"symbol\": \"circle\", \"sizeref\": 0.01, \"size\": [0.0, 0.08293460925039875, 0.08333333333333337, 0.1027468433433758, 0.116971916971917, 0.12291666666666667, 0.1333333333333333, 0.17206243032329993, 0.17329545454545459, 0.17717789456919897, 0.18468013468013467, 0.18518518518518512, 0.1875, 0.20138888888888884, 0.22115384615384615, 0.23297491039426532, 0.2540143845122267, 0.2567603149762774, 0.286096256684492, 0.28776893604479825, 0.3194444444444444, 0.3436762342727042, 0.3515432098765433, 0.3537706326659483, 0.3566705795723386, 0.3606469002695417, 0.36261525139703976, 0.37963427468510424, 0.3963074754578392, 0.40389651738581256, 0.4076923076923077, 0.41666666666666674, 0.41812435500516, 0.43510737628384677, 0.43877443205172006, 0.45268542199488493, 0.4605263157894737, 0.4609848589108976, 0.46910210686216236, 0.4777318548387096, 0.5076496605533384, 0.5083333333333333, 0.5311091209988269, 0.5521222663562069, 0.5782173477825652, 0.6015151515151516, 0.6080241657232449, 0.670139551436403, 0.8365384615384616], \"sizemode\": \"diameter\", \"color\": [0.0, 0.08293460925039875, 0.08333333333333337, 0.1027468433433758, 0.116971916971917, 0.12291666666666667, 0.1333333333333333, 0.17206243032329993, 0.17329545454545459, 0.17717789456919897, 0.18468013468013467, 0.18518518518518512, 0.1875, 0.20138888888888884, 0.22115384615384615, 0.23297491039426532, 0.2540143845122267, 0.2567603149762774, 0.286096256684492, 0.28776893604479825, 0.3194444444444444, 0.3436762342727042, 0.3515432098765433, 0.3537706326659483, 0.3566705795723386, 0.3606469002695417, 0.36261525139703976, 0.37963427468510424, 0.3963074754578392, 0.40389651738581256, 0.4076923076923077, 0.41666666666666674, 0.41812435500516, 0.43510737628384677, 0.43877443205172006, 0.45268542199488493, 0.4605263157894737, 0.4609848589108976, 0.46910210686216236, 0.4777318548387096, 0.5076496605533384, 0.5083333333333333, 0.5311091209988269, 0.5521222663562069, 0.5782173477825652, 0.6015151515151516, 0.6080241657232449, 0.670139551436403, 0.8365384615384616], \"showscale\": true, \"line\": {\"width\": 2}}}], {\"title\": \"Resumen\", \"font\": {\"size\": 12}, \"xaxis\": {\"title\": \"Porcentaje de alumnos que realizan 2 examenes\"}, \"yaxis\": {\"title\": \"Porcentaje de alumnos que se matriculan por 3\\u00aa vez\"}, \"hovermode\": \"closest\"}, {\"showLink\": true, \"linkText\": \"Export to plot.ly\"})});</script>"
      ],
      "text/plain": [
       "<IPython.core.display.HTML object>"
      ]
     },
     "metadata": {},
     "output_type": "display_data"
    }
   ],
   "source": [
    "medias.sort_values(by='Tasa exito examen', ascending=False, inplace=True)\n",
    "\n",
    "trace = go.Scatter(\n",
    "    x = medias['% ESTUD. 2 EXÁM.'].values,\n",
    "    y = medias['% creditos matric. 3 vez'].values,\n",
    "    mode='markers',\n",
    "    text = medias['Asignatura'],\n",
    "    marker=dict(\n",
    "        symbol='circle',\n",
    "        sizeref=0.01,\n",
    "        size= 1 - medias['Tasa exito examen'].values,\n",
    "        sizemode='diameter',\n",
    "        color= 1 - medias['Tasa exito examen'].values,\n",
    "        showscale = True,\n",
    "        line=dict(\n",
    "            width=2\n",
    "        ),\n",
    "    )\n",
    ")\n",
    "\n",
    "d = [trace]\n",
    "layout = go.Layout(\n",
    "    title='Resumen',\n",
    "    font=dict(size=12),\n",
    "    xaxis=dict(title='Porcentaje de alumnos que realizan 2 examenes'),\n",
    "    yaxis=dict(title='Porcentaje de alumnos que se matriculan por 3ª vez'),\n",
    "    hovermode = 'closest'\n",
    ")\n",
    "fig = go.Figure(data=d, layout=layout)\n",
    "py.iplot(fig)"
   ]
  },
  {
   "cell_type": "markdown",
   "metadata": {},
   "source": [
    "Como conclusión: debemos dar gracias de que Modelos estocásticos es una optativa!"
   ]
  }
 ],
 "metadata": {
  "kernelspec": {
   "display_name": "Python 3",
   "language": "python",
   "name": "python3"
  },
  "language_info": {
   "codemirror_mode": {
    "name": "ipython",
    "version": 3
   },
   "file_extension": ".py",
   "mimetype": "text/x-python",
   "name": "python",
   "nbconvert_exporter": "python",
   "pygments_lexer": "ipython3",
   "version": "3.6.0"
  }
 },
 "nbformat": 4,
 "nbformat_minor": 0
}
